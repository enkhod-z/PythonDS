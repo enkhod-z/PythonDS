{
 "cells": [
  {
   "cell_type": "markdown",
   "metadata": {
    "tags": []
   },
   "source": [
    "# Reproductive Health Survey #"
   ]
  },
  {
   "cell_type": "markdown",
   "metadata": {},
   "source": [
    "This is a dataset from the Mongolian Statistical Microdata. The Reproductive Health Survey was conducted by NSO for 3 times, the previous two times were in 1998 and 2003. As it is stated on the website \"The importance of this survey is to provide data for a wide range of activities, including monitoring the indicators of the Millenium Development Goals, evaluating policies at the international and national levels, assessing required measures related to programme implementation in the future, and conducting additional in-depth research and analysis\". The survey's purpose was to gather data on the reproductive health indicators such as fertility, infant and child mortality, factors affecting mortality, child health, family planning and STI/HIV/AIDS, women's knowledge on reproductive diseases, etc.\n",
    "\n",
    "I wanted to know the situation of women in Mongolia, especially those who have children. There were three datasets in this survey, but I decided to use only one dataset `women`. I don't think I am able to fully use all the data provided in this survey, but hopefully in the future I will be able to do that. \n",
    "\n",
    "I chose the Reproductive Health Survey 2008 from the [Microdata of National Statistics Office of Mongolia](http://web.nso.mn/nada/index.php/catalog/74/study-description)"
   ]
  },
  {
   "cell_type": "markdown",
   "metadata": {
    "tags": []
   },
   "source": [
    "## 1. Importing Libraries ##"
   ]
  },
  {
   "cell_type": "code",
   "execution_count": 240,
   "metadata": {},
   "outputs": [],
   "source": [
    "import pandas as pd\n",
    "import numpy as np\n",
    "import matplotlib.pyplot as plt"
   ]
  },
  {
   "cell_type": "markdown",
   "metadata": {},
   "source": [
    "## 2. Importing the dataset ##"
   ]
  },
  {
   "cell_type": "code",
   "execution_count": 241,
   "metadata": {
    "tags": []
   },
   "outputs": [],
   "source": [
    "women = pd.read_spss('Women.sav')"
   ]
  },
  {
   "cell_type": "code",
   "execution_count": 242,
   "metadata": {},
   "outputs": [
    {
     "data": {
      "text/html": [
       "<div>\n",
       "<style scoped>\n",
       "    .dataframe tbody tr th:only-of-type {\n",
       "        vertical-align: middle;\n",
       "    }\n",
       "\n",
       "    .dataframe tbody tr th {\n",
       "        vertical-align: top;\n",
       "    }\n",
       "\n",
       "    .dataframe thead th {\n",
       "        text-align: right;\n",
       "    }\n",
       "</style>\n",
       "<table border=\"1\" class=\"dataframe\">\n",
       "  <thead>\n",
       "    <tr style=\"text-align: right;\">\n",
       "      <th></th>\n",
       "      <th>CLUSTER</th>\n",
       "      <th>HHN</th>\n",
       "      <th>RESPNO</th>\n",
       "      <th>H36</th>\n",
       "      <th>HUSQUEST</th>\n",
       "      <th>HUSLN</th>\n",
       "      <th>WMONTH</th>\n",
       "      <th>WDAY</th>\n",
       "      <th>region</th>\n",
       "      <th>WRESULT</th>\n",
       "      <th>...</th>\n",
       "      <th>H418B</th>\n",
       "      <th>H419</th>\n",
       "      <th>H420</th>\n",
       "      <th>H421</th>\n",
       "      <th>H422</th>\n",
       "      <th>H423A</th>\n",
       "      <th>H423B</th>\n",
       "      <th>H424</th>\n",
       "      <th>H425H</th>\n",
       "      <th>H425M</th>\n",
       "    </tr>\n",
       "  </thead>\n",
       "  <tbody>\n",
       "    <tr>\n",
       "      <th>0</th>\n",
       "      <td>1.0</td>\n",
       "      <td>1.0</td>\n",
       "      <td>2.0</td>\n",
       "      <td>Less than 28264</td>\n",
       "      <td>Yes</td>\n",
       "      <td>1.0</td>\n",
       "      <td>9.0</td>\n",
       "      <td>22.0</td>\n",
       "      <td>Central</td>\n",
       "      <td>Completed</td>\n",
       "      <td>...</td>\n",
       "      <td>NaN</td>\n",
       "      <td>NaN</td>\n",
       "      <td>NaN</td>\n",
       "      <td>NaN</td>\n",
       "      <td>I did not have time</td>\n",
       "      <td>Months ago</td>\n",
       "      <td>1.0</td>\n",
       "      <td>NaN</td>\n",
       "      <td>16.0</td>\n",
       "      <td>15.0</td>\n",
       "    </tr>\n",
       "    <tr>\n",
       "      <th>1</th>\n",
       "      <td>1.0</td>\n",
       "      <td>2.0</td>\n",
       "      <td>2.0</td>\n",
       "      <td>28265-70660</td>\n",
       "      <td>Yes</td>\n",
       "      <td>1.0</td>\n",
       "      <td>9.0</td>\n",
       "      <td>24.0</td>\n",
       "      <td>Central</td>\n",
       "      <td>Completed</td>\n",
       "      <td>...</td>\n",
       "      <td>NaN</td>\n",
       "      <td>NaN</td>\n",
       "      <td>NaN</td>\n",
       "      <td>NaN</td>\n",
       "      <td>I did not have time</td>\n",
       "      <td>Days ago</td>\n",
       "      <td>7.0</td>\n",
       "      <td>3.0</td>\n",
       "      <td>10.0</td>\n",
       "      <td>50.0</td>\n",
       "    </tr>\n",
       "    <tr>\n",
       "      <th>2</th>\n",
       "      <td>1.0</td>\n",
       "      <td>3.0</td>\n",
       "      <td>2.0</td>\n",
       "      <td>28265-70660</td>\n",
       "      <td>Yes</td>\n",
       "      <td>1.0</td>\n",
       "      <td>9.0</td>\n",
       "      <td>23.0</td>\n",
       "      <td>Central</td>\n",
       "      <td>Completed</td>\n",
       "      <td>...</td>\n",
       "      <td>NaN</td>\n",
       "      <td>NaN</td>\n",
       "      <td>NaN</td>\n",
       "      <td>NaN</td>\n",
       "      <td>I don't think I am at risk of having HIV</td>\n",
       "      <td>Days ago</td>\n",
       "      <td>1.0</td>\n",
       "      <td>3.0</td>\n",
       "      <td>16.0</td>\n",
       "      <td>37.0</td>\n",
       "    </tr>\n",
       "    <tr>\n",
       "      <th>3</th>\n",
       "      <td>1.0</td>\n",
       "      <td>4.0</td>\n",
       "      <td>2.0</td>\n",
       "      <td>28265-70660</td>\n",
       "      <td>Yes</td>\n",
       "      <td>1.0</td>\n",
       "      <td>9.0</td>\n",
       "      <td>23.0</td>\n",
       "      <td>Central</td>\n",
       "      <td>Completed</td>\n",
       "      <td>...</td>\n",
       "      <td>NaN</td>\n",
       "      <td>NaN</td>\n",
       "      <td>NaN</td>\n",
       "      <td>NaN</td>\n",
       "      <td>I don't think I am at risk of having HIV</td>\n",
       "      <td>Weeks ago</td>\n",
       "      <td>1.0</td>\n",
       "      <td>3.0</td>\n",
       "      <td>16.0</td>\n",
       "      <td>10.0</td>\n",
       "    </tr>\n",
       "    <tr>\n",
       "      <th>4</th>\n",
       "      <td>1.0</td>\n",
       "      <td>5.0</td>\n",
       "      <td>2.0</td>\n",
       "      <td>28265-70660</td>\n",
       "      <td>Yes</td>\n",
       "      <td>1.0</td>\n",
       "      <td>9.0</td>\n",
       "      <td>22.0</td>\n",
       "      <td>Central</td>\n",
       "      <td>Completed</td>\n",
       "      <td>...</td>\n",
       "      <td>NaN</td>\n",
       "      <td>NaN</td>\n",
       "      <td>NaN</td>\n",
       "      <td>NaN</td>\n",
       "      <td>Did not know that HIV testing is available</td>\n",
       "      <td>Days ago</td>\n",
       "      <td>2.0</td>\n",
       "      <td>3.0</td>\n",
       "      <td>15.0</td>\n",
       "      <td>18.0</td>\n",
       "    </tr>\n",
       "    <tr>\n",
       "      <th>...</th>\n",
       "      <td>...</td>\n",
       "      <td>...</td>\n",
       "      <td>...</td>\n",
       "      <td>...</td>\n",
       "      <td>...</td>\n",
       "      <td>...</td>\n",
       "      <td>...</td>\n",
       "      <td>...</td>\n",
       "      <td>...</td>\n",
       "      <td>...</td>\n",
       "      <td>...</td>\n",
       "      <td>...</td>\n",
       "      <td>...</td>\n",
       "      <td>...</td>\n",
       "      <td>...</td>\n",
       "      <td>...</td>\n",
       "      <td>...</td>\n",
       "      <td>...</td>\n",
       "      <td>...</td>\n",
       "      <td>...</td>\n",
       "      <td>...</td>\n",
       "    </tr>\n",
       "    <tr>\n",
       "      <th>9520</th>\n",
       "      <td>280.0</td>\n",
       "      <td>26.0</td>\n",
       "      <td>3.0</td>\n",
       "      <td>More than 123786</td>\n",
       "      <td>No</td>\n",
       "      <td>NaN</td>\n",
       "      <td>11.0</td>\n",
       "      <td>19.0</td>\n",
       "      <td>South</td>\n",
       "      <td>Completed</td>\n",
       "      <td>...</td>\n",
       "      <td>NaN</td>\n",
       "      <td>NaN</td>\n",
       "      <td>NaN</td>\n",
       "      <td>NaN</td>\n",
       "      <td>NaN</td>\n",
       "      <td>NaN</td>\n",
       "      <td>NaN</td>\n",
       "      <td>NaN</td>\n",
       "      <td>NaN</td>\n",
       "      <td>NaN</td>\n",
       "    </tr>\n",
       "    <tr>\n",
       "      <th>9521</th>\n",
       "      <td>280.0</td>\n",
       "      <td>27.0</td>\n",
       "      <td>2.0</td>\n",
       "      <td>Less than 28264</td>\n",
       "      <td>Yes</td>\n",
       "      <td>1.0</td>\n",
       "      <td>11.0</td>\n",
       "      <td>19.0</td>\n",
       "      <td>South</td>\n",
       "      <td>Completed</td>\n",
       "      <td>...</td>\n",
       "      <td>NaN</td>\n",
       "      <td>NaN</td>\n",
       "      <td>NaN</td>\n",
       "      <td>NaN</td>\n",
       "      <td>I don't think I am at risk of having HIV</td>\n",
       "      <td>Months ago</td>\n",
       "      <td>2.0</td>\n",
       "      <td>NaN</td>\n",
       "      <td>21.0</td>\n",
       "      <td>50.0</td>\n",
       "    </tr>\n",
       "    <tr>\n",
       "      <th>9522</th>\n",
       "      <td>280.0</td>\n",
       "      <td>28.0</td>\n",
       "      <td>2.0</td>\n",
       "      <td>Less than 28264</td>\n",
       "      <td>No</td>\n",
       "      <td>NaN</td>\n",
       "      <td>11.0</td>\n",
       "      <td>19.0</td>\n",
       "      <td>South</td>\n",
       "      <td>Completed</td>\n",
       "      <td>...</td>\n",
       "      <td>NaN</td>\n",
       "      <td>NaN</td>\n",
       "      <td>NaN</td>\n",
       "      <td>NaN</td>\n",
       "      <td>NaN</td>\n",
       "      <td>NaN</td>\n",
       "      <td>NaN</td>\n",
       "      <td>NaN</td>\n",
       "      <td>NaN</td>\n",
       "      <td>NaN</td>\n",
       "    </tr>\n",
       "    <tr>\n",
       "      <th>9523</th>\n",
       "      <td>280.0</td>\n",
       "      <td>29.0</td>\n",
       "      <td>2.0</td>\n",
       "      <td>28265-70660</td>\n",
       "      <td>No</td>\n",
       "      <td>NaN</td>\n",
       "      <td>11.0</td>\n",
       "      <td>19.0</td>\n",
       "      <td>South</td>\n",
       "      <td>Completed</td>\n",
       "      <td>...</td>\n",
       "      <td>NaN</td>\n",
       "      <td>NaN</td>\n",
       "      <td>NaN</td>\n",
       "      <td>NaN</td>\n",
       "      <td>NaN</td>\n",
       "      <td>NaN</td>\n",
       "      <td>NaN</td>\n",
       "      <td>NaN</td>\n",
       "      <td>NaN</td>\n",
       "      <td>NaN</td>\n",
       "    </tr>\n",
       "    <tr>\n",
       "      <th>9524</th>\n",
       "      <td>280.0</td>\n",
       "      <td>30.0</td>\n",
       "      <td>2.0</td>\n",
       "      <td>28265-70660</td>\n",
       "      <td>No</td>\n",
       "      <td>NaN</td>\n",
       "      <td>11.0</td>\n",
       "      <td>19.0</td>\n",
       "      <td>South</td>\n",
       "      <td>Completed</td>\n",
       "      <td>...</td>\n",
       "      <td>NaN</td>\n",
       "      <td>NaN</td>\n",
       "      <td>NaN</td>\n",
       "      <td>NaN</td>\n",
       "      <td>NaN</td>\n",
       "      <td>NaN</td>\n",
       "      <td>NaN</td>\n",
       "      <td>NaN</td>\n",
       "      <td>NaN</td>\n",
       "      <td>NaN</td>\n",
       "    </tr>\n",
       "  </tbody>\n",
       "</table>\n",
       "<p>9525 rows × 627 columns</p>\n",
       "</div>"
      ],
      "text/plain": [
       "      CLUSTER   HHN  RESPNO               H36 HUSQUEST  HUSLN  WMONTH  WDAY  \\\n",
       "0         1.0   1.0     2.0   Less than 28264      Yes    1.0     9.0  22.0   \n",
       "1         1.0   2.0     2.0       28265-70660      Yes    1.0     9.0  24.0   \n",
       "2         1.0   3.0     2.0       28265-70660      Yes    1.0     9.0  23.0   \n",
       "3         1.0   4.0     2.0       28265-70660      Yes    1.0     9.0  23.0   \n",
       "4         1.0   5.0     2.0       28265-70660      Yes    1.0     9.0  22.0   \n",
       "...       ...   ...     ...               ...      ...    ...     ...   ...   \n",
       "9520    280.0  26.0     3.0  More than 123786       No    NaN    11.0  19.0   \n",
       "9521    280.0  27.0     2.0   Less than 28264      Yes    1.0    11.0  19.0   \n",
       "9522    280.0  28.0     2.0   Less than 28264       No    NaN    11.0  19.0   \n",
       "9523    280.0  29.0     2.0       28265-70660       No    NaN    11.0  19.0   \n",
       "9524    280.0  30.0     2.0       28265-70660       No    NaN    11.0  19.0   \n",
       "\n",
       "       region    WRESULT  ...  H418B  H419  H420  H421  \\\n",
       "0     Central  Completed  ...    NaN   NaN   NaN   NaN   \n",
       "1     Central  Completed  ...    NaN   NaN   NaN   NaN   \n",
       "2     Central  Completed  ...    NaN   NaN   NaN   NaN   \n",
       "3     Central  Completed  ...    NaN   NaN   NaN   NaN   \n",
       "4     Central  Completed  ...    NaN   NaN   NaN   NaN   \n",
       "...       ...        ...  ...    ...   ...   ...   ...   \n",
       "9520    South  Completed  ...    NaN   NaN   NaN   NaN   \n",
       "9521    South  Completed  ...    NaN   NaN   NaN   NaN   \n",
       "9522    South  Completed  ...    NaN   NaN   NaN   NaN   \n",
       "9523    South  Completed  ...    NaN   NaN   NaN   NaN   \n",
       "9524    South  Completed  ...    NaN   NaN   NaN   NaN   \n",
       "\n",
       "                                            H422       H423A H423B H424 H425H  \\\n",
       "0                            I did not have time  Months ago   1.0  NaN  16.0   \n",
       "1                            I did not have time    Days ago   7.0  3.0  10.0   \n",
       "2       I don't think I am at risk of having HIV    Days ago   1.0  3.0  16.0   \n",
       "3       I don't think I am at risk of having HIV   Weeks ago   1.0  3.0  16.0   \n",
       "4     Did not know that HIV testing is available    Days ago   2.0  3.0  15.0   \n",
       "...                                          ...         ...   ...  ...   ...   \n",
       "9520                                         NaN         NaN   NaN  NaN   NaN   \n",
       "9521    I don't think I am at risk of having HIV  Months ago   2.0  NaN  21.0   \n",
       "9522                                         NaN         NaN   NaN  NaN   NaN   \n",
       "9523                                         NaN         NaN   NaN  NaN   NaN   \n",
       "9524                                         NaN         NaN   NaN  NaN   NaN   \n",
       "\n",
       "     H425M  \n",
       "0     15.0  \n",
       "1     50.0  \n",
       "2     37.0  \n",
       "3     10.0  \n",
       "4     18.0  \n",
       "...    ...  \n",
       "9520   NaN  \n",
       "9521  50.0  \n",
       "9522   NaN  \n",
       "9523   NaN  \n",
       "9524   NaN  \n",
       "\n",
       "[9525 rows x 627 columns]"
      ]
     },
     "execution_count": 242,
     "metadata": {},
     "output_type": "execute_result"
    }
   ],
   "source": [
    "women"
   ]
  },
  {
   "cell_type": "markdown",
   "metadata": {
    "tags": []
   },
   "source": [
    "## 3. Data Cleaning ##"
   ]
  },
  {
   "cell_type": "code",
   "execution_count": 243,
   "metadata": {},
   "outputs": [],
   "source": [
    "columns_women = ['Q102', 'Q106W', 'Q112', 'Q116', 'Q200', 'Q209', 'Q207', 'Q501', 'Q502', 'Q506']"
   ]
  },
  {
   "cell_type": "code",
   "execution_count": 244,
   "metadata": {},
   "outputs": [],
   "source": [
    "women = women[columns_women]"
   ]
  },
  {
   "cell_type": "code",
   "execution_count": 245,
   "metadata": {},
   "outputs": [
    {
     "name": "stderr",
     "output_type": "stream",
     "text": [
      "C:\\DataScience\\envs\\intro-python\\lib\\site-packages\\pandas\\core\\frame.py:5034: SettingWithCopyWarning: \n",
      "A value is trying to be set on a copy of a slice from a DataFrame\n",
      "\n",
      "See the caveats in the documentation: https://pandas.pydata.org/pandas-docs/stable/user_guide/indexing.html#returning-a-view-versus-a-copy\n",
      "  return super().rename(\n"
     ]
    }
   ],
   "source": [
    "women.rename(columns= ({'Q102': 'Current age', 'Q106W': 'Education', 'Q112': 'Marital status', \n",
    "                        'Q116': 'Age at marriage', 'Q200': 'Ever given birth', 'Q209': 'Age at first birth', \n",
    "                        'Q207': 'Total number of children', 'Q501': 'Want more children', \n",
    "                        'Q502': 'Number of additional children wanted', 'Q506': 'Ideal number of children'}), inplace=True)"
   ]
  },
  {
   "cell_type": "code",
   "execution_count": 246,
   "metadata": {},
   "outputs": [
    {
     "data": {
      "text/html": [
       "<div>\n",
       "<style scoped>\n",
       "    .dataframe tbody tr th:only-of-type {\n",
       "        vertical-align: middle;\n",
       "    }\n",
       "\n",
       "    .dataframe tbody tr th {\n",
       "        vertical-align: top;\n",
       "    }\n",
       "\n",
       "    .dataframe thead th {\n",
       "        text-align: right;\n",
       "    }\n",
       "</style>\n",
       "<table border=\"1\" class=\"dataframe\">\n",
       "  <thead>\n",
       "    <tr style=\"text-align: right;\">\n",
       "      <th></th>\n",
       "      <th>Current age</th>\n",
       "      <th>Education</th>\n",
       "      <th>Marital status</th>\n",
       "      <th>Age at marriage</th>\n",
       "      <th>Ever given birth</th>\n",
       "      <th>Age at first birth</th>\n",
       "      <th>Total number of children</th>\n",
       "      <th>Want more children</th>\n",
       "      <th>Number of additional children wanted</th>\n",
       "      <th>Ideal number of children</th>\n",
       "    </tr>\n",
       "  </thead>\n",
       "  <tbody>\n",
       "    <tr>\n",
       "      <th>0</th>\n",
       "      <td>27.0</td>\n",
       "      <td>Primary or Less</td>\n",
       "      <td>Married</td>\n",
       "      <td>18.0</td>\n",
       "      <td>Yes</td>\n",
       "      <td>19.0</td>\n",
       "      <td>2.0</td>\n",
       "      <td>Undecided</td>\n",
       "      <td>NaN</td>\n",
       "      <td>3.0</td>\n",
       "    </tr>\n",
       "    <tr>\n",
       "      <th>1</th>\n",
       "      <td>44.0</td>\n",
       "      <td>Incomplete Secondary</td>\n",
       "      <td>Married</td>\n",
       "      <td>18.0</td>\n",
       "      <td>Yes</td>\n",
       "      <td>20.0</td>\n",
       "      <td>5.0</td>\n",
       "      <td>No</td>\n",
       "      <td>NaN</td>\n",
       "      <td>4.0</td>\n",
       "    </tr>\n",
       "    <tr>\n",
       "      <th>2</th>\n",
       "      <td>30.0</td>\n",
       "      <td>Incomplete Secondary</td>\n",
       "      <td>Married</td>\n",
       "      <td>22.0</td>\n",
       "      <td>Yes</td>\n",
       "      <td>22.0</td>\n",
       "      <td>2.0</td>\n",
       "      <td>Yes</td>\n",
       "      <td>1.0</td>\n",
       "      <td>3.0</td>\n",
       "    </tr>\n",
       "    <tr>\n",
       "      <th>3</th>\n",
       "      <td>24.0</td>\n",
       "      <td>Complete Secondary</td>\n",
       "      <td>Married</td>\n",
       "      <td>18.0</td>\n",
       "      <td>Yes</td>\n",
       "      <td>19.0</td>\n",
       "      <td>2.0</td>\n",
       "      <td>Undecided</td>\n",
       "      <td>NaN</td>\n",
       "      <td>3.0</td>\n",
       "    </tr>\n",
       "    <tr>\n",
       "      <th>4</th>\n",
       "      <td>23.0</td>\n",
       "      <td>Primary or Less</td>\n",
       "      <td>Married</td>\n",
       "      <td>23.0</td>\n",
       "      <td>Yes</td>\n",
       "      <td>20.0</td>\n",
       "      <td>1.0</td>\n",
       "      <td>Yes</td>\n",
       "      <td>1.0</td>\n",
       "      <td>2.0</td>\n",
       "    </tr>\n",
       "    <tr>\n",
       "      <th>...</th>\n",
       "      <td>...</td>\n",
       "      <td>...</td>\n",
       "      <td>...</td>\n",
       "      <td>...</td>\n",
       "      <td>...</td>\n",
       "      <td>...</td>\n",
       "      <td>...</td>\n",
       "      <td>...</td>\n",
       "      <td>...</td>\n",
       "      <td>...</td>\n",
       "    </tr>\n",
       "    <tr>\n",
       "      <th>9520</th>\n",
       "      <td>23.0</td>\n",
       "      <td>More than Secondary</td>\n",
       "      <td>Single</td>\n",
       "      <td>NaN</td>\n",
       "      <td>No</td>\n",
       "      <td>NaN</td>\n",
       "      <td>No child</td>\n",
       "      <td>Yes</td>\n",
       "      <td>3.0</td>\n",
       "      <td>3.0</td>\n",
       "    </tr>\n",
       "    <tr>\n",
       "      <th>9521</th>\n",
       "      <td>35.0</td>\n",
       "      <td>Primary or Less</td>\n",
       "      <td>Married</td>\n",
       "      <td>23.0</td>\n",
       "      <td>Yes</td>\n",
       "      <td>25.0</td>\n",
       "      <td>3.0</td>\n",
       "      <td>No</td>\n",
       "      <td>NaN</td>\n",
       "      <td>5.0</td>\n",
       "    </tr>\n",
       "    <tr>\n",
       "      <th>9522</th>\n",
       "      <td>30.0</td>\n",
       "      <td>Complete Secondary</td>\n",
       "      <td>Married</td>\n",
       "      <td>22.0</td>\n",
       "      <td>Yes</td>\n",
       "      <td>22.0</td>\n",
       "      <td>2.0</td>\n",
       "      <td>Undecided</td>\n",
       "      <td>NaN</td>\n",
       "      <td>3.0</td>\n",
       "    </tr>\n",
       "    <tr>\n",
       "      <th>9523</th>\n",
       "      <td>34.0</td>\n",
       "      <td>Complete Secondary</td>\n",
       "      <td>Married</td>\n",
       "      <td>20.0</td>\n",
       "      <td>Yes</td>\n",
       "      <td>21.0</td>\n",
       "      <td>3.0</td>\n",
       "      <td>Yes</td>\n",
       "      <td>1.0</td>\n",
       "      <td>4.0</td>\n",
       "    </tr>\n",
       "    <tr>\n",
       "      <th>9524</th>\n",
       "      <td>32.0</td>\n",
       "      <td>Complete Secondary</td>\n",
       "      <td>Married</td>\n",
       "      <td>18.0</td>\n",
       "      <td>Yes</td>\n",
       "      <td>20.0</td>\n",
       "      <td>3.0</td>\n",
       "      <td>No</td>\n",
       "      <td>NaN</td>\n",
       "      <td>3.0</td>\n",
       "    </tr>\n",
       "  </tbody>\n",
       "</table>\n",
       "<p>9525 rows × 10 columns</p>\n",
       "</div>"
      ],
      "text/plain": [
       "      Current age             Education Marital status  Age at marriage  \\\n",
       "0            27.0       Primary or Less        Married             18.0   \n",
       "1            44.0  Incomplete Secondary        Married             18.0   \n",
       "2            30.0  Incomplete Secondary        Married             22.0   \n",
       "3            24.0    Complete Secondary        Married             18.0   \n",
       "4            23.0       Primary or Less        Married             23.0   \n",
       "...           ...                   ...            ...              ...   \n",
       "9520         23.0   More than Secondary         Single              NaN   \n",
       "9521         35.0       Primary or Less        Married             23.0   \n",
       "9522         30.0    Complete Secondary        Married             22.0   \n",
       "9523         34.0    Complete Secondary        Married             20.0   \n",
       "9524         32.0    Complete Secondary        Married             18.0   \n",
       "\n",
       "     Ever given birth  Age at first birth Total number of children  \\\n",
       "0                 Yes                19.0                      2.0   \n",
       "1                 Yes                20.0                      5.0   \n",
       "2                 Yes                22.0                      2.0   \n",
       "3                 Yes                19.0                      2.0   \n",
       "4                 Yes                20.0                      1.0   \n",
       "...               ...                 ...                      ...   \n",
       "9520               No                 NaN                 No child   \n",
       "9521              Yes                25.0                      3.0   \n",
       "9522              Yes                22.0                      2.0   \n",
       "9523              Yes                21.0                      3.0   \n",
       "9524              Yes                20.0                      3.0   \n",
       "\n",
       "     Want more children  Number of additional children wanted  \\\n",
       "0             Undecided                                   NaN   \n",
       "1                    No                                   NaN   \n",
       "2                   Yes                                   1.0   \n",
       "3             Undecided                                   NaN   \n",
       "4                   Yes                                   1.0   \n",
       "...                 ...                                   ...   \n",
       "9520                Yes                                   3.0   \n",
       "9521                 No                                   NaN   \n",
       "9522          Undecided                                   NaN   \n",
       "9523                Yes                                   1.0   \n",
       "9524                 No                                   NaN   \n",
       "\n",
       "      Ideal number of children  \n",
       "0                          3.0  \n",
       "1                          4.0  \n",
       "2                          3.0  \n",
       "3                          3.0  \n",
       "4                          2.0  \n",
       "...                        ...  \n",
       "9520                       3.0  \n",
       "9521                       5.0  \n",
       "9522                       3.0  \n",
       "9523                       4.0  \n",
       "9524                       3.0  \n",
       "\n",
       "[9525 rows x 10 columns]"
      ]
     },
     "execution_count": 246,
     "metadata": {},
     "output_type": "execute_result"
    }
   ],
   "source": [
    "women"
   ]
  },
  {
   "cell_type": "markdown",
   "metadata": {},
   "source": [
    "There were too many columns, so I chose only those I needed/was interested in. The column names made no sense to me, that's why I had to rename all the columns I needed."
   ]
  },
  {
   "cell_type": "code",
   "execution_count": 247,
   "metadata": {},
   "outputs": [
    {
     "data": {
      "text/plain": [
       "(9525, 10)"
      ]
     },
     "execution_count": 247,
     "metadata": {},
     "output_type": "execute_result"
    }
   ],
   "source": [
    "women.shape"
   ]
  },
  {
   "cell_type": "code",
   "execution_count": 248,
   "metadata": {},
   "outputs": [
    {
     "data": {
      "text/plain": [
       "Current age                             True\n",
       "Education                               True\n",
       "Marital status                          True\n",
       "Age at marriage                         True\n",
       "Ever given birth                        True\n",
       "Age at first birth                      True\n",
       "Total number of children                True\n",
       "Want more children                      True\n",
       "Number of additional children wanted    True\n",
       "Ideal number of children                True\n",
       "dtype: bool"
      ]
     },
     "execution_count": 248,
     "metadata": {},
     "output_type": "execute_result"
    }
   ],
   "source": [
    "women.isnull().any()"
   ]
  },
  {
   "cell_type": "code",
   "execution_count": 249,
   "metadata": {},
   "outputs": [
    {
     "data": {
      "text/plain": [
       "Current age                              122\n",
       "Education                                255\n",
       "Marital status                           122\n",
       "Age at marriage                         2132\n",
       "Ever given birth                         123\n",
       "Age at first birth                      2044\n",
       "Total number of children                 122\n",
       "Want more children                       325\n",
       "Number of additional children wanted    5545\n",
       "Ideal number of children                 123\n",
       "dtype: int64"
      ]
     },
     "execution_count": 249,
     "metadata": {},
     "output_type": "execute_result"
    }
   ],
   "source": [
    "women.isnull().sum()"
   ]
  },
  {
   "cell_type": "code",
   "execution_count": 250,
   "metadata": {},
   "outputs": [
    {
     "data": {
      "text/plain": [
       "Current age                             0.012808\n",
       "Education                               0.026772\n",
       "Marital status                          0.012808\n",
       "Age at marriage                         0.223832\n",
       "Ever given birth                        0.012913\n",
       "Age at first birth                      0.214593\n",
       "Total number of children                0.012808\n",
       "Want more children                      0.034121\n",
       "Number of additional children wanted    0.582152\n",
       "Ideal number of children                0.012913\n",
       "dtype: float64"
      ]
     },
     "execution_count": 250,
     "metadata": {},
     "output_type": "execute_result"
    }
   ],
   "source": [
    "women.isnull().sum() / women.shape[0]"
   ]
  },
  {
   "cell_type": "code",
   "execution_count": 251,
   "metadata": {},
   "outputs": [
    {
     "data": {
      "text/plain": [
       "10913"
      ]
     },
     "execution_count": 251,
     "metadata": {},
     "output_type": "execute_result"
    }
   ],
   "source": [
    "women.isnull().sum().sum()"
   ]
  },
  {
   "cell_type": "markdown",
   "metadata": {},
   "source": [
    "I am going to create a mask for the whole dataframe. It will show boolean values whether each cell is NaN or not. This method was shown on the \"Crime Cleaning\" class."
   ]
  },
  {
   "cell_type": "code",
   "execution_count": 252,
   "metadata": {},
   "outputs": [],
   "source": [
    "mask = women.isnull()"
   ]
  },
  {
   "cell_type": "markdown",
   "metadata": {},
   "source": [
    "This is going to look to see if there is at least 1 True value in each row, then we will save that to a row mask."
   ]
  },
  {
   "cell_type": "code",
   "execution_count": 253,
   "metadata": {},
   "outputs": [
    {
     "data": {
      "text/plain": [
       "0        True\n",
       "1        True\n",
       "2       False\n",
       "3        True\n",
       "4       False\n",
       "        ...  \n",
       "9520     True\n",
       "9521     True\n",
       "9522     True\n",
       "9523    False\n",
       "9524     True\n",
       "Length: 9525, dtype: bool"
      ]
     },
     "execution_count": 253,
     "metadata": {},
     "output_type": "execute_result"
    }
   ],
   "source": [
    "row_mask = mask.any(axis=1)\n",
    "row_mask"
   ]
  },
  {
   "cell_type": "code",
   "execution_count": 254,
   "metadata": {},
   "outputs": [],
   "source": [
    "women = women[~row_mask]"
   ]
  },
  {
   "cell_type": "code",
   "execution_count": 255,
   "metadata": {},
   "outputs": [
    {
     "data": {
      "text/plain": [
       "(2182, 10)"
      ]
     },
     "execution_count": 255,
     "metadata": {},
     "output_type": "execute_result"
    }
   ],
   "source": [
    "women.shape"
   ]
  },
  {
   "cell_type": "code",
   "execution_count": 256,
   "metadata": {},
   "outputs": [
    {
     "data": {
      "text/plain": [
       "Current age                             0\n",
       "Education                               0\n",
       "Marital status                          0\n",
       "Age at marriage                         0\n",
       "Ever given birth                        0\n",
       "Age at first birth                      0\n",
       "Total number of children                0\n",
       "Want more children                      0\n",
       "Number of additional children wanted    0\n",
       "Ideal number of children                0\n",
       "dtype: int64"
      ]
     },
     "execution_count": 256,
     "metadata": {},
     "output_type": "execute_result"
    }
   ],
   "source": [
    "women.isnull().sum()"
   ]
  },
  {
   "cell_type": "code",
   "execution_count": 257,
   "metadata": {},
   "outputs": [
    {
     "data": {
      "text/html": [
       "<div>\n",
       "<style scoped>\n",
       "    .dataframe tbody tr th:only-of-type {\n",
       "        vertical-align: middle;\n",
       "    }\n",
       "\n",
       "    .dataframe tbody tr th {\n",
       "        vertical-align: top;\n",
       "    }\n",
       "\n",
       "    .dataframe thead th {\n",
       "        text-align: right;\n",
       "    }\n",
       "</style>\n",
       "<table border=\"1\" class=\"dataframe\">\n",
       "  <thead>\n",
       "    <tr style=\"text-align: right;\">\n",
       "      <th></th>\n",
       "      <th>Current age</th>\n",
       "      <th>Education</th>\n",
       "      <th>Marital status</th>\n",
       "      <th>Age at marriage</th>\n",
       "      <th>Ever given birth</th>\n",
       "      <th>Age at first birth</th>\n",
       "      <th>Total number of children</th>\n",
       "      <th>Want more children</th>\n",
       "      <th>Number of additional children wanted</th>\n",
       "      <th>Ideal number of children</th>\n",
       "    </tr>\n",
       "  </thead>\n",
       "  <tbody>\n",
       "    <tr>\n",
       "      <th>2</th>\n",
       "      <td>30.0</td>\n",
       "      <td>Incomplete Secondary</td>\n",
       "      <td>Married</td>\n",
       "      <td>22.0</td>\n",
       "      <td>Yes</td>\n",
       "      <td>22.0</td>\n",
       "      <td>2.0</td>\n",
       "      <td>Yes</td>\n",
       "      <td>1.0</td>\n",
       "      <td>3.0</td>\n",
       "    </tr>\n",
       "    <tr>\n",
       "      <th>4</th>\n",
       "      <td>23.0</td>\n",
       "      <td>Primary or Less</td>\n",
       "      <td>Married</td>\n",
       "      <td>23.0</td>\n",
       "      <td>Yes</td>\n",
       "      <td>20.0</td>\n",
       "      <td>1.0</td>\n",
       "      <td>Yes</td>\n",
       "      <td>1.0</td>\n",
       "      <td>2.0</td>\n",
       "    </tr>\n",
       "    <tr>\n",
       "      <th>19</th>\n",
       "      <td>30.0</td>\n",
       "      <td>Primary or Less</td>\n",
       "      <td>Married</td>\n",
       "      <td>19.0</td>\n",
       "      <td>Yes</td>\n",
       "      <td>21.0</td>\n",
       "      <td>2.0</td>\n",
       "      <td>Yes</td>\n",
       "      <td>2.0</td>\n",
       "      <td>6.0</td>\n",
       "    </tr>\n",
       "    <tr>\n",
       "      <th>20</th>\n",
       "      <td>20.0</td>\n",
       "      <td>Complete Secondary</td>\n",
       "      <td>Married</td>\n",
       "      <td>20.0</td>\n",
       "      <td>Yes</td>\n",
       "      <td>19.0</td>\n",
       "      <td>1.0</td>\n",
       "      <td>Yes</td>\n",
       "      <td>1.0</td>\n",
       "      <td>2.0</td>\n",
       "    </tr>\n",
       "    <tr>\n",
       "      <th>26</th>\n",
       "      <td>39.0</td>\n",
       "      <td>Complete Secondary</td>\n",
       "      <td>Married</td>\n",
       "      <td>22.0</td>\n",
       "      <td>Yes</td>\n",
       "      <td>24.0</td>\n",
       "      <td>1.0</td>\n",
       "      <td>Yes</td>\n",
       "      <td>1.0</td>\n",
       "      <td>2.0</td>\n",
       "    </tr>\n",
       "    <tr>\n",
       "      <th>...</th>\n",
       "      <td>...</td>\n",
       "      <td>...</td>\n",
       "      <td>...</td>\n",
       "      <td>...</td>\n",
       "      <td>...</td>\n",
       "      <td>...</td>\n",
       "      <td>...</td>\n",
       "      <td>...</td>\n",
       "      <td>...</td>\n",
       "      <td>...</td>\n",
       "    </tr>\n",
       "    <tr>\n",
       "      <th>9512</th>\n",
       "      <td>20.0</td>\n",
       "      <td>Complete Secondary</td>\n",
       "      <td>Married</td>\n",
       "      <td>18.0</td>\n",
       "      <td>Yes</td>\n",
       "      <td>19.0</td>\n",
       "      <td>1.0</td>\n",
       "      <td>Yes</td>\n",
       "      <td>1.0</td>\n",
       "      <td>3.0</td>\n",
       "    </tr>\n",
       "    <tr>\n",
       "      <th>9514</th>\n",
       "      <td>23.0</td>\n",
       "      <td>Complete Secondary</td>\n",
       "      <td>Married</td>\n",
       "      <td>21.0</td>\n",
       "      <td>Yes</td>\n",
       "      <td>20.0</td>\n",
       "      <td>1.0</td>\n",
       "      <td>Yes</td>\n",
       "      <td>2.0</td>\n",
       "      <td>3.0</td>\n",
       "    </tr>\n",
       "    <tr>\n",
       "      <th>9515</th>\n",
       "      <td>35.0</td>\n",
       "      <td>Complete Secondary</td>\n",
       "      <td>Married</td>\n",
       "      <td>19.0</td>\n",
       "      <td>Yes</td>\n",
       "      <td>19.0</td>\n",
       "      <td>2.0</td>\n",
       "      <td>Yes</td>\n",
       "      <td>2.0</td>\n",
       "      <td>4.0</td>\n",
       "    </tr>\n",
       "    <tr>\n",
       "      <th>9518</th>\n",
       "      <td>30.0</td>\n",
       "      <td>Complete Secondary</td>\n",
       "      <td>Married</td>\n",
       "      <td>20.0</td>\n",
       "      <td>Yes</td>\n",
       "      <td>21.0</td>\n",
       "      <td>1.0</td>\n",
       "      <td>Yes</td>\n",
       "      <td>1.0</td>\n",
       "      <td>2.0</td>\n",
       "    </tr>\n",
       "    <tr>\n",
       "      <th>9523</th>\n",
       "      <td>34.0</td>\n",
       "      <td>Complete Secondary</td>\n",
       "      <td>Married</td>\n",
       "      <td>20.0</td>\n",
       "      <td>Yes</td>\n",
       "      <td>21.0</td>\n",
       "      <td>3.0</td>\n",
       "      <td>Yes</td>\n",
       "      <td>1.0</td>\n",
       "      <td>4.0</td>\n",
       "    </tr>\n",
       "  </tbody>\n",
       "</table>\n",
       "<p>2182 rows × 10 columns</p>\n",
       "</div>"
      ],
      "text/plain": [
       "      Current age             Education Marital status  Age at marriage  \\\n",
       "2            30.0  Incomplete Secondary        Married             22.0   \n",
       "4            23.0       Primary or Less        Married             23.0   \n",
       "19           30.0       Primary or Less        Married             19.0   \n",
       "20           20.0    Complete Secondary        Married             20.0   \n",
       "26           39.0    Complete Secondary        Married             22.0   \n",
       "...           ...                   ...            ...              ...   \n",
       "9512         20.0    Complete Secondary        Married             18.0   \n",
       "9514         23.0    Complete Secondary        Married             21.0   \n",
       "9515         35.0    Complete Secondary        Married             19.0   \n",
       "9518         30.0    Complete Secondary        Married             20.0   \n",
       "9523         34.0    Complete Secondary        Married             20.0   \n",
       "\n",
       "     Ever given birth  Age at first birth Total number of children  \\\n",
       "2                 Yes                22.0                      2.0   \n",
       "4                 Yes                20.0                      1.0   \n",
       "19                Yes                21.0                      2.0   \n",
       "20                Yes                19.0                      1.0   \n",
       "26                Yes                24.0                      1.0   \n",
       "...               ...                 ...                      ...   \n",
       "9512              Yes                19.0                      1.0   \n",
       "9514              Yes                20.0                      1.0   \n",
       "9515              Yes                19.0                      2.0   \n",
       "9518              Yes                21.0                      1.0   \n",
       "9523              Yes                21.0                      3.0   \n",
       "\n",
       "     Want more children  Number of additional children wanted  \\\n",
       "2                   Yes                                   1.0   \n",
       "4                   Yes                                   1.0   \n",
       "19                  Yes                                   2.0   \n",
       "20                  Yes                                   1.0   \n",
       "26                  Yes                                   1.0   \n",
       "...                 ...                                   ...   \n",
       "9512                Yes                                   1.0   \n",
       "9514                Yes                                   2.0   \n",
       "9515                Yes                                   2.0   \n",
       "9518                Yes                                   1.0   \n",
       "9523                Yes                                   1.0   \n",
       "\n",
       "      Ideal number of children  \n",
       "2                          3.0  \n",
       "4                          2.0  \n",
       "19                         6.0  \n",
       "20                         2.0  \n",
       "26                         2.0  \n",
       "...                        ...  \n",
       "9512                       3.0  \n",
       "9514                       3.0  \n",
       "9515                       4.0  \n",
       "9518                       2.0  \n",
       "9523                       4.0  \n",
       "\n",
       "[2182 rows x 10 columns]"
      ]
     },
     "execution_count": 257,
     "metadata": {},
     "output_type": "execute_result"
    }
   ],
   "source": [
    "women"
   ]
  },
  {
   "cell_type": "code",
   "execution_count": 258,
   "metadata": {},
   "outputs": [
    {
     "data": {
      "text/plain": [
       "['Yes']\n",
       "Categories (2, object): ['No', 'Yes']"
      ]
     },
     "execution_count": 258,
     "metadata": {},
     "output_type": "execute_result"
    }
   ],
   "source": [
    "women['Ever given birth'].unique()"
   ]
  },
  {
   "cell_type": "markdown",
   "metadata": {},
   "source": [
    "When I removed all the NaN's from column `Age at first birth`, all the `No` values in `Ever given birth` column got removed. I wanted to get data about only those women who have given birth before. "
   ]
  },
  {
   "cell_type": "code",
   "execution_count": 262,
   "metadata": {},
   "outputs": [],
   "source": [
    "women = women.drop(['Ever given birth'], axis = 1)"
   ]
  },
  {
   "cell_type": "code",
   "execution_count": 263,
   "metadata": {},
   "outputs": [
    {
     "data": {
      "text/html": [
       "<div>\n",
       "<style scoped>\n",
       "    .dataframe tbody tr th:only-of-type {\n",
       "        vertical-align: middle;\n",
       "    }\n",
       "\n",
       "    .dataframe tbody tr th {\n",
       "        vertical-align: top;\n",
       "    }\n",
       "\n",
       "    .dataframe thead th {\n",
       "        text-align: right;\n",
       "    }\n",
       "</style>\n",
       "<table border=\"1\" class=\"dataframe\">\n",
       "  <thead>\n",
       "    <tr style=\"text-align: right;\">\n",
       "      <th></th>\n",
       "      <th>Current age</th>\n",
       "      <th>Education</th>\n",
       "      <th>Marital status</th>\n",
       "      <th>Age at marriage</th>\n",
       "      <th>Age at first birth</th>\n",
       "      <th>Total number of children</th>\n",
       "      <th>Want more children</th>\n",
       "      <th>Number of additional children wanted</th>\n",
       "      <th>Ideal number of children</th>\n",
       "    </tr>\n",
       "  </thead>\n",
       "  <tbody>\n",
       "    <tr>\n",
       "      <th>2</th>\n",
       "      <td>30.0</td>\n",
       "      <td>Incomplete Secondary</td>\n",
       "      <td>Married</td>\n",
       "      <td>22.0</td>\n",
       "      <td>22.0</td>\n",
       "      <td>2.0</td>\n",
       "      <td>Yes</td>\n",
       "      <td>1.0</td>\n",
       "      <td>3.0</td>\n",
       "    </tr>\n",
       "    <tr>\n",
       "      <th>4</th>\n",
       "      <td>23.0</td>\n",
       "      <td>Primary or Less</td>\n",
       "      <td>Married</td>\n",
       "      <td>23.0</td>\n",
       "      <td>20.0</td>\n",
       "      <td>1.0</td>\n",
       "      <td>Yes</td>\n",
       "      <td>1.0</td>\n",
       "      <td>2.0</td>\n",
       "    </tr>\n",
       "    <tr>\n",
       "      <th>19</th>\n",
       "      <td>30.0</td>\n",
       "      <td>Primary or Less</td>\n",
       "      <td>Married</td>\n",
       "      <td>19.0</td>\n",
       "      <td>21.0</td>\n",
       "      <td>2.0</td>\n",
       "      <td>Yes</td>\n",
       "      <td>2.0</td>\n",
       "      <td>6.0</td>\n",
       "    </tr>\n",
       "    <tr>\n",
       "      <th>20</th>\n",
       "      <td>20.0</td>\n",
       "      <td>Complete Secondary</td>\n",
       "      <td>Married</td>\n",
       "      <td>20.0</td>\n",
       "      <td>19.0</td>\n",
       "      <td>1.0</td>\n",
       "      <td>Yes</td>\n",
       "      <td>1.0</td>\n",
       "      <td>2.0</td>\n",
       "    </tr>\n",
       "    <tr>\n",
       "      <th>26</th>\n",
       "      <td>39.0</td>\n",
       "      <td>Complete Secondary</td>\n",
       "      <td>Married</td>\n",
       "      <td>22.0</td>\n",
       "      <td>24.0</td>\n",
       "      <td>1.0</td>\n",
       "      <td>Yes</td>\n",
       "      <td>1.0</td>\n",
       "      <td>2.0</td>\n",
       "    </tr>\n",
       "    <tr>\n",
       "      <th>...</th>\n",
       "      <td>...</td>\n",
       "      <td>...</td>\n",
       "      <td>...</td>\n",
       "      <td>...</td>\n",
       "      <td>...</td>\n",
       "      <td>...</td>\n",
       "      <td>...</td>\n",
       "      <td>...</td>\n",
       "      <td>...</td>\n",
       "    </tr>\n",
       "    <tr>\n",
       "      <th>9512</th>\n",
       "      <td>20.0</td>\n",
       "      <td>Complete Secondary</td>\n",
       "      <td>Married</td>\n",
       "      <td>18.0</td>\n",
       "      <td>19.0</td>\n",
       "      <td>1.0</td>\n",
       "      <td>Yes</td>\n",
       "      <td>1.0</td>\n",
       "      <td>3.0</td>\n",
       "    </tr>\n",
       "    <tr>\n",
       "      <th>9514</th>\n",
       "      <td>23.0</td>\n",
       "      <td>Complete Secondary</td>\n",
       "      <td>Married</td>\n",
       "      <td>21.0</td>\n",
       "      <td>20.0</td>\n",
       "      <td>1.0</td>\n",
       "      <td>Yes</td>\n",
       "      <td>2.0</td>\n",
       "      <td>3.0</td>\n",
       "    </tr>\n",
       "    <tr>\n",
       "      <th>9515</th>\n",
       "      <td>35.0</td>\n",
       "      <td>Complete Secondary</td>\n",
       "      <td>Married</td>\n",
       "      <td>19.0</td>\n",
       "      <td>19.0</td>\n",
       "      <td>2.0</td>\n",
       "      <td>Yes</td>\n",
       "      <td>2.0</td>\n",
       "      <td>4.0</td>\n",
       "    </tr>\n",
       "    <tr>\n",
       "      <th>9518</th>\n",
       "      <td>30.0</td>\n",
       "      <td>Complete Secondary</td>\n",
       "      <td>Married</td>\n",
       "      <td>20.0</td>\n",
       "      <td>21.0</td>\n",
       "      <td>1.0</td>\n",
       "      <td>Yes</td>\n",
       "      <td>1.0</td>\n",
       "      <td>2.0</td>\n",
       "    </tr>\n",
       "    <tr>\n",
       "      <th>9523</th>\n",
       "      <td>34.0</td>\n",
       "      <td>Complete Secondary</td>\n",
       "      <td>Married</td>\n",
       "      <td>20.0</td>\n",
       "      <td>21.0</td>\n",
       "      <td>3.0</td>\n",
       "      <td>Yes</td>\n",
       "      <td>1.0</td>\n",
       "      <td>4.0</td>\n",
       "    </tr>\n",
       "  </tbody>\n",
       "</table>\n",
       "<p>2182 rows × 9 columns</p>\n",
       "</div>"
      ],
      "text/plain": [
       "      Current age             Education Marital status  Age at marriage  \\\n",
       "2            30.0  Incomplete Secondary        Married             22.0   \n",
       "4            23.0       Primary or Less        Married             23.0   \n",
       "19           30.0       Primary or Less        Married             19.0   \n",
       "20           20.0    Complete Secondary        Married             20.0   \n",
       "26           39.0    Complete Secondary        Married             22.0   \n",
       "...           ...                   ...            ...              ...   \n",
       "9512         20.0    Complete Secondary        Married             18.0   \n",
       "9514         23.0    Complete Secondary        Married             21.0   \n",
       "9515         35.0    Complete Secondary        Married             19.0   \n",
       "9518         30.0    Complete Secondary        Married             20.0   \n",
       "9523         34.0    Complete Secondary        Married             20.0   \n",
       "\n",
       "      Age at first birth Total number of children Want more children  \\\n",
       "2                   22.0                      2.0                Yes   \n",
       "4                   20.0                      1.0                Yes   \n",
       "19                  21.0                      2.0                Yes   \n",
       "20                  19.0                      1.0                Yes   \n",
       "26                  24.0                      1.0                Yes   \n",
       "...                  ...                      ...                ...   \n",
       "9512                19.0                      1.0                Yes   \n",
       "9514                20.0                      1.0                Yes   \n",
       "9515                19.0                      2.0                Yes   \n",
       "9518                21.0                      1.0                Yes   \n",
       "9523                21.0                      3.0                Yes   \n",
       "\n",
       "      Number of additional children wanted  Ideal number of children  \n",
       "2                                      1.0                       3.0  \n",
       "4                                      1.0                       2.0  \n",
       "19                                     2.0                       6.0  \n",
       "20                                     1.0                       2.0  \n",
       "26                                     1.0                       2.0  \n",
       "...                                    ...                       ...  \n",
       "9512                                   1.0                       3.0  \n",
       "9514                                   2.0                       3.0  \n",
       "9515                                   2.0                       4.0  \n",
       "9518                                   1.0                       2.0  \n",
       "9523                                   1.0                       4.0  \n",
       "\n",
       "[2182 rows x 9 columns]"
      ]
     },
     "execution_count": 263,
     "metadata": {},
     "output_type": "execute_result"
    }
   ],
   "source": [
    "women"
   ]
  },
  {
   "cell_type": "markdown",
   "metadata": {},
   "source": [
    "Now we don't need the `Ever given birth` column, so I removed it."
   ]
  },
  {
   "cell_type": "markdown",
   "metadata": {},
   "source": [
    "### Making sure that all the datatypes are correct ###"
   ]
  },
  {
   "cell_type": "code",
   "execution_count": 264,
   "metadata": {},
   "outputs": [
    {
     "data": {
      "text/plain": [
       "Current age                              float64\n",
       "Education                               category\n",
       "Marital status                          category\n",
       "Age at marriage                          float64\n",
       "Age at first birth                       float64\n",
       "Total number of children                category\n",
       "Want more children                      category\n",
       "Number of additional children wanted     float64\n",
       "Ideal number of children                 float64\n",
       "dtype: object"
      ]
     },
     "execution_count": 264,
     "metadata": {},
     "output_type": "execute_result"
    }
   ],
   "source": [
    "women.dtypes"
   ]
  },
  {
   "cell_type": "code",
   "execution_count": 265,
   "metadata": {},
   "outputs": [],
   "source": [
    "cols = ['Current age', 'Age at marriage', 'Age at first birth', 'Number of additional children wanted', 'Ideal number of children']\n",
    "women[cols] = women[cols].astype('int64') "
   ]
  },
  {
   "cell_type": "markdown",
   "metadata": {},
   "source": [
    "I changed all the float64 collumns into int64. One numeric column's (`Total number of children`) data type is `category`. In order to change it into int64, I need the change the value 'No child' into `0`\n"
   ]
  },
  {
   "cell_type": "code",
   "execution_count": 266,
   "metadata": {},
   "outputs": [],
   "source": [
    "women.replace({'Total number of children':{'No child':0}}, inplace = True)"
   ]
  },
  {
   "cell_type": "code",
   "execution_count": 267,
   "metadata": {},
   "outputs": [],
   "source": [
    "women['Total number of children'] = women['Total number of children'].astype(np.int64)"
   ]
  },
  {
   "cell_type": "code",
   "execution_count": 268,
   "metadata": {},
   "outputs": [
    {
     "data": {
      "text/plain": [
       "Current age                                int64\n",
       "Education                               category\n",
       "Marital status                          category\n",
       "Age at marriage                            int64\n",
       "Age at first birth                         int64\n",
       "Total number of children                   int64\n",
       "Want more children                      category\n",
       "Number of additional children wanted       int64\n",
       "Ideal number of children                   int64\n",
       "dtype: object"
      ]
     },
     "execution_count": 268,
     "metadata": {},
     "output_type": "execute_result"
    }
   ],
   "source": [
    "women.dtypes"
   ]
  },
  {
   "cell_type": "markdown",
   "metadata": {},
   "source": [
    "## 4. EDA with Analysis ##"
   ]
  },
  {
   "cell_type": "markdown",
   "metadata": {},
   "source": [
    "### Exploring numeric features: ###\n",
    "1. Age at marriage and Age at first birth\n",
    "2. Total number of children and Ideal number of children\n",
    "3. Age at marriage and the total number of children"
   ]
  },
  {
   "cell_type": "code",
   "execution_count": 269,
   "metadata": {},
   "outputs": [
    {
     "data": {
      "text/html": [
       "<div>\n",
       "<style scoped>\n",
       "    .dataframe tbody tr th:only-of-type {\n",
       "        vertical-align: middle;\n",
       "    }\n",
       "\n",
       "    .dataframe tbody tr th {\n",
       "        vertical-align: top;\n",
       "    }\n",
       "\n",
       "    .dataframe thead th {\n",
       "        text-align: right;\n",
       "    }\n",
       "</style>\n",
       "<table border=\"1\" class=\"dataframe\">\n",
       "  <thead>\n",
       "    <tr style=\"text-align: right;\">\n",
       "      <th></th>\n",
       "      <th>Current age</th>\n",
       "      <th>Age at marriage</th>\n",
       "      <th>Age at first birth</th>\n",
       "      <th>Total number of children</th>\n",
       "      <th>Number of additional children wanted</th>\n",
       "      <th>Ideal number of children</th>\n",
       "    </tr>\n",
       "  </thead>\n",
       "  <tbody>\n",
       "    <tr>\n",
       "      <th>count</th>\n",
       "      <td>2182.000000</td>\n",
       "      <td>2182.000000</td>\n",
       "      <td>2182.000000</td>\n",
       "      <td>2182.000000</td>\n",
       "      <td>2182.000000</td>\n",
       "      <td>2182.000000</td>\n",
       "    </tr>\n",
       "    <tr>\n",
       "      <th>mean</th>\n",
       "      <td>28.546746</td>\n",
       "      <td>22.069661</td>\n",
       "      <td>22.365720</td>\n",
       "      <td>1.626031</td>\n",
       "      <td>1.477085</td>\n",
       "      <td>3.433547</td>\n",
       "    </tr>\n",
       "    <tr>\n",
       "      <th>std</th>\n",
       "      <td>5.217715</td>\n",
       "      <td>3.509299</td>\n",
       "      <td>3.299518</td>\n",
       "      <td>0.810534</td>\n",
       "      <td>0.684657</td>\n",
       "      <td>0.930374</td>\n",
       "    </tr>\n",
       "    <tr>\n",
       "      <th>min</th>\n",
       "      <td>16.000000</td>\n",
       "      <td>15.000000</td>\n",
       "      <td>15.000000</td>\n",
       "      <td>1.000000</td>\n",
       "      <td>1.000000</td>\n",
       "      <td>0.000000</td>\n",
       "    </tr>\n",
       "    <tr>\n",
       "      <th>25%</th>\n",
       "      <td>25.000000</td>\n",
       "      <td>20.000000</td>\n",
       "      <td>20.000000</td>\n",
       "      <td>1.000000</td>\n",
       "      <td>1.000000</td>\n",
       "      <td>3.000000</td>\n",
       "    </tr>\n",
       "    <tr>\n",
       "      <th>50%</th>\n",
       "      <td>28.000000</td>\n",
       "      <td>22.000000</td>\n",
       "      <td>22.000000</td>\n",
       "      <td>1.000000</td>\n",
       "      <td>1.000000</td>\n",
       "      <td>3.000000</td>\n",
       "    </tr>\n",
       "    <tr>\n",
       "      <th>75%</th>\n",
       "      <td>32.000000</td>\n",
       "      <td>24.000000</td>\n",
       "      <td>24.000000</td>\n",
       "      <td>2.000000</td>\n",
       "      <td>2.000000</td>\n",
       "      <td>4.000000</td>\n",
       "    </tr>\n",
       "    <tr>\n",
       "      <th>max</th>\n",
       "      <td>46.000000</td>\n",
       "      <td>39.000000</td>\n",
       "      <td>37.000000</td>\n",
       "      <td>10.000000</td>\n",
       "      <td>6.000000</td>\n",
       "      <td>10.000000</td>\n",
       "    </tr>\n",
       "  </tbody>\n",
       "</table>\n",
       "</div>"
      ],
      "text/plain": [
       "       Current age  Age at marriage  Age at first birth  \\\n",
       "count  2182.000000      2182.000000         2182.000000   \n",
       "mean     28.546746        22.069661           22.365720   \n",
       "std       5.217715         3.509299            3.299518   \n",
       "min      16.000000        15.000000           15.000000   \n",
       "25%      25.000000        20.000000           20.000000   \n",
       "50%      28.000000        22.000000           22.000000   \n",
       "75%      32.000000        24.000000           24.000000   \n",
       "max      46.000000        39.000000           37.000000   \n",
       "\n",
       "       Total number of children  Number of additional children wanted  \\\n",
       "count               2182.000000                           2182.000000   \n",
       "mean                   1.626031                              1.477085   \n",
       "std                    0.810534                              0.684657   \n",
       "min                    1.000000                              1.000000   \n",
       "25%                    1.000000                              1.000000   \n",
       "50%                    1.000000                              1.000000   \n",
       "75%                    2.000000                              2.000000   \n",
       "max                   10.000000                              6.000000   \n",
       "\n",
       "       Ideal number of children  \n",
       "count               2182.000000  \n",
       "mean                   3.433547  \n",
       "std                    0.930374  \n",
       "min                    0.000000  \n",
       "25%                    3.000000  \n",
       "50%                    3.000000  \n",
       "75%                    4.000000  \n",
       "max                   10.000000  "
      ]
     },
     "execution_count": 269,
     "metadata": {},
     "output_type": "execute_result"
    }
   ],
   "source": [
    "women.describe()"
   ]
  },
  {
   "cell_type": "markdown",
   "metadata": {},
   "source": [
    "#### 1. Age at marriage and Age at first birth ####"
   ]
  },
  {
   "cell_type": "code",
   "execution_count": 271,
   "metadata": {},
   "outputs": [
    {
     "data": {
      "text/plain": [
       "Text(0, 0.5, 'First birth')"
      ]
     },
     "execution_count": 271,
     "metadata": {},
     "output_type": "execute_result"
    },
    {
     "data": {
      "image/png": "[encoded data removed]",
      "text/plain": [
       "<Figure size 432x288 with 1 Axes>"
      ]
     },
     "metadata": {
      "needs_background": "light"
     },
     "output_type": "display_data"
    }
   ],
   "source": [
    "plt.scatter(women['Age at marriage'], women['Age at first birth'])\n",
    "plt.title('Age at marriage and first birth')\n",
    "plt.xlabel('Marriage')\n",
    "plt.ylabel('First birth')"
   ]
  },
  {
   "cell_type": "markdown",
   "metadata": {},
   "source": [
    "#### 2. Total number of children and Ideal number of children ####"
   ]
  },
  {
   "cell_type": "code",
   "execution_count": 273,
   "metadata": {},
   "outputs": [
    {
     "data": {
      "text/plain": [
       "Text(0, 0.5, 'Ideal number of children')"
      ]
     },
     "execution_count": 273,
     "metadata": {},
     "output_type": "execute_result"
    },
    {
     "data": {
      "image/png": "[encoded data removed]",
      "text/plain": [
       "<Figure size 432x288 with 1 Axes>"
      ]
     },
     "metadata": {
      "needs_background": "light"
     },
     "output_type": "display_data"
    }
   ],
   "source": [
    "plt.scatter(women['Total number of children'], women['Ideal number of children'])\n",
    "plt.title('Total number of children and Ideal number of children')\n",
    "plt.xlabel('Total number of children')\n",
    "plt.ylabel('Ideal number of children')"
   ]
  },
  {
   "cell_type": "code",
   "execution_count": 279,
   "metadata": {},
   "outputs": [
    {
     "data": {
      "text/plain": [
       "Text(0, 0.5, 'Ideal number of children')"
      ]
     },
     "execution_count": 279,
     "metadata": {},
     "output_type": "execute_result"
    },
    {
     "data": {
      "image/png": "[encoded data removed]",
      "text/plain": [
       "<Figure size 432x288 with 1 Axes>"
      ]
     },
     "metadata": {
      "needs_background": "light"
     },
     "output_type": "display_data"
    }
   ],
   "source": [
    "plt.scatter(women['Total number of children'] + women['Number of additional children wanted'], women['Ideal number of children'])\n",
    "plt.title('The sum of the number of children and the number of additional wanted children')\n",
    "plt.xlabel('number of children + additional children with ideal number of children')\n",
    "plt.ylabel('Ideal number of children')"
   ]
  },
  {
   "cell_type": "markdown",
   "metadata": {},
   "source": [
    "#### 3. Age at marriage and the total number of children ####"
   ]
  },
  {
   "cell_type": "code",
   "execution_count": 301,
   "metadata": {},
   "outputs": [
    {
     "data": {
      "text/plain": [
       "Text(0, 0.5, 'Total number of children')"
      ]
     },
     "execution_count": 301,
     "metadata": {},
     "output_type": "execute_result"
    },
    {
     "data": {
      "image/png": "[encoded data removed]",
      "text/plain": [
       "<Figure size 432x288 with 1 Axes>"
      ]
     },
     "metadata": {
      "needs_background": "light"
     },
     "output_type": "display_data"
    }
   ],
   "source": [
    "plt.scatter(women['Age at marriage'], women['Total number of children'])\n",
    "plt.title('Age at marriage and the total number of children')\n",
    "plt.xlabel('Age at marriage')\n",
    "plt.ylabel('Total number of children')"
   ]
  },
  {
   "cell_type": "markdown",
   "metadata": {},
   "source": [
    "#### 4. Age at first birth and number of additional children wanted ####"
   ]
  },
  {
   "cell_type": "code",
   "execution_count": 302,
   "metadata": {},
   "outputs": [
    {
     "data": {
      "text/plain": [
       "Text(0, 0.5, 'Number of additional children wanted')"
      ]
     },
     "execution_count": 302,
     "metadata": {},
     "output_type": "execute_result"
    },
    {
     "data": {
      "image/png": "[encoded data removed]",
      "text/plain": [
       "<Figure size 432x288 with 1 Axes>"
      ]
     },
     "metadata": {
      "needs_background": "light"
     },
     "output_type": "display_data"
    }
   ],
   "source": [
    "plt.scatter(women['Age at first birth'], women['Number of additional children wanted'])\n",
    "plt.title('Age at first birth and number of additional children wanted')\n",
    "plt.xlabel('Age at first birth')\n",
    "plt.ylabel('Number of additional children wanted')"
   ]
  },
  {
   "cell_type": "markdown",
   "metadata": {},
   "source": [
    "I think it's not useful to explore the numerical features. A lot of the features overlap, it is hard to understand."
   ]
  },
  {
   "cell_type": "markdown",
   "metadata": {},
   "source": [
    "### Exploring categorical and numeric features: ###\n",
    "1. Age at first birth by education level\n",
    "2. Age at marriage by education level\n",
    "3. Ideal number of children by education"
   ]
  },
  {
   "cell_type": "markdown",
   "metadata": {},
   "source": [
    "#### 1. Age at first birth by education level ####"
   ]
  },
  {
   "cell_type": "code",
   "execution_count": 280,
   "metadata": {},
   "outputs": [],
   "source": [
    "edu_birth = women[['Education', 'Age at first birth']]"
   ]
  },
  {
   "cell_type": "code",
   "execution_count": 283,
   "metadata": {},
   "outputs": [
    {
     "data": {
      "text/plain": [
       "<AxesSubplot:title={'center':'Age at first birth by education level'}, xlabel='Education'>"
      ]
     },
     "execution_count": 283,
     "metadata": {},
     "output_type": "execute_result"
    },
    {
     "data": {
      "image/png": "[encoded data removed]",
      "text/plain": [
       "<Figure size 432x288 with 1 Axes>"
      ]
     },
     "metadata": {
      "needs_background": "light"
     },
     "output_type": "display_data"
    }
   ],
   "source": [
    "edu_birth.groupby(['Education']).mean().plot(kind='bar', title='Age at first birth by education level')"
   ]
  },
  {
   "cell_type": "markdown",
   "metadata": {},
   "source": [
    "#### Conclusion: ####\n",
    "`Incomplete secondary` and ` Primary or less` have a younger average age of first birth. Lower education, earlier the first birth"
   ]
  },
  {
   "cell_type": "markdown",
   "metadata": {},
   "source": [
    "#### 2. Age at marriage by education level ####"
   ]
  },
  {
   "cell_type": "code",
   "execution_count": 282,
   "metadata": {},
   "outputs": [],
   "source": [
    "edu_marriage = women[['Education', 'Age at marriage']]"
   ]
  },
  {
   "cell_type": "code",
   "execution_count": 284,
   "metadata": {},
   "outputs": [
    {
     "data": {
      "text/plain": [
       "<AxesSubplot:title={'center':'Age of marriage by education level'}, xlabel='Education'>"
      ]
     },
     "execution_count": 284,
     "metadata": {},
     "output_type": "execute_result"
    },
    {
     "data": {
      "image/png": "[encoded data removed]",
      "text/plain": [
       "<Figure size 432x288 with 1 Axes>"
      ]
     },
     "metadata": {
      "needs_background": "light"
     },
     "output_type": "display_data"
    }
   ],
   "source": [
    "edu_marriage.groupby(['Education']).mean().plot(kind='bar', title='Age of marriage by education level')"
   ]
  },
  {
   "cell_type": "markdown",
   "metadata": {},
   "source": [
    "#### Conclusion: ####\n",
    "Not much difference besides `Incomplete secondary` and `Primary or less` having a younger average age"
   ]
  },
  {
   "cell_type": "markdown",
   "metadata": {},
   "source": [
    "#### 3. Ideal number of children by education ####"
   ]
  },
  {
   "cell_type": "code",
   "execution_count": 305,
   "metadata": {},
   "outputs": [],
   "source": [
    "edu_ideal = women[['Ideal number of children', 'Education']]"
   ]
  },
  {
   "cell_type": "code",
   "execution_count": 306,
   "metadata": {},
   "outputs": [
    {
     "data": {
      "text/plain": [
       "<AxesSubplot:title={'center':'Ideal number of children by education'}, xlabel='Education'>"
      ]
     },
     "execution_count": 306,
     "metadata": {},
     "output_type": "execute_result"
    },
    {
     "data": {
      "image/png": "[encoded data removed]",
      "text/plain": [
       "<Figure size 432x288 with 1 Axes>"
      ]
     },
     "metadata": {
      "needs_background": "light"
     },
     "output_type": "display_data"
    }
   ],
   "source": [
    "edu_ideal.groupby(['Education']).mean().plot(kind='bar', title='Ideal number of children by education')"
   ]
  },
  {
   "cell_type": "markdown",
   "metadata": {},
   "source": [
    "#### Conclusion: ####\n",
    "There is not much difference in the ideal number of children by education"
   ]
  },
  {
   "cell_type": "markdown",
   "metadata": {
    "tags": []
   },
   "source": [
    "### Exploring categorical features: ###\n",
    "1. Women who want more children by their marital status\n",
    "2. Number of separated women by education level"
   ]
  },
  {
   "cell_type": "markdown",
   "metadata": {},
   "source": [
    "#### 1. Women who want more children by their marital status ####"
   ]
  },
  {
   "cell_type": "code",
   "execution_count": 307,
   "metadata": {},
   "outputs": [],
   "source": [
    "status_more = women[['Marital status', 'Want more children']]"
   ]
  },
  {
   "cell_type": "code",
   "execution_count": 288,
   "metadata": {},
   "outputs": [],
   "source": [
    "status_yes = status_more[status_more['Want more children'] == 'Yes'].groupby(['Marital status']).size()"
   ]
  },
  {
   "cell_type": "code",
   "execution_count": 292,
   "metadata": {},
   "outputs": [
    {
     "data": {
      "text/plain": [
       "Text(0, 0.5, 'Number of women who want more children')"
      ]
     },
     "execution_count": 292,
     "metadata": {},
     "output_type": "execute_result"
    },
    {
     "data": {
      "image/png": "[encoded data removed]",
      "text/plain": [
       "<Figure size 432x288 with 1 Axes>"
      ]
     },
     "metadata": {
      "needs_background": "light"
     },
     "output_type": "display_data"
    }
   ],
   "source": [
    "plt.bar(\"Married\", status_yes[\"Married\"])\n",
    "plt.bar(\"Living together\", status_yes[\"Living together\"])\n",
    "plt.bar(\"Separated\", status_yes[\"Separated\"])\n",
    "plt.bar(\"Divorced\", status_yes[\"Divorced\"])\n",
    "plt.bar(\"Widowed\", status_yes[\"Widowed\"])\n",
    "plt.title('Women who want more children by their marital status')\n",
    "plt.xlabel('Marital status')\n",
    "plt.ylabel('Number of women who want more children')"
   ]
  },
  {
   "cell_type": "markdown",
   "metadata": {},
   "source": [
    "#### Conclusion: ####\n",
    "Obviously married women want more children than the rest"
   ]
  },
  {
   "cell_type": "markdown",
   "metadata": {},
   "source": [
    "#### 2. Number of separated women by education level ####"
   ]
  },
  {
   "cell_type": "code",
   "execution_count": 310,
   "metadata": {},
   "outputs": [],
   "source": [
    "status_edu = women[['Marital status', 'Education']]"
   ]
  },
  {
   "cell_type": "code",
   "execution_count": 315,
   "metadata": {},
   "outputs": [],
   "source": [
    "status_widow = status_edu[status_edu['Marital status'] == 'Separated'].groupby(['Education']).size()"
   ]
  },
  {
   "cell_type": "code",
   "execution_count": 317,
   "metadata": {},
   "outputs": [
    {
     "data": {
      "text/plain": [
       "Text(0, 0.5, 'Number of separated women')"
      ]
     },
     "execution_count": 317,
     "metadata": {},
     "output_type": "execute_result"
    },
    {
     "data": {
      "image/png": "[encoded data removed]",
      "text/plain": [
       "<Figure size 432x288 with 1 Axes>"
      ]
     },
     "metadata": {
      "needs_background": "light"
     },
     "output_type": "display_data"
    }
   ],
   "source": [
    "plt.bar(\"Primary or less\", status_widow[\"Primary or Less\"])\n",
    "plt.bar(\"Incomplete secondary\", status_widow[\"Incomplete Secondary\"])\n",
    "plt.bar(\"Complete Secondary\", status_widow[\"Complete Secondary\"])\n",
    "plt.bar(\"More than secondary\", status_widow[\"More than Secondary\"])\n",
    "plt.title('Number of separated women by education level')\n",
    "plt.xlabel('Education level')\n",
    "plt.ylabel('Number of separated women')"
   ]
  },
  {
   "cell_type": "markdown",
   "metadata": {
    "tags": []
   },
   "source": [
    "#### Conclusion: ####\n",
    "Most of the separated women have more than secondary education"
   ]
  }
 ],
 "metadata": {
  "kernelspec": {
   "display_name": "Python 3 (ipykernel)",
   "language": "python",
   "name": "python3"
  },
  "language_info": {
   "codemirror_mode": {
    "name": "ipython",
    "version": 3
   },
   "file_extension": ".py",
   "mimetype": "text/x-python",
   "name": "python",
   "nbconvert_exporter": "python",
   "pygments_lexer": "ipython3",
   "version": "3.8.11"
  }
 },
 "nbformat": 4,
 "nbformat_minor": 4
}
