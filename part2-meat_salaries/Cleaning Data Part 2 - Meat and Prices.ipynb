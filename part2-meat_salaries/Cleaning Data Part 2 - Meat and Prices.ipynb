{
 "cells": [
  {
   "cell_type": "markdown",
   "metadata": {},
   "source": [
    "# Cleaning Data Part 2 - Meat and Salaries\n",
    "\n",
    "This notebook will cover merging, joining, and concatenating data using Pandas. A comprehensive guide to the multiple methods used for performing these actions can be found in the Pandas documentation [here](https://pandas.pydata.org/pandas-docs/stable/user_guide/merging.html).\n",
    "\n",
    "The question this notebook seeks to answer is: **How much do we spend on meat?**\n",
    "\n",
    "The data from this notebook (meat prices and average wages) comes from the [National Statistics Office of Mongolia](1212.mn). You can also find a more complete exploration of this data [here](https://github.com/robertritz/Mongolian-Data-Stories/tree/master/Meat%20Prices)."
   ]
  },
  {
   "cell_type": "code",
   "execution_count": 1,
   "metadata": {},
   "outputs": [],
   "source": [
    "import numpy as np\n",
    "import pandas as pd\n",
    "import matplotlib.pyplot as plt\n",
    "import matplotlib.ticker\n",
    "\n",
    "plt.style.use('fivethirtyeight')\n",
    "plt.rcParams['figure.figsize'] = (12, 8)"
   ]
  },
  {
   "cell_type": "markdown",
   "metadata": {},
   "source": [
    "## Import Data"
   ]
  },
  {
   "cell_type": "code",
   "execution_count": 2,
   "metadata": {},
   "outputs": [],
   "source": [
    "salary = pd.read_csv('Average Wages and Salaries by Month in UB - DT_NSO_0400_021V1_-_2019-04-25_-_www.1212.mn.csv', thousands=',')"
   ]
  },
  {
   "cell_type": "code",
   "execution_count": 3,
   "metadata": {},
   "outputs": [],
   "source": [
    "meat = pd.read_csv('Monthly Meat Prices UB - DT_NSO_0600_019V1_-_2019-05-16_-_www.1212.mn.csv', thousands=',')"
   ]
  },
  {
   "cell_type": "code",
   "execution_count": 4,
   "metadata": {},
   "outputs": [
    {
     "data": {
      "text/html": [
       "<div>\n",
       "<style scoped>\n",
       "    .dataframe tbody tr th:only-of-type {\n",
       "        vertical-align: middle;\n",
       "    }\n",
       "\n",
       "    .dataframe tbody tr th {\n",
       "        vertical-align: top;\n",
       "    }\n",
       "\n",
       "    .dataframe thead th {\n",
       "        text-align: right;\n",
       "    }\n",
       "</style>\n",
       "<table border=\"1\" class=\"dataframe\">\n",
       "  <thead>\n",
       "    <tr style=\"text-align: right;\">\n",
       "      <th></th>\n",
       "      <th>Aimag</th>\n",
       "      <th>Sex</th>\n",
       "      <th>2000-IV</th>\n",
       "      <th>2001-I</th>\n",
       "      <th>2001-II</th>\n",
       "      <th>2001-III</th>\n",
       "      <th>2001-IV</th>\n",
       "      <th>2002-I</th>\n",
       "      <th>2002-II</th>\n",
       "      <th>2002-III</th>\n",
       "      <th>...</th>\n",
       "      <th>2016-III</th>\n",
       "      <th>2016-IV</th>\n",
       "      <th>2017-I</th>\n",
       "      <th>2017-II</th>\n",
       "      <th>2017-III</th>\n",
       "      <th>2017-IV</th>\n",
       "      <th>2018-I</th>\n",
       "      <th>2018-II</th>\n",
       "      <th>2018-III</th>\n",
       "      <th>2018-IV</th>\n",
       "    </tr>\n",
       "  </thead>\n",
       "  <tbody>\n",
       "    <tr>\n",
       "      <th>0</th>\n",
       "      <td>Ulaanbaatar</td>\n",
       "      <td>Total</td>\n",
       "      <td>74.4</td>\n",
       "      <td>73.4</td>\n",
       "      <td>81.5</td>\n",
       "      <td>78.4</td>\n",
       "      <td>76.7</td>\n",
       "      <td>77.0</td>\n",
       "      <td>81.6</td>\n",
       "      <td>83.4</td>\n",
       "      <td>...</td>\n",
       "      <td>NaN</td>\n",
       "      <td>1053.3</td>\n",
       "      <td>1081.4</td>\n",
       "      <td>1099.8</td>\n",
       "      <td>1075.1</td>\n",
       "      <td>1167.8</td>\n",
       "      <td>1116.6</td>\n",
       "      <td>1147.3</td>\n",
       "      <td>1156.2</td>\n",
       "      <td>1255.7</td>\n",
       "    </tr>\n",
       "  </tbody>\n",
       "</table>\n",
       "<p>1 rows × 72 columns</p>\n",
       "</div>"
      ],
      "text/plain": [
       "         Aimag    Sex  2000-IV  2001-I  2001-II  2001-III  2001-IV  2002-I  \\\n",
       "0  Ulaanbaatar  Total     74.4    73.4     81.5      78.4     76.7    77.0   \n",
       "\n",
       "   2002-II  2002-III  ...  2016-III  2016-IV  2017-I  2017-II  2017-III  \\\n",
       "0     81.6      83.4  ...       NaN   1053.3  1081.4   1099.8    1075.1   \n",
       "\n",
       "   2017-IV  2018-I  2018-II  2018-III  2018-IV  \n",
       "0   1167.8  1116.6   1147.3    1156.2   1255.7  \n",
       "\n",
       "[1 rows x 72 columns]"
      ]
     },
     "execution_count": 4,
     "metadata": {},
     "output_type": "execute_result"
    }
   ],
   "source": [
    "salary.head()"
   ]
  },
  {
   "cell_type": "code",
   "execution_count": 5,
   "metadata": {},
   "outputs": [
    {
     "data": {
      "text/html": [
       "<div>\n",
       "<style scoped>\n",
       "    .dataframe tbody tr th:only-of-type {\n",
       "        vertical-align: middle;\n",
       "    }\n",
       "\n",
       "    .dataframe tbody tr th {\n",
       "        vertical-align: top;\n",
       "    }\n",
       "\n",
       "    .dataframe thead th {\n",
       "        text-align: right;\n",
       "    }\n",
       "</style>\n",
       "<table border=\"1\" class=\"dataframe\">\n",
       "  <thead>\n",
       "    <tr style=\"text-align: right;\">\n",
       "      <th></th>\n",
       "      <th>Goods and services</th>\n",
       "      <th>Aimag</th>\n",
       "      <th>2010-12</th>\n",
       "      <th>2011-01</th>\n",
       "      <th>2011-02</th>\n",
       "      <th>2011-03</th>\n",
       "      <th>2011-04</th>\n",
       "      <th>2011-05</th>\n",
       "      <th>2011-06</th>\n",
       "      <th>2011-07</th>\n",
       "      <th>...</th>\n",
       "      <th>2018-07</th>\n",
       "      <th>2018-08</th>\n",
       "      <th>2018-09</th>\n",
       "      <th>2018-10</th>\n",
       "      <th>2018-11</th>\n",
       "      <th>2018-12</th>\n",
       "      <th>2019-01</th>\n",
       "      <th>2019-02</th>\n",
       "      <th>2019-03</th>\n",
       "      <th>2019-04</th>\n",
       "    </tr>\n",
       "  </thead>\n",
       "  <tbody>\n",
       "    <tr>\n",
       "      <th>0</th>\n",
       "      <td>Beef, without bones, kg</td>\n",
       "      <td>Ulaanbaatar</td>\n",
       "      <td>4640</td>\n",
       "      <td>5380</td>\n",
       "      <td>5415</td>\n",
       "      <td>5070</td>\n",
       "      <td>4845</td>\n",
       "      <td>5160</td>\n",
       "      <td>5290</td>\n",
       "      <td>5515</td>\n",
       "      <td>...</td>\n",
       "      <td>10814</td>\n",
       "      <td>9981</td>\n",
       "      <td>9480</td>\n",
       "      <td>9360</td>\n",
       "      <td>9349</td>\n",
       "      <td>10000</td>\n",
       "      <td>10794</td>\n",
       "      <td>11062</td>\n",
       "      <td>11293</td>\n",
       "      <td>11801</td>\n",
       "    </tr>\n",
       "    <tr>\n",
       "      <th>1</th>\n",
       "      <td>Mutton, with bones, kg</td>\n",
       "      <td>Ulaanbaatar</td>\n",
       "      <td>3710</td>\n",
       "      <td>4205</td>\n",
       "      <td>4250</td>\n",
       "      <td>3810</td>\n",
       "      <td>3610</td>\n",
       "      <td>4105</td>\n",
       "      <td>4040</td>\n",
       "      <td>4244</td>\n",
       "      <td>...</td>\n",
       "      <td>7533</td>\n",
       "      <td>6977</td>\n",
       "      <td>6412</td>\n",
       "      <td>6437</td>\n",
       "      <td>6689</td>\n",
       "      <td>6692</td>\n",
       "      <td>7156</td>\n",
       "      <td>7324</td>\n",
       "      <td>7938</td>\n",
       "      <td>8710</td>\n",
       "    </tr>\n",
       "    <tr>\n",
       "      <th>2</th>\n",
       "      <td>Goat meat, with bones, kg</td>\n",
       "      <td>Ulaanbaatar</td>\n",
       "      <td>2590</td>\n",
       "      <td>3165</td>\n",
       "      <td>3395</td>\n",
       "      <td>3260</td>\n",
       "      <td>2805</td>\n",
       "      <td>3045</td>\n",
       "      <td>3050</td>\n",
       "      <td>3180</td>\n",
       "      <td>...</td>\n",
       "      <td>5504</td>\n",
       "      <td>5244</td>\n",
       "      <td>4700</td>\n",
       "      <td>4815</td>\n",
       "      <td>4973</td>\n",
       "      <td>5319</td>\n",
       "      <td>5809</td>\n",
       "      <td>5966</td>\n",
       "      <td>6020</td>\n",
       "      <td>6399</td>\n",
       "    </tr>\n",
       "    <tr>\n",
       "      <th>3</th>\n",
       "      <td>Chicken, thigh, kg, imported</td>\n",
       "      <td>Ulaanbaatar</td>\n",
       "      <td>4420</td>\n",
       "      <td>4285</td>\n",
       "      <td>4195</td>\n",
       "      <td>4090</td>\n",
       "      <td>3910</td>\n",
       "      <td>3830</td>\n",
       "      <td>3850</td>\n",
       "      <td>3750</td>\n",
       "      <td>...</td>\n",
       "      <td>6921</td>\n",
       "      <td>7045</td>\n",
       "      <td>6858</td>\n",
       "      <td>7136</td>\n",
       "      <td>7536</td>\n",
       "      <td>7742</td>\n",
       "      <td>8067</td>\n",
       "      <td>8091</td>\n",
       "      <td>8233</td>\n",
       "      <td>8233</td>\n",
       "    </tr>\n",
       "    <tr>\n",
       "      <th>4</th>\n",
       "      <td>Horse meat, with bones, kg</td>\n",
       "      <td>Ulaanbaatar</td>\n",
       "      <td>2710</td>\n",
       "      <td>3460</td>\n",
       "      <td>3605</td>\n",
       "      <td>3535</td>\n",
       "      <td>3290</td>\n",
       "      <td>3370</td>\n",
       "      <td>3630</td>\n",
       "      <td>3705</td>\n",
       "      <td>...</td>\n",
       "      <td>6831</td>\n",
       "      <td>6274</td>\n",
       "      <td>6081</td>\n",
       "      <td>5845</td>\n",
       "      <td>5868</td>\n",
       "      <td>6378</td>\n",
       "      <td>6702</td>\n",
       "      <td>6747</td>\n",
       "      <td>6745</td>\n",
       "      <td>6721</td>\n",
       "    </tr>\n",
       "  </tbody>\n",
       "</table>\n",
       "<p>5 rows × 103 columns</p>\n",
       "</div>"
      ],
      "text/plain": [
       "             Goods and services        Aimag  2010-12  2011-01  2011-02  \\\n",
       "0       Beef, without bones, kg  Ulaanbaatar     4640     5380     5415   \n",
       "1        Mutton, with bones, kg  Ulaanbaatar     3710     4205     4250   \n",
       "2     Goat meat, with bones, kg  Ulaanbaatar     2590     3165     3395   \n",
       "3  Chicken, thigh, kg, imported  Ulaanbaatar     4420     4285     4195   \n",
       "4    Horse meat, with bones, kg  Ulaanbaatar     2710     3460     3605   \n",
       "\n",
       "   2011-03  2011-04  2011-05  2011-06  2011-07  ...  2018-07  2018-08  \\\n",
       "0     5070     4845     5160     5290     5515  ...    10814     9981   \n",
       "1     3810     3610     4105     4040     4244  ...     7533     6977   \n",
       "2     3260     2805     3045     3050     3180  ...     5504     5244   \n",
       "3     4090     3910     3830     3850     3750  ...     6921     7045   \n",
       "4     3535     3290     3370     3630     3705  ...     6831     6274   \n",
       "\n",
       "   2018-09  2018-10  2018-11  2018-12  2019-01  2019-02  2019-03  2019-04  \n",
       "0     9480     9360     9349    10000    10794    11062    11293    11801  \n",
       "1     6412     6437     6689     6692     7156     7324     7938     8710  \n",
       "2     4700     4815     4973     5319     5809     5966     6020     6399  \n",
       "3     6858     7136     7536     7742     8067     8091     8233     8233  \n",
       "4     6081     5845     5868     6378     6702     6747     6745     6721  \n",
       "\n",
       "[5 rows x 103 columns]"
      ]
     },
     "execution_count": 5,
     "metadata": {},
     "output_type": "execute_result"
    }
   ],
   "source": [
    "meat.head(5)"
   ]
  },
  {
   "cell_type": "code",
   "execution_count": 6,
   "metadata": {},
   "outputs": [
    {
     "data": {
      "text/plain": [
       "Aimag        object\n",
       "Sex          object\n",
       "2000-IV     float64\n",
       "2001-I      float64\n",
       "2001-II     float64\n",
       "             ...   \n",
       "2017-IV     float64\n",
       "2018-I      float64\n",
       "2018-II     float64\n",
       "2018-III    float64\n",
       "2018-IV     float64\n",
       "Length: 72, dtype: object"
      ]
     },
     "execution_count": 6,
     "metadata": {},
     "output_type": "execute_result"
    }
   ],
   "source": [
    "salary.dtypes"
   ]
  },
  {
   "cell_type": "code",
   "execution_count": 7,
   "metadata": {},
   "outputs": [
    {
     "data": {
      "text/plain": [
       "Goods and services    object\n",
       "Aimag                 object\n",
       "2010-12                int64\n",
       "2011-01                int64\n",
       "2011-02                int64\n",
       "                       ...  \n",
       "2018-12                int64\n",
       "2019-01                int64\n",
       "2019-02                int64\n",
       "2019-03                int64\n",
       "2019-04                int64\n",
       "Length: 103, dtype: object"
      ]
     },
     "execution_count": 7,
     "metadata": {},
     "output_type": "execute_result"
    }
   ],
   "source": [
    "meat.dtypes"
   ]
  },
  {
   "cell_type": "markdown",
   "metadata": {},
   "source": [
    "Melt allows you to reorganize your data from a short form to long form. This is also known as \"un-pivoting\". [Melt documentation](https://pandas.pydata.org/pandas-docs/stable/reference/api/pandas.melt.html)."
   ]
  },
  {
   "cell_type": "code",
   "execution_count": 8,
   "metadata": {},
   "outputs": [],
   "source": [
    "salary = salary.melt(id_vars=['Aimag','Sex'], var_name='date', value_name='salary')"
   ]
  },
  {
   "cell_type": "code",
   "execution_count": 9,
   "metadata": {},
   "outputs": [
    {
     "data": {
      "text/html": [
       "<div>\n",
       "<style scoped>\n",
       "    .dataframe tbody tr th:only-of-type {\n",
       "        vertical-align: middle;\n",
       "    }\n",
       "\n",
       "    .dataframe tbody tr th {\n",
       "        vertical-align: top;\n",
       "    }\n",
       "\n",
       "    .dataframe thead th {\n",
       "        text-align: right;\n",
       "    }\n",
       "</style>\n",
       "<table border=\"1\" class=\"dataframe\">\n",
       "  <thead>\n",
       "    <tr style=\"text-align: right;\">\n",
       "      <th></th>\n",
       "      <th>Aimag</th>\n",
       "      <th>Sex</th>\n",
       "      <th>date</th>\n",
       "      <th>salary</th>\n",
       "    </tr>\n",
       "  </thead>\n",
       "  <tbody>\n",
       "    <tr>\n",
       "      <th>0</th>\n",
       "      <td>Ulaanbaatar</td>\n",
       "      <td>Total</td>\n",
       "      <td>2000-IV</td>\n",
       "      <td>74.4</td>\n",
       "    </tr>\n",
       "    <tr>\n",
       "      <th>1</th>\n",
       "      <td>Ulaanbaatar</td>\n",
       "      <td>Total</td>\n",
       "      <td>2001-I</td>\n",
       "      <td>73.4</td>\n",
       "    </tr>\n",
       "    <tr>\n",
       "      <th>2</th>\n",
       "      <td>Ulaanbaatar</td>\n",
       "      <td>Total</td>\n",
       "      <td>2001-II</td>\n",
       "      <td>81.5</td>\n",
       "    </tr>\n",
       "    <tr>\n",
       "      <th>3</th>\n",
       "      <td>Ulaanbaatar</td>\n",
       "      <td>Total</td>\n",
       "      <td>2001-III</td>\n",
       "      <td>78.4</td>\n",
       "    </tr>\n",
       "    <tr>\n",
       "      <th>4</th>\n",
       "      <td>Ulaanbaatar</td>\n",
       "      <td>Total</td>\n",
       "      <td>2001-IV</td>\n",
       "      <td>76.7</td>\n",
       "    </tr>\n",
       "    <tr>\n",
       "      <th>...</th>\n",
       "      <td>...</td>\n",
       "      <td>...</td>\n",
       "      <td>...</td>\n",
       "      <td>...</td>\n",
       "    </tr>\n",
       "    <tr>\n",
       "      <th>65</th>\n",
       "      <td>Ulaanbaatar</td>\n",
       "      <td>Total</td>\n",
       "      <td>2017-IV</td>\n",
       "      <td>1167.8</td>\n",
       "    </tr>\n",
       "    <tr>\n",
       "      <th>66</th>\n",
       "      <td>Ulaanbaatar</td>\n",
       "      <td>Total</td>\n",
       "      <td>2018-I</td>\n",
       "      <td>1116.6</td>\n",
       "    </tr>\n",
       "    <tr>\n",
       "      <th>67</th>\n",
       "      <td>Ulaanbaatar</td>\n",
       "      <td>Total</td>\n",
       "      <td>2018-II</td>\n",
       "      <td>1147.3</td>\n",
       "    </tr>\n",
       "    <tr>\n",
       "      <th>68</th>\n",
       "      <td>Ulaanbaatar</td>\n",
       "      <td>Total</td>\n",
       "      <td>2018-III</td>\n",
       "      <td>1156.2</td>\n",
       "    </tr>\n",
       "    <tr>\n",
       "      <th>69</th>\n",
       "      <td>Ulaanbaatar</td>\n",
       "      <td>Total</td>\n",
       "      <td>2018-IV</td>\n",
       "      <td>1255.7</td>\n",
       "    </tr>\n",
       "  </tbody>\n",
       "</table>\n",
       "<p>70 rows × 4 columns</p>\n",
       "</div>"
      ],
      "text/plain": [
       "          Aimag    Sex      date  salary\n",
       "0   Ulaanbaatar  Total   2000-IV    74.4\n",
       "1   Ulaanbaatar  Total    2001-I    73.4\n",
       "2   Ulaanbaatar  Total   2001-II    81.5\n",
       "3   Ulaanbaatar  Total  2001-III    78.4\n",
       "4   Ulaanbaatar  Total   2001-IV    76.7\n",
       "..          ...    ...       ...     ...\n",
       "65  Ulaanbaatar  Total   2017-IV  1167.8\n",
       "66  Ulaanbaatar  Total    2018-I  1116.6\n",
       "67  Ulaanbaatar  Total   2018-II  1147.3\n",
       "68  Ulaanbaatar  Total  2018-III  1156.2\n",
       "69  Ulaanbaatar  Total   2018-IV  1255.7\n",
       "\n",
       "[70 rows x 4 columns]"
      ]
     },
     "execution_count": 9,
     "metadata": {},
     "output_type": "execute_result"
    }
   ],
   "source": [
    "salary"
   ]
  },
  {
   "cell_type": "code",
   "execution_count": 10,
   "metadata": {},
   "outputs": [],
   "source": [
    "meat = meat.melt(id_vars=['Goods and services','Aimag'], var_name='date', value_name='price')"
   ]
  },
  {
   "cell_type": "code",
   "execution_count": 11,
   "metadata": {},
   "outputs": [
    {
     "data": {
      "text/html": [
       "<div>\n",
       "<style scoped>\n",
       "    .dataframe tbody tr th:only-of-type {\n",
       "        vertical-align: middle;\n",
       "    }\n",
       "\n",
       "    .dataframe tbody tr th {\n",
       "        vertical-align: top;\n",
       "    }\n",
       "\n",
       "    .dataframe thead th {\n",
       "        text-align: right;\n",
       "    }\n",
       "</style>\n",
       "<table border=\"1\" class=\"dataframe\">\n",
       "  <thead>\n",
       "    <tr style=\"text-align: right;\">\n",
       "      <th></th>\n",
       "      <th>Goods and services</th>\n",
       "      <th>Aimag</th>\n",
       "      <th>date</th>\n",
       "      <th>price</th>\n",
       "    </tr>\n",
       "  </thead>\n",
       "  <tbody>\n",
       "    <tr>\n",
       "      <th>0</th>\n",
       "      <td>Beef, without bones, kg</td>\n",
       "      <td>Ulaanbaatar</td>\n",
       "      <td>2010-12</td>\n",
       "      <td>4640.0</td>\n",
       "    </tr>\n",
       "    <tr>\n",
       "      <th>1</th>\n",
       "      <td>Mutton, with bones, kg</td>\n",
       "      <td>Ulaanbaatar</td>\n",
       "      <td>2010-12</td>\n",
       "      <td>3710.0</td>\n",
       "    </tr>\n",
       "    <tr>\n",
       "      <th>2</th>\n",
       "      <td>Goat meat, with bones, kg</td>\n",
       "      <td>Ulaanbaatar</td>\n",
       "      <td>2010-12</td>\n",
       "      <td>2590.0</td>\n",
       "    </tr>\n",
       "    <tr>\n",
       "      <th>3</th>\n",
       "      <td>Chicken, thigh, kg, imported</td>\n",
       "      <td>Ulaanbaatar</td>\n",
       "      <td>2010-12</td>\n",
       "      <td>4420.0</td>\n",
       "    </tr>\n",
       "    <tr>\n",
       "      <th>4</th>\n",
       "      <td>Horse meat, with bones, kg</td>\n",
       "      <td>Ulaanbaatar</td>\n",
       "      <td>2010-12</td>\n",
       "      <td>2710.0</td>\n",
       "    </tr>\n",
       "    <tr>\n",
       "      <th>...</th>\n",
       "      <td>...</td>\n",
       "      <td>...</td>\n",
       "      <td>...</td>\n",
       "      <td>...</td>\n",
       "    </tr>\n",
       "    <tr>\n",
       "      <th>500</th>\n",
       "      <td>Beef, without bones, kg</td>\n",
       "      <td>Ulaanbaatar</td>\n",
       "      <td>2019-04</td>\n",
       "      <td>11801.0</td>\n",
       "    </tr>\n",
       "    <tr>\n",
       "      <th>501</th>\n",
       "      <td>Mutton, with bones, kg</td>\n",
       "      <td>Ulaanbaatar</td>\n",
       "      <td>2019-04</td>\n",
       "      <td>8710.0</td>\n",
       "    </tr>\n",
       "    <tr>\n",
       "      <th>502</th>\n",
       "      <td>Goat meat, with bones, kg</td>\n",
       "      <td>Ulaanbaatar</td>\n",
       "      <td>2019-04</td>\n",
       "      <td>6399.0</td>\n",
       "    </tr>\n",
       "    <tr>\n",
       "      <th>503</th>\n",
       "      <td>Chicken, thigh, kg, imported</td>\n",
       "      <td>Ulaanbaatar</td>\n",
       "      <td>2019-04</td>\n",
       "      <td>8233.0</td>\n",
       "    </tr>\n",
       "    <tr>\n",
       "      <th>504</th>\n",
       "      <td>Horse meat, with bones, kg</td>\n",
       "      <td>Ulaanbaatar</td>\n",
       "      <td>2019-04</td>\n",
       "      <td>6721.0</td>\n",
       "    </tr>\n",
       "  </tbody>\n",
       "</table>\n",
       "<p>505 rows × 4 columns</p>\n",
       "</div>"
      ],
      "text/plain": [
       "               Goods and services        Aimag     date    price\n",
       "0         Beef, without bones, kg  Ulaanbaatar  2010-12   4640.0\n",
       "1          Mutton, with bones, kg  Ulaanbaatar  2010-12   3710.0\n",
       "2       Goat meat, with bones, kg  Ulaanbaatar  2010-12   2590.0\n",
       "3    Chicken, thigh, kg, imported  Ulaanbaatar  2010-12   4420.0\n",
       "4      Horse meat, with bones, kg  Ulaanbaatar  2010-12   2710.0\n",
       "..                            ...          ...      ...      ...\n",
       "500       Beef, without bones, kg  Ulaanbaatar  2019-04  11801.0\n",
       "501        Mutton, with bones, kg  Ulaanbaatar  2019-04   8710.0\n",
       "502     Goat meat, with bones, kg  Ulaanbaatar  2019-04   6399.0\n",
       "503  Chicken, thigh, kg, imported  Ulaanbaatar  2019-04   8233.0\n",
       "504    Horse meat, with bones, kg  Ulaanbaatar  2019-04   6721.0\n",
       "\n",
       "[505 rows x 4 columns]"
      ]
     },
     "execution_count": 11,
     "metadata": {},
     "output_type": "execute_result"
    }
   ],
   "source": [
    "meat"
   ]
  },
  {
   "cell_type": "markdown",
   "metadata": {},
   "source": [
    "## Filter By Horse"
   ]
  },
  {
   "cell_type": "markdown",
   "metadata": {},
   "source": [
    "For this analysis we want to keep it simple, so we will filter for one meat type. "
   ]
  },
  {
   "cell_type": "code",
   "execution_count": 12,
   "metadata": {},
   "outputs": [],
   "source": [
    "meat = meat[meat['Goods and services'] == 'Horse meat, with bones, kg']"
   ]
  },
  {
   "cell_type": "code",
   "execution_count": 13,
   "metadata": {},
   "outputs": [
    {
     "data": {
      "text/html": [
       "<div>\n",
       "<style scoped>\n",
       "    .dataframe tbody tr th:only-of-type {\n",
       "        vertical-align: middle;\n",
       "    }\n",
       "\n",
       "    .dataframe tbody tr th {\n",
       "        vertical-align: top;\n",
       "    }\n",
       "\n",
       "    .dataframe thead th {\n",
       "        text-align: right;\n",
       "    }\n",
       "</style>\n",
       "<table border=\"1\" class=\"dataframe\">\n",
       "  <thead>\n",
       "    <tr style=\"text-align: right;\">\n",
       "      <th></th>\n",
       "      <th>Goods and services</th>\n",
       "      <th>Aimag</th>\n",
       "      <th>date</th>\n",
       "      <th>price</th>\n",
       "    </tr>\n",
       "  </thead>\n",
       "  <tbody>\n",
       "    <tr>\n",
       "      <th>4</th>\n",
       "      <td>Horse meat, with bones, kg</td>\n",
       "      <td>Ulaanbaatar</td>\n",
       "      <td>2010-12</td>\n",
       "      <td>2710.0</td>\n",
       "    </tr>\n",
       "    <tr>\n",
       "      <th>9</th>\n",
       "      <td>Horse meat, with bones, kg</td>\n",
       "      <td>Ulaanbaatar</td>\n",
       "      <td>2011-01</td>\n",
       "      <td>3460.0</td>\n",
       "    </tr>\n",
       "    <tr>\n",
       "      <th>14</th>\n",
       "      <td>Horse meat, with bones, kg</td>\n",
       "      <td>Ulaanbaatar</td>\n",
       "      <td>2011-02</td>\n",
       "      <td>3605.0</td>\n",
       "    </tr>\n",
       "    <tr>\n",
       "      <th>19</th>\n",
       "      <td>Horse meat, with bones, kg</td>\n",
       "      <td>Ulaanbaatar</td>\n",
       "      <td>2011-03</td>\n",
       "      <td>3535.0</td>\n",
       "    </tr>\n",
       "    <tr>\n",
       "      <th>24</th>\n",
       "      <td>Horse meat, with bones, kg</td>\n",
       "      <td>Ulaanbaatar</td>\n",
       "      <td>2011-04</td>\n",
       "      <td>3290.0</td>\n",
       "    </tr>\n",
       "    <tr>\n",
       "      <th>...</th>\n",
       "      <td>...</td>\n",
       "      <td>...</td>\n",
       "      <td>...</td>\n",
       "      <td>...</td>\n",
       "    </tr>\n",
       "    <tr>\n",
       "      <th>484</th>\n",
       "      <td>Horse meat, with bones, kg</td>\n",
       "      <td>Ulaanbaatar</td>\n",
       "      <td>2018-12</td>\n",
       "      <td>6378.0</td>\n",
       "    </tr>\n",
       "    <tr>\n",
       "      <th>489</th>\n",
       "      <td>Horse meat, with bones, kg</td>\n",
       "      <td>Ulaanbaatar</td>\n",
       "      <td>2019-01</td>\n",
       "      <td>6702.0</td>\n",
       "    </tr>\n",
       "    <tr>\n",
       "      <th>494</th>\n",
       "      <td>Horse meat, with bones, kg</td>\n",
       "      <td>Ulaanbaatar</td>\n",
       "      <td>2019-02</td>\n",
       "      <td>6747.0</td>\n",
       "    </tr>\n",
       "    <tr>\n",
       "      <th>499</th>\n",
       "      <td>Horse meat, with bones, kg</td>\n",
       "      <td>Ulaanbaatar</td>\n",
       "      <td>2019-03</td>\n",
       "      <td>6745.0</td>\n",
       "    </tr>\n",
       "    <tr>\n",
       "      <th>504</th>\n",
       "      <td>Horse meat, with bones, kg</td>\n",
       "      <td>Ulaanbaatar</td>\n",
       "      <td>2019-04</td>\n",
       "      <td>6721.0</td>\n",
       "    </tr>\n",
       "  </tbody>\n",
       "</table>\n",
       "<p>101 rows × 4 columns</p>\n",
       "</div>"
      ],
      "text/plain": [
       "             Goods and services        Aimag     date   price\n",
       "4    Horse meat, with bones, kg  Ulaanbaatar  2010-12  2710.0\n",
       "9    Horse meat, with bones, kg  Ulaanbaatar  2011-01  3460.0\n",
       "14   Horse meat, with bones, kg  Ulaanbaatar  2011-02  3605.0\n",
       "19   Horse meat, with bones, kg  Ulaanbaatar  2011-03  3535.0\n",
       "24   Horse meat, with bones, kg  Ulaanbaatar  2011-04  3290.0\n",
       "..                          ...          ...      ...     ...\n",
       "484  Horse meat, with bones, kg  Ulaanbaatar  2018-12  6378.0\n",
       "489  Horse meat, with bones, kg  Ulaanbaatar  2019-01  6702.0\n",
       "494  Horse meat, with bones, kg  Ulaanbaatar  2019-02  6747.0\n",
       "499  Horse meat, with bones, kg  Ulaanbaatar  2019-03  6745.0\n",
       "504  Horse meat, with bones, kg  Ulaanbaatar  2019-04  6721.0\n",
       "\n",
       "[101 rows x 4 columns]"
      ]
     },
     "execution_count": 13,
     "metadata": {},
     "output_type": "execute_result"
    }
   ],
   "source": [
    "meat"
   ]
  },
  {
   "cell_type": "code",
   "execution_count": 17,
   "metadata": {},
   "outputs": [],
   "source": [
    "meat = meat.reset_index(drop=True)"
   ]
  },
  {
   "cell_type": "markdown",
   "metadata": {},
   "source": [
    "## Convert Dates"
   ]
  },
  {
   "cell_type": "markdown",
   "metadata": {},
   "source": [
    "Converting datetimes is a very common data cleaning task. `pd.to_datetime` is the main method you will use. Pandas will try to guess your format, but occasionally it doesn't get it right. If that happens you can specify a format using these [codes](https://docs.python.org/3/library/datetime.html#strftime-and-strptime-format-codes)."
   ]
  },
  {
   "cell_type": "code",
   "execution_count": 18,
   "metadata": {},
   "outputs": [],
   "source": [
    "meat['date'] = pd.to_datetime(meat['date'])"
   ]
  },
  {
   "cell_type": "code",
   "execution_count": 19,
   "metadata": {},
   "outputs": [
    {
     "data": {
      "text/plain": [
       "Goods and services            object\n",
       "Aimag                         object\n",
       "date                  datetime64[ns]\n",
       "price                        float64\n",
       "dtype: object"
      ]
     },
     "execution_count": 19,
     "metadata": {},
     "output_type": "execute_result"
    }
   ],
   "source": [
    "meat.dtypes"
   ]
  },
  {
   "cell_type": "markdown",
   "metadata": {},
   "source": [
    "Salary dates are actually in quarters! This isn't directly supported with `to_datetime`, so we will have to work around this."
   ]
  },
  {
   "cell_type": "code",
   "execution_count": 27,
   "metadata": {},
   "outputs": [],
   "source": [
    "salary['quarter'] = salary['date'].str.split('-').str.get(1)"
   ]
  },
  {
   "cell_type": "code",
   "execution_count": 28,
   "metadata": {},
   "outputs": [],
   "source": [
    "salary['year'] = salary['date'].str.split('-').str.get(0)"
   ]
  },
  {
   "cell_type": "code",
   "execution_count": 29,
   "metadata": {},
   "outputs": [
    {
     "data": {
      "text/plain": [
       "0     2000\n",
       "1     2001\n",
       "2     2001\n",
       "3     2001\n",
       "4     2001\n",
       "      ... \n",
       "65    2017\n",
       "66    2018\n",
       "67    2018\n",
       "68    2018\n",
       "69    2018\n",
       "Name: year, Length: 70, dtype: object"
      ]
     },
     "execution_count": 29,
     "metadata": {},
     "output_type": "execute_result"
    }
   ],
   "source": [
    "salary['year']"
   ]
  },
  {
   "cell_type": "code",
   "execution_count": 30,
   "metadata": {},
   "outputs": [
    {
     "data": {
      "text/html": [
       "<div>\n",
       "<style scoped>\n",
       "    .dataframe tbody tr th:only-of-type {\n",
       "        vertical-align: middle;\n",
       "    }\n",
       "\n",
       "    .dataframe tbody tr th {\n",
       "        vertical-align: top;\n",
       "    }\n",
       "\n",
       "    .dataframe thead th {\n",
       "        text-align: right;\n",
       "    }\n",
       "</style>\n",
       "<table border=\"1\" class=\"dataframe\">\n",
       "  <thead>\n",
       "    <tr style=\"text-align: right;\">\n",
       "      <th></th>\n",
       "      <th>Aimag</th>\n",
       "      <th>Sex</th>\n",
       "      <th>date</th>\n",
       "      <th>salary</th>\n",
       "      <th>quarter</th>\n",
       "      <th>year</th>\n",
       "    </tr>\n",
       "  </thead>\n",
       "  <tbody>\n",
       "    <tr>\n",
       "      <th>0</th>\n",
       "      <td>Ulaanbaatar</td>\n",
       "      <td>Total</td>\n",
       "      <td>2000-IV</td>\n",
       "      <td>74.4</td>\n",
       "      <td>IV</td>\n",
       "      <td>2000</td>\n",
       "    </tr>\n",
       "    <tr>\n",
       "      <th>1</th>\n",
       "      <td>Ulaanbaatar</td>\n",
       "      <td>Total</td>\n",
       "      <td>2001-I</td>\n",
       "      <td>73.4</td>\n",
       "      <td>I</td>\n",
       "      <td>2001</td>\n",
       "    </tr>\n",
       "    <tr>\n",
       "      <th>2</th>\n",
       "      <td>Ulaanbaatar</td>\n",
       "      <td>Total</td>\n",
       "      <td>2001-II</td>\n",
       "      <td>81.5</td>\n",
       "      <td>II</td>\n",
       "      <td>2001</td>\n",
       "    </tr>\n",
       "    <tr>\n",
       "      <th>3</th>\n",
       "      <td>Ulaanbaatar</td>\n",
       "      <td>Total</td>\n",
       "      <td>2001-III</td>\n",
       "      <td>78.4</td>\n",
       "      <td>III</td>\n",
       "      <td>2001</td>\n",
       "    </tr>\n",
       "    <tr>\n",
       "      <th>4</th>\n",
       "      <td>Ulaanbaatar</td>\n",
       "      <td>Total</td>\n",
       "      <td>2001-IV</td>\n",
       "      <td>76.7</td>\n",
       "      <td>IV</td>\n",
       "      <td>2001</td>\n",
       "    </tr>\n",
       "    <tr>\n",
       "      <th>...</th>\n",
       "      <td>...</td>\n",
       "      <td>...</td>\n",
       "      <td>...</td>\n",
       "      <td>...</td>\n",
       "      <td>...</td>\n",
       "      <td>...</td>\n",
       "    </tr>\n",
       "    <tr>\n",
       "      <th>65</th>\n",
       "      <td>Ulaanbaatar</td>\n",
       "      <td>Total</td>\n",
       "      <td>2017-IV</td>\n",
       "      <td>1167.8</td>\n",
       "      <td>IV</td>\n",
       "      <td>2017</td>\n",
       "    </tr>\n",
       "    <tr>\n",
       "      <th>66</th>\n",
       "      <td>Ulaanbaatar</td>\n",
       "      <td>Total</td>\n",
       "      <td>2018-I</td>\n",
       "      <td>1116.6</td>\n",
       "      <td>I</td>\n",
       "      <td>2018</td>\n",
       "    </tr>\n",
       "    <tr>\n",
       "      <th>67</th>\n",
       "      <td>Ulaanbaatar</td>\n",
       "      <td>Total</td>\n",
       "      <td>2018-II</td>\n",
       "      <td>1147.3</td>\n",
       "      <td>II</td>\n",
       "      <td>2018</td>\n",
       "    </tr>\n",
       "    <tr>\n",
       "      <th>68</th>\n",
       "      <td>Ulaanbaatar</td>\n",
       "      <td>Total</td>\n",
       "      <td>2018-III</td>\n",
       "      <td>1156.2</td>\n",
       "      <td>III</td>\n",
       "      <td>2018</td>\n",
       "    </tr>\n",
       "    <tr>\n",
       "      <th>69</th>\n",
       "      <td>Ulaanbaatar</td>\n",
       "      <td>Total</td>\n",
       "      <td>2018-IV</td>\n",
       "      <td>1255.7</td>\n",
       "      <td>IV</td>\n",
       "      <td>2018</td>\n",
       "    </tr>\n",
       "  </tbody>\n",
       "</table>\n",
       "<p>70 rows × 6 columns</p>\n",
       "</div>"
      ],
      "text/plain": [
       "          Aimag    Sex      date  salary quarter  year\n",
       "0   Ulaanbaatar  Total   2000-IV    74.4      IV  2000\n",
       "1   Ulaanbaatar  Total    2001-I    73.4       I  2001\n",
       "2   Ulaanbaatar  Total   2001-II    81.5      II  2001\n",
       "3   Ulaanbaatar  Total  2001-III    78.4     III  2001\n",
       "4   Ulaanbaatar  Total   2001-IV    76.7      IV  2001\n",
       "..          ...    ...       ...     ...     ...   ...\n",
       "65  Ulaanbaatar  Total   2017-IV  1167.8      IV  2017\n",
       "66  Ulaanbaatar  Total    2018-I  1116.6       I  2018\n",
       "67  Ulaanbaatar  Total   2018-II  1147.3      II  2018\n",
       "68  Ulaanbaatar  Total  2018-III  1156.2     III  2018\n",
       "69  Ulaanbaatar  Total   2018-IV  1255.7      IV  2018\n",
       "\n",
       "[70 rows x 6 columns]"
      ]
     },
     "execution_count": 30,
     "metadata": {},
     "output_type": "execute_result"
    }
   ],
   "source": [
    "salary"
   ]
  },
  {
   "cell_type": "code",
   "execution_count": 31,
   "metadata": {},
   "outputs": [],
   "source": [
    "mapper = {'I':3,'II':6,'III':9,'IV':12}"
   ]
  },
  {
   "cell_type": "code",
   "execution_count": 32,
   "metadata": {},
   "outputs": [],
   "source": [
    "salary['quarter'] = salary['quarter'].map(mapper)"
   ]
  },
  {
   "cell_type": "code",
   "execution_count": 34,
   "metadata": {},
   "outputs": [
    {
     "data": {
      "text/html": [
       "<div>\n",
       "<style scoped>\n",
       "    .dataframe tbody tr th:only-of-type {\n",
       "        vertical-align: middle;\n",
       "    }\n",
       "\n",
       "    .dataframe tbody tr th {\n",
       "        vertical-align: top;\n",
       "    }\n",
       "\n",
       "    .dataframe thead th {\n",
       "        text-align: right;\n",
       "    }\n",
       "</style>\n",
       "<table border=\"1\" class=\"dataframe\">\n",
       "  <thead>\n",
       "    <tr style=\"text-align: right;\">\n",
       "      <th></th>\n",
       "      <th>Aimag</th>\n",
       "      <th>Sex</th>\n",
       "      <th>date</th>\n",
       "      <th>salary</th>\n",
       "      <th>quarter</th>\n",
       "      <th>year</th>\n",
       "      <th>temp_date</th>\n",
       "    </tr>\n",
       "  </thead>\n",
       "  <tbody>\n",
       "    <tr>\n",
       "      <th>0</th>\n",
       "      <td>Ulaanbaatar</td>\n",
       "      <td>Total</td>\n",
       "      <td>2000-IV</td>\n",
       "      <td>74.4</td>\n",
       "      <td>12</td>\n",
       "      <td>2000</td>\n",
       "      <td>2000-12</td>\n",
       "    </tr>\n",
       "    <tr>\n",
       "      <th>1</th>\n",
       "      <td>Ulaanbaatar</td>\n",
       "      <td>Total</td>\n",
       "      <td>2001-I</td>\n",
       "      <td>73.4</td>\n",
       "      <td>3</td>\n",
       "      <td>2001</td>\n",
       "      <td>2001-3</td>\n",
       "    </tr>\n",
       "    <tr>\n",
       "      <th>2</th>\n",
       "      <td>Ulaanbaatar</td>\n",
       "      <td>Total</td>\n",
       "      <td>2001-II</td>\n",
       "      <td>81.5</td>\n",
       "      <td>6</td>\n",
       "      <td>2001</td>\n",
       "      <td>2001-6</td>\n",
       "    </tr>\n",
       "    <tr>\n",
       "      <th>3</th>\n",
       "      <td>Ulaanbaatar</td>\n",
       "      <td>Total</td>\n",
       "      <td>2001-III</td>\n",
       "      <td>78.4</td>\n",
       "      <td>9</td>\n",
       "      <td>2001</td>\n",
       "      <td>2001-9</td>\n",
       "    </tr>\n",
       "    <tr>\n",
       "      <th>4</th>\n",
       "      <td>Ulaanbaatar</td>\n",
       "      <td>Total</td>\n",
       "      <td>2001-IV</td>\n",
       "      <td>76.7</td>\n",
       "      <td>12</td>\n",
       "      <td>2001</td>\n",
       "      <td>2001-12</td>\n",
       "    </tr>\n",
       "    <tr>\n",
       "      <th>...</th>\n",
       "      <td>...</td>\n",
       "      <td>...</td>\n",
       "      <td>...</td>\n",
       "      <td>...</td>\n",
       "      <td>...</td>\n",
       "      <td>...</td>\n",
       "      <td>...</td>\n",
       "    </tr>\n",
       "    <tr>\n",
       "      <th>65</th>\n",
       "      <td>Ulaanbaatar</td>\n",
       "      <td>Total</td>\n",
       "      <td>2017-IV</td>\n",
       "      <td>1167.8</td>\n",
       "      <td>12</td>\n",
       "      <td>2017</td>\n",
       "      <td>2017-12</td>\n",
       "    </tr>\n",
       "    <tr>\n",
       "      <th>66</th>\n",
       "      <td>Ulaanbaatar</td>\n",
       "      <td>Total</td>\n",
       "      <td>2018-I</td>\n",
       "      <td>1116.6</td>\n",
       "      <td>3</td>\n",
       "      <td>2018</td>\n",
       "      <td>2018-3</td>\n",
       "    </tr>\n",
       "    <tr>\n",
       "      <th>67</th>\n",
       "      <td>Ulaanbaatar</td>\n",
       "      <td>Total</td>\n",
       "      <td>2018-II</td>\n",
       "      <td>1147.3</td>\n",
       "      <td>6</td>\n",
       "      <td>2018</td>\n",
       "      <td>2018-6</td>\n",
       "    </tr>\n",
       "    <tr>\n",
       "      <th>68</th>\n",
       "      <td>Ulaanbaatar</td>\n",
       "      <td>Total</td>\n",
       "      <td>2018-III</td>\n",
       "      <td>1156.2</td>\n",
       "      <td>9</td>\n",
       "      <td>2018</td>\n",
       "      <td>2018-9</td>\n",
       "    </tr>\n",
       "    <tr>\n",
       "      <th>69</th>\n",
       "      <td>Ulaanbaatar</td>\n",
       "      <td>Total</td>\n",
       "      <td>2018-IV</td>\n",
       "      <td>1255.7</td>\n",
       "      <td>12</td>\n",
       "      <td>2018</td>\n",
       "      <td>2018-12</td>\n",
       "    </tr>\n",
       "  </tbody>\n",
       "</table>\n",
       "<p>70 rows × 7 columns</p>\n",
       "</div>"
      ],
      "text/plain": [
       "          Aimag    Sex      date  salary  quarter  year temp_date\n",
       "0   Ulaanbaatar  Total   2000-IV    74.4       12  2000   2000-12\n",
       "1   Ulaanbaatar  Total    2001-I    73.4        3  2001    2001-3\n",
       "2   Ulaanbaatar  Total   2001-II    81.5        6  2001    2001-6\n",
       "3   Ulaanbaatar  Total  2001-III    78.4        9  2001    2001-9\n",
       "4   Ulaanbaatar  Total   2001-IV    76.7       12  2001   2001-12\n",
       "..          ...    ...       ...     ...      ...   ...       ...\n",
       "65  Ulaanbaatar  Total   2017-IV  1167.8       12  2017   2017-12\n",
       "66  Ulaanbaatar  Total    2018-I  1116.6        3  2018    2018-3\n",
       "67  Ulaanbaatar  Total   2018-II  1147.3        6  2018    2018-6\n",
       "68  Ulaanbaatar  Total  2018-III  1156.2        9  2018    2018-9\n",
       "69  Ulaanbaatar  Total   2018-IV  1255.7       12  2018   2018-12\n",
       "\n",
       "[70 rows x 7 columns]"
      ]
     },
     "execution_count": 34,
     "metadata": {},
     "output_type": "execute_result"
    }
   ],
   "source": [
    "salary"
   ]
  },
  {
   "cell_type": "code",
   "execution_count": 36,
   "metadata": {},
   "outputs": [],
   "source": [
    "salary['temp_date'] = salary['year'].astype('str') + '-' + salary['quarter'].astype('str')"
   ]
  },
  {
   "cell_type": "code",
   "execution_count": 37,
   "metadata": {},
   "outputs": [
    {
     "data": {
      "text/plain": [
       "0     2000-12\n",
       "1      2001-3\n",
       "2      2001-6\n",
       "3      2001-9\n",
       "4     2001-12\n",
       "       ...   \n",
       "65    2017-12\n",
       "66     2018-3\n",
       "67     2018-6\n",
       "68     2018-9\n",
       "69    2018-12\n",
       "Name: temp_date, Length: 70, dtype: object"
      ]
     },
     "execution_count": 37,
     "metadata": {},
     "output_type": "execute_result"
    }
   ],
   "source": [
    "salary['temp_date']"
   ]
  },
  {
   "cell_type": "code",
   "execution_count": 38,
   "metadata": {},
   "outputs": [],
   "source": [
    "salary['date'] = pd.to_datetime(salary['temp_date'])"
   ]
  },
  {
   "cell_type": "code",
   "execution_count": 39,
   "metadata": {},
   "outputs": [
    {
     "data": {
      "text/html": [
       "<div>\n",
       "<style scoped>\n",
       "    .dataframe tbody tr th:only-of-type {\n",
       "        vertical-align: middle;\n",
       "    }\n",
       "\n",
       "    .dataframe tbody tr th {\n",
       "        vertical-align: top;\n",
       "    }\n",
       "\n",
       "    .dataframe thead th {\n",
       "        text-align: right;\n",
       "    }\n",
       "</style>\n",
       "<table border=\"1\" class=\"dataframe\">\n",
       "  <thead>\n",
       "    <tr style=\"text-align: right;\">\n",
       "      <th></th>\n",
       "      <th>Aimag</th>\n",
       "      <th>Sex</th>\n",
       "      <th>date</th>\n",
       "      <th>salary</th>\n",
       "      <th>quarter</th>\n",
       "      <th>year</th>\n",
       "      <th>temp_date</th>\n",
       "    </tr>\n",
       "  </thead>\n",
       "  <tbody>\n",
       "    <tr>\n",
       "      <th>0</th>\n",
       "      <td>Ulaanbaatar</td>\n",
       "      <td>Total</td>\n",
       "      <td>2000-12-01</td>\n",
       "      <td>74.4</td>\n",
       "      <td>12</td>\n",
       "      <td>2000</td>\n",
       "      <td>2000-12</td>\n",
       "    </tr>\n",
       "    <tr>\n",
       "      <th>1</th>\n",
       "      <td>Ulaanbaatar</td>\n",
       "      <td>Total</td>\n",
       "      <td>2001-03-01</td>\n",
       "      <td>73.4</td>\n",
       "      <td>3</td>\n",
       "      <td>2001</td>\n",
       "      <td>2001-3</td>\n",
       "    </tr>\n",
       "    <tr>\n",
       "      <th>2</th>\n",
       "      <td>Ulaanbaatar</td>\n",
       "      <td>Total</td>\n",
       "      <td>2001-06-01</td>\n",
       "      <td>81.5</td>\n",
       "      <td>6</td>\n",
       "      <td>2001</td>\n",
       "      <td>2001-6</td>\n",
       "    </tr>\n",
       "    <tr>\n",
       "      <th>3</th>\n",
       "      <td>Ulaanbaatar</td>\n",
       "      <td>Total</td>\n",
       "      <td>2001-09-01</td>\n",
       "      <td>78.4</td>\n",
       "      <td>9</td>\n",
       "      <td>2001</td>\n",
       "      <td>2001-9</td>\n",
       "    </tr>\n",
       "    <tr>\n",
       "      <th>4</th>\n",
       "      <td>Ulaanbaatar</td>\n",
       "      <td>Total</td>\n",
       "      <td>2001-12-01</td>\n",
       "      <td>76.7</td>\n",
       "      <td>12</td>\n",
       "      <td>2001</td>\n",
       "      <td>2001-12</td>\n",
       "    </tr>\n",
       "  </tbody>\n",
       "</table>\n",
       "</div>"
      ],
      "text/plain": [
       "         Aimag    Sex       date  salary  quarter  year temp_date\n",
       "0  Ulaanbaatar  Total 2000-12-01    74.4       12  2000   2000-12\n",
       "1  Ulaanbaatar  Total 2001-03-01    73.4        3  2001    2001-3\n",
       "2  Ulaanbaatar  Total 2001-06-01    81.5        6  2001    2001-6\n",
       "3  Ulaanbaatar  Total 2001-09-01    78.4        9  2001    2001-9\n",
       "4  Ulaanbaatar  Total 2001-12-01    76.7       12  2001   2001-12"
      ]
     },
     "execution_count": 39,
     "metadata": {},
     "output_type": "execute_result"
    }
   ],
   "source": [
    "salary.head()"
   ]
  },
  {
   "cell_type": "code",
   "execution_count": 42,
   "metadata": {},
   "outputs": [
    {
     "data": {
      "text/html": [
       "<div>\n",
       "<style scoped>\n",
       "    .dataframe tbody tr th:only-of-type {\n",
       "        vertical-align: middle;\n",
       "    }\n",
       "\n",
       "    .dataframe tbody tr th {\n",
       "        vertical-align: top;\n",
       "    }\n",
       "\n",
       "    .dataframe thead th {\n",
       "        text-align: right;\n",
       "    }\n",
       "</style>\n",
       "<table border=\"1\" class=\"dataframe\">\n",
       "  <thead>\n",
       "    <tr style=\"text-align: right;\">\n",
       "      <th></th>\n",
       "      <th>Goods and services</th>\n",
       "      <th>Aimag</th>\n",
       "      <th>date</th>\n",
       "      <th>price</th>\n",
       "    </tr>\n",
       "  </thead>\n",
       "  <tbody>\n",
       "    <tr>\n",
       "      <th>0</th>\n",
       "      <td>Horse meat, with bones, kg</td>\n",
       "      <td>Ulaanbaatar</td>\n",
       "      <td>2010-12-01</td>\n",
       "      <td>2710.0</td>\n",
       "    </tr>\n",
       "    <tr>\n",
       "      <th>1</th>\n",
       "      <td>Horse meat, with bones, kg</td>\n",
       "      <td>Ulaanbaatar</td>\n",
       "      <td>2011-01-01</td>\n",
       "      <td>3460.0</td>\n",
       "    </tr>\n",
       "    <tr>\n",
       "      <th>2</th>\n",
       "      <td>Horse meat, with bones, kg</td>\n",
       "      <td>Ulaanbaatar</td>\n",
       "      <td>2011-02-01</td>\n",
       "      <td>3605.0</td>\n",
       "    </tr>\n",
       "    <tr>\n",
       "      <th>3</th>\n",
       "      <td>Horse meat, with bones, kg</td>\n",
       "      <td>Ulaanbaatar</td>\n",
       "      <td>2011-03-01</td>\n",
       "      <td>3535.0</td>\n",
       "    </tr>\n",
       "    <tr>\n",
       "      <th>4</th>\n",
       "      <td>Horse meat, with bones, kg</td>\n",
       "      <td>Ulaanbaatar</td>\n",
       "      <td>2011-04-01</td>\n",
       "      <td>3290.0</td>\n",
       "    </tr>\n",
       "  </tbody>\n",
       "</table>\n",
       "</div>"
      ],
      "text/plain": [
       "           Goods and services        Aimag       date   price\n",
       "0  Horse meat, with bones, kg  Ulaanbaatar 2010-12-01  2710.0\n",
       "1  Horse meat, with bones, kg  Ulaanbaatar 2011-01-01  3460.0\n",
       "2  Horse meat, with bones, kg  Ulaanbaatar 2011-02-01  3605.0\n",
       "3  Horse meat, with bones, kg  Ulaanbaatar 2011-03-01  3535.0\n",
       "4  Horse meat, with bones, kg  Ulaanbaatar 2011-04-01  3290.0"
      ]
     },
     "execution_count": 42,
     "metadata": {},
     "output_type": "execute_result"
    }
   ],
   "source": [
    "meat.head()"
   ]
  },
  {
   "cell_type": "markdown",
   "metadata": {},
   "source": [
    "### Check dates"
   ]
  },
  {
   "cell_type": "code",
   "execution_count": 40,
   "metadata": {},
   "outputs": [
    {
     "data": {
      "text/plain": [
       "Goods and services            object\n",
       "Aimag                         object\n",
       "date                  datetime64[ns]\n",
       "price                        float64\n",
       "dtype: object"
      ]
     },
     "execution_count": 40,
     "metadata": {},
     "output_type": "execute_result"
    }
   ],
   "source": [
    "meat.dtypes"
   ]
  },
  {
   "cell_type": "code",
   "execution_count": 43,
   "metadata": {},
   "outputs": [
    {
     "data": {
      "text/plain": [
       "Aimag                object\n",
       "Sex                  object\n",
       "date         datetime64[ns]\n",
       "salary              float64\n",
       "quarter               int64\n",
       "year                 object\n",
       "temp_date            object\n",
       "dtype: object"
      ]
     },
     "execution_count": 43,
     "metadata": {},
     "output_type": "execute_result"
    }
   ],
   "source": [
    "salary.dtypes"
   ]
  },
  {
   "cell_type": "markdown",
   "metadata": {},
   "source": [
    "## Merge Data"
   ]
  },
  {
   "cell_type": "markdown",
   "metadata": {},
   "source": [
    "`merge`, `concat`, and `append` are the main methods for merging data in Pandas. Here are some examples of each."
   ]
  },
  {
   "cell_type": "markdown",
   "metadata": {},
   "source": [
    "An example of a `concat`. Concatenation works along an axis and their values."
   ]
  },
  {
   "attachments": {
    "c335fd57-1eb3-4d8f-9045-9554cf144d7f.png": {
     "image/png": "[encoded data removed]"
    }
   },
   "cell_type": "markdown",
   "metadata": {},
   "source": [
    "![image.png](attachment:c335fd57-1eb3-4d8f-9045-9554cf144d7f.png)"
   ]
  },
  {
   "cell_type": "markdown",
   "metadata": {},
   "source": [
    "An example of `append`. Appending adds data to the end of a dataframe. "
   ]
  },
  {
   "attachments": {
    "963a1db4-27cf-4aae-9974-67e44a29ab8d.png": {
     "image/png": "[encoded data removed]"
    }
   },
   "cell_type": "markdown",
   "metadata": {},
   "source": [
    "![image.png](attachment:963a1db4-27cf-4aae-9974-67e44a29ab8d.png)"
   ]
  },
  {
   "cell_type": "markdown",
   "metadata": {},
   "source": [
    "An example of `merge`. Merge does SQL style joins on your data."
   ]
  },
  {
   "attachments": {
    "4d0baeec-1dd2-4d33-ac5d-bfb17175fd78.png": {
     "image/png": "[encoded data removed]"
    }
   },
   "cell_type": "markdown",
   "metadata": {},
   "source": [
    "![image.png](attachment:4d0baeec-1dd2-4d33-ac5d-bfb17175fd78.png)"
   ]
  },
  {
   "cell_type": "markdown",
   "metadata": {},
   "source": [
    "Since we want to join our data on a key (`date`), we will use merge."
   ]
  },
  {
   "cell_type": "code",
   "execution_count": 44,
   "metadata": {},
   "outputs": [],
   "source": [
    "meat = meat[['date','price']]"
   ]
  },
  {
   "cell_type": "code",
   "execution_count": 45,
   "metadata": {},
   "outputs": [],
   "source": [
    "salary = salary[['date','salary']]"
   ]
  },
  {
   "cell_type": "code",
   "execution_count": 46,
   "metadata": {},
   "outputs": [],
   "source": [
    "meat = meat.merge(salary, how='left', on='date')"
   ]
  },
  {
   "cell_type": "code",
   "execution_count": 47,
   "metadata": {},
   "outputs": [
    {
     "data": {
      "text/html": [
       "<div>\n",
       "<style scoped>\n",
       "    .dataframe tbody tr th:only-of-type {\n",
       "        vertical-align: middle;\n",
       "    }\n",
       "\n",
       "    .dataframe tbody tr th {\n",
       "        vertical-align: top;\n",
       "    }\n",
       "\n",
       "    .dataframe thead th {\n",
       "        text-align: right;\n",
       "    }\n",
       "</style>\n",
       "<table border=\"1\" class=\"dataframe\">\n",
       "  <thead>\n",
       "    <tr style=\"text-align: right;\">\n",
       "      <th></th>\n",
       "      <th>date</th>\n",
       "      <th>price</th>\n",
       "      <th>salary</th>\n",
       "    </tr>\n",
       "  </thead>\n",
       "  <tbody>\n",
       "    <tr>\n",
       "      <th>0</th>\n",
       "      <td>2010-12-01</td>\n",
       "      <td>2710.0</td>\n",
       "      <td>416.4</td>\n",
       "    </tr>\n",
       "    <tr>\n",
       "      <th>1</th>\n",
       "      <td>2011-01-01</td>\n",
       "      <td>3460.0</td>\n",
       "      <td>NaN</td>\n",
       "    </tr>\n",
       "    <tr>\n",
       "      <th>2</th>\n",
       "      <td>2011-02-01</td>\n",
       "      <td>3605.0</td>\n",
       "      <td>NaN</td>\n",
       "    </tr>\n",
       "    <tr>\n",
       "      <th>3</th>\n",
       "      <td>2011-03-01</td>\n",
       "      <td>3535.0</td>\n",
       "      <td>430.3</td>\n",
       "    </tr>\n",
       "    <tr>\n",
       "      <th>4</th>\n",
       "      <td>2011-04-01</td>\n",
       "      <td>3290.0</td>\n",
       "      <td>NaN</td>\n",
       "    </tr>\n",
       "    <tr>\n",
       "      <th>5</th>\n",
       "      <td>2011-05-01</td>\n",
       "      <td>3370.0</td>\n",
       "      <td>NaN</td>\n",
       "    </tr>\n",
       "    <tr>\n",
       "      <th>6</th>\n",
       "      <td>2011-06-01</td>\n",
       "      <td>3630.0</td>\n",
       "      <td>462.1</td>\n",
       "    </tr>\n",
       "    <tr>\n",
       "      <th>7</th>\n",
       "      <td>2011-07-01</td>\n",
       "      <td>3705.0</td>\n",
       "      <td>NaN</td>\n",
       "    </tr>\n",
       "    <tr>\n",
       "      <th>8</th>\n",
       "      <td>2011-08-01</td>\n",
       "      <td>3690.0</td>\n",
       "      <td>NaN</td>\n",
       "    </tr>\n",
       "    <tr>\n",
       "      <th>9</th>\n",
       "      <td>2011-09-01</td>\n",
       "      <td>3650.0</td>\n",
       "      <td>478.6</td>\n",
       "    </tr>\n",
       "  </tbody>\n",
       "</table>\n",
       "</div>"
      ],
      "text/plain": [
       "        date   price  salary\n",
       "0 2010-12-01  2710.0   416.4\n",
       "1 2011-01-01  3460.0     NaN\n",
       "2 2011-02-01  3605.0     NaN\n",
       "3 2011-03-01  3535.0   430.3\n",
       "4 2011-04-01  3290.0     NaN\n",
       "5 2011-05-01  3370.0     NaN\n",
       "6 2011-06-01  3630.0   462.1\n",
       "7 2011-07-01  3705.0     NaN\n",
       "8 2011-08-01  3690.0     NaN\n",
       "9 2011-09-01  3650.0   478.6"
      ]
     },
     "execution_count": 47,
     "metadata": {},
     "output_type": "execute_result"
    }
   ],
   "source": [
    "meat.head(10)"
   ]
  },
  {
   "cell_type": "markdown",
   "metadata": {},
   "source": [
    "## Fill NA's"
   ]
  },
  {
   "cell_type": "code",
   "execution_count": 48,
   "metadata": {},
   "outputs": [],
   "source": [
    "meat['salary'] = meat['salary'].fillna(method='ffill')"
   ]
  },
  {
   "cell_type": "code",
   "execution_count": 49,
   "metadata": {},
   "outputs": [
    {
     "data": {
      "text/html": [
       "<div>\n",
       "<style scoped>\n",
       "    .dataframe tbody tr th:only-of-type {\n",
       "        vertical-align: middle;\n",
       "    }\n",
       "\n",
       "    .dataframe tbody tr th {\n",
       "        vertical-align: top;\n",
       "    }\n",
       "\n",
       "    .dataframe thead th {\n",
       "        text-align: right;\n",
       "    }\n",
       "</style>\n",
       "<table border=\"1\" class=\"dataframe\">\n",
       "  <thead>\n",
       "    <tr style=\"text-align: right;\">\n",
       "      <th></th>\n",
       "      <th>date</th>\n",
       "      <th>price</th>\n",
       "      <th>salary</th>\n",
       "    </tr>\n",
       "  </thead>\n",
       "  <tbody>\n",
       "    <tr>\n",
       "      <th>0</th>\n",
       "      <td>2010-12-01</td>\n",
       "      <td>2710.0</td>\n",
       "      <td>416.4</td>\n",
       "    </tr>\n",
       "    <tr>\n",
       "      <th>1</th>\n",
       "      <td>2011-01-01</td>\n",
       "      <td>3460.0</td>\n",
       "      <td>416.4</td>\n",
       "    </tr>\n",
       "    <tr>\n",
       "      <th>2</th>\n",
       "      <td>2011-02-01</td>\n",
       "      <td>3605.0</td>\n",
       "      <td>416.4</td>\n",
       "    </tr>\n",
       "    <tr>\n",
       "      <th>3</th>\n",
       "      <td>2011-03-01</td>\n",
       "      <td>3535.0</td>\n",
       "      <td>430.3</td>\n",
       "    </tr>\n",
       "    <tr>\n",
       "      <th>4</th>\n",
       "      <td>2011-04-01</td>\n",
       "      <td>3290.0</td>\n",
       "      <td>430.3</td>\n",
       "    </tr>\n",
       "    <tr>\n",
       "      <th>...</th>\n",
       "      <td>...</td>\n",
       "      <td>...</td>\n",
       "      <td>...</td>\n",
       "    </tr>\n",
       "    <tr>\n",
       "      <th>96</th>\n",
       "      <td>2018-12-01</td>\n",
       "      <td>6378.0</td>\n",
       "      <td>1255.7</td>\n",
       "    </tr>\n",
       "    <tr>\n",
       "      <th>97</th>\n",
       "      <td>2019-01-01</td>\n",
       "      <td>6702.0</td>\n",
       "      <td>1255.7</td>\n",
       "    </tr>\n",
       "    <tr>\n",
       "      <th>98</th>\n",
       "      <td>2019-02-01</td>\n",
       "      <td>6747.0</td>\n",
       "      <td>1255.7</td>\n",
       "    </tr>\n",
       "    <tr>\n",
       "      <th>99</th>\n",
       "      <td>2019-03-01</td>\n",
       "      <td>6745.0</td>\n",
       "      <td>1255.7</td>\n",
       "    </tr>\n",
       "    <tr>\n",
       "      <th>100</th>\n",
       "      <td>2019-04-01</td>\n",
       "      <td>6721.0</td>\n",
       "      <td>1255.7</td>\n",
       "    </tr>\n",
       "  </tbody>\n",
       "</table>\n",
       "<p>101 rows × 3 columns</p>\n",
       "</div>"
      ],
      "text/plain": [
       "          date   price  salary\n",
       "0   2010-12-01  2710.0   416.4\n",
       "1   2011-01-01  3460.0   416.4\n",
       "2   2011-02-01  3605.0   416.4\n",
       "3   2011-03-01  3535.0   430.3\n",
       "4   2011-04-01  3290.0   430.3\n",
       "..         ...     ...     ...\n",
       "96  2018-12-01  6378.0  1255.7\n",
       "97  2019-01-01  6702.0  1255.7\n",
       "98  2019-02-01  6747.0  1255.7\n",
       "99  2019-03-01  6745.0  1255.7\n",
       "100 2019-04-01  6721.0  1255.7\n",
       "\n",
       "[101 rows x 3 columns]"
      ]
     },
     "execution_count": 49,
     "metadata": {},
     "output_type": "execute_result"
    }
   ],
   "source": [
    "meat"
   ]
  },
  {
   "cell_type": "markdown",
   "metadata": {},
   "source": [
    "## Visualize the combined data."
   ]
  },
  {
   "cell_type": "code",
   "execution_count": 51,
   "metadata": {},
   "outputs": [
    {
     "data": {
      "image/png": "[encoded data removed]",
      "text/plain": [
       "<Figure size 864x576 with 2 Axes>"
      ]
     },
     "metadata": {},
     "output_type": "display_data"
    }
   ],
   "source": [
    "fig, ax1 = plt.subplots()\n",
    "ax2 = ax1.twinx()\n",
    "\n",
    "# Set title\n",
    "ax1.set_title('Horse Price vs Avg Salary')\n",
    "\n",
    "# Make first plot on ax1\n",
    "ax1.plot(meat['date'], meat['salary'], color='tab:blue')\n",
    "ax1.set_ylabel('Salary (Thousands of MNT)')\n",
    "\n",
    "# Make second plot on ax2\n",
    "ax2.plot(meat['date'], meat['price'], color='tab:red')\n",
    "ax2.set_ylabel('Price per KG of Goat')\n",
    "\n",
    "# Create Legend\n",
    "fig.legend(['Salary','Goat Price per KG'], loc='upper left')\n",
    "\n",
    "# This code sync the dual axes so the tick marks match. This isn't necessary but makes it look good!\n",
    "l1 = ax1.get_ylim()\n",
    "l2 = ax2.get_ylim()\n",
    "f = lambda x : l2[0]+(x-l1[0])/(l1[1]-l1[0])*(l2[1]-l2[0])\n",
    "ticks = f(ax1.get_yticks())\n",
    "ax2.yaxis.set_major_locator(matplotlib.ticker.FixedLocator(ticks))"
   ]
  },
  {
   "cell_type": "code",
   "execution_count": null,
   "metadata": {},
   "outputs": [],
   "source": []
  }
 ],
 "metadata": {
  "kernelspec": {
   "display_name": "Python 3 (ipykernel)",
   "language": "python",
   "name": "python3"
  },
  "language_info": {
   "codemirror_mode": {
    "name": "ipython",
    "version": 3
   },
   "file_extension": ".py",
   "mimetype": "text/x-python",
   "name": "python",
   "nbconvert_exporter": "python",
   "pygments_lexer": "ipython3",
   "version": "3.9.6"
  },
  "toc-autonumbering": false
 },
 "nbformat": 4,
 "nbformat_minor": 4
}
