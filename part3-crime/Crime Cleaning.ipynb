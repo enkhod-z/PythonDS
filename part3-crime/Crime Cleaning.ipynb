{
 "cells": [
  {
   "cell_type": "markdown",
   "metadata": {},
   "source": [
    "## Crime Data Cleaning"
   ]
  },
  {
   "cell_type": "code",
   "execution_count": 20,
   "metadata": {},
   "outputs": [],
   "source": [
    "import pandas as pd\n",
    "import numpy as np\n",
    "import matplotlib.pyplot as plt"
   ]
  },
  {
   "cell_type": "code",
   "execution_count": 21,
   "metadata": {},
   "outputs": [],
   "source": [
    "df = pd.read_csv('crime.csv')"
   ]
  },
  {
   "cell_type": "code",
   "execution_count": 22,
   "metadata": {},
   "outputs": [
    {
     "data": {
      "text/html": [
       "<div>\n",
       "<style scoped>\n",
       "    .dataframe tbody tr th:only-of-type {\n",
       "        vertical-align: middle;\n",
       "    }\n",
       "\n",
       "    .dataframe tbody tr th {\n",
       "        vertical-align: top;\n",
       "    }\n",
       "\n",
       "    .dataframe thead th {\n",
       "        text-align: right;\n",
       "    }\n",
       "</style>\n",
       "<table border=\"1\" class=\"dataframe\">\n",
       "  <thead>\n",
       "    <tr style=\"text-align: right;\">\n",
       "      <th></th>\n",
       "      <th>Гэмт хэргийн төрөл</th>\n",
       "      <th>Хэргийн дугаар</th>\n",
       "      <th>Хэргийн огноо</th>\n",
       "      <th>Хэргийн байршил</th>\n",
       "      <th>Шалгасан ЦХ</th>\n",
       "    </tr>\n",
       "  </thead>\n",
       "  <tbody>\n",
       "    <tr>\n",
       "      <th>0</th>\n",
       "      <td>Танхайрах</td>\n",
       "      <td>21137048.0</td>\n",
       "      <td>12/31/2010</td>\n",
       "      <td>Сонгинохайрхан дүүрэг, 15-р хороо,</td>\n",
       "      <td>Сонгинохайрхан дүүргийн ЦХ /хуучин/</td>\n",
       "    </tr>\n",
       "    <tr>\n",
       "      <th>1</th>\n",
       "      <td>Бусдын бие махбодид гэмтэл учруулах</td>\n",
       "      <td>21129138.0</td>\n",
       "      <td>12/31/2010</td>\n",
       "      <td>Баянзүрх дүүрэг, 6-р хороо,</td>\n",
       "      <td>Баянзүрх дүүргийн ЦХ /хуучин/</td>\n",
       "    </tr>\n",
       "    <tr>\n",
       "      <th>2</th>\n",
       "      <td>Дээрэмдэх</td>\n",
       "      <td>21140067.0</td>\n",
       "      <td>12/31/2010</td>\n",
       "      <td>Чингэлтэй дүүрэг, 4-р хороо,</td>\n",
       "      <td>Чингэлтэй дүүргийн ЦХ /хуучин/</td>\n",
       "    </tr>\n",
       "    <tr>\n",
       "      <th>3</th>\n",
       "      <td>Дээрэмдэх</td>\n",
       "      <td>21132012.0</td>\n",
       "      <td>12/31/2010</td>\n",
       "      <td>Баянгол дүүрэг, 15-р хороо,</td>\n",
       "      <td>Баянгол дүүргийн цагдаагийн 2-р хэлтэс</td>\n",
       "    </tr>\n",
       "    <tr>\n",
       "      <th>4</th>\n",
       "      <td>Дээрэмдэх</td>\n",
       "      <td>21133918.0</td>\n",
       "      <td>12/31/2010</td>\n",
       "      <td>Баянгол дүүрэг, 4-р хороо, 2,</td>\n",
       "      <td>Баянгол дүүрэг дэх цагдаагийн 2-р хэлтэс</td>\n",
       "    </tr>\n",
       "  </tbody>\n",
       "</table>\n",
       "</div>"
      ],
      "text/plain": [
       "                    Гэмт хэргийн төрөл  Хэргийн дугаар Хэргийн огноо  \\\n",
       "0                            Танхайрах      21137048.0    12/31/2010   \n",
       "1  Бусдын бие махбодид гэмтэл учруулах      21129138.0    12/31/2010   \n",
       "2                            Дээрэмдэх      21140067.0    12/31/2010   \n",
       "3                            Дээрэмдэх      21132012.0    12/31/2010   \n",
       "4                            Дээрэмдэх      21133918.0    12/31/2010   \n",
       "\n",
       "                      Хэргийн байршил  \\\n",
       "0  Сонгинохайрхан дүүрэг, 15-р хороо,   \n",
       "1         Баянзүрх дүүрэг, 6-р хороо,   \n",
       "2        Чингэлтэй дүүрэг, 4-р хороо,   \n",
       "3         Баянгол дүүрэг, 15-р хороо,   \n",
       "4       Баянгол дүүрэг, 4-р хороо, 2,   \n",
       "\n",
       "                                Шалгасан ЦХ  \n",
       "0       Сонгинохайрхан дүүргийн ЦХ /хуучин/  \n",
       "1             Баянзүрх дүүргийн ЦХ /хуучин/  \n",
       "2            Чингэлтэй дүүргийн ЦХ /хуучин/  \n",
       "3    Баянгол дүүргийн цагдаагийн 2-р хэлтэс  \n",
       "4  Баянгол дүүрэг дэх цагдаагийн 2-р хэлтэс  "
      ]
     },
     "execution_count": 22,
     "metadata": {},
     "output_type": "execute_result"
    }
   ],
   "source": [
    "df.head()"
   ]
  },
  {
   "cell_type": "markdown",
   "metadata": {},
   "source": [
    "## Check Dtypes"
   ]
  },
  {
   "cell_type": "code",
   "execution_count": 23,
   "metadata": {},
   "outputs": [
    {
     "data": {
      "text/plain": [
       "Гэмт хэргийн төрөл     object\n",
       "Хэргийн дугаар        float64\n",
       "Хэргийн огноо          object\n",
       "Хэргийн байршил        object\n",
       "Шалгасан ЦХ            object\n",
       "dtype: object"
      ]
     },
     "execution_count": 23,
     "metadata": {},
     "output_type": "execute_result"
    }
   ],
   "source": [
    "df.dtypes"
   ]
  },
  {
   "cell_type": "code",
   "execution_count": 24,
   "metadata": {},
   "outputs": [],
   "source": [
    "df = df.rename(columns={'Гэмт хэргийн төрөл':'type',\n",
    "                        'Хэргийн дугаар':'number',\n",
    "                        'Хэргийн огноо':'date',\n",
    "                       'Хэргийн байршил':'location',\n",
    "                       'Шалгасан ЦХ':'station'})"
   ]
  },
  {
   "cell_type": "code",
   "execution_count": 25,
   "metadata": {},
   "outputs": [
    {
     "data": {
      "text/plain": [
       "0        12/31/2010\n",
       "1        12/31/2010\n",
       "2        12/31/2010\n",
       "3        12/31/2010\n",
       "4        12/31/2010\n",
       "            ...    \n",
       "71740           NaN\n",
       "71741           NaN\n",
       "71742           NaN\n",
       "71743           NaN\n",
       "71744           NaN\n",
       "Name: date, Length: 71745, dtype: object"
      ]
     },
     "execution_count": 25,
     "metadata": {},
     "output_type": "execute_result"
    }
   ],
   "source": [
    "df['date']"
   ]
  },
  {
   "cell_type": "code",
   "execution_count": 26,
   "metadata": {},
   "outputs": [],
   "source": [
    "df['date'] = pd.to_datetime(df['date'])"
   ]
  },
  {
   "cell_type": "code",
   "execution_count": 27,
   "metadata": {},
   "outputs": [
    {
     "data": {
      "text/plain": [
       "type                object\n",
       "number             float64\n",
       "date        datetime64[ns]\n",
       "location            object\n",
       "station             object\n",
       "dtype: object"
      ]
     },
     "execution_count": 27,
     "metadata": {},
     "output_type": "execute_result"
    }
   ],
   "source": [
    "df.dtypes"
   ]
  },
  {
   "cell_type": "code",
   "execution_count": 28,
   "metadata": {},
   "outputs": [
    {
     "data": {
      "text/plain": [
       "0        21137048.0\n",
       "1        21129138.0\n",
       "2        21140067.0\n",
       "3        21132012.0\n",
       "4        21133918.0\n",
       "            ...    \n",
       "71740           NaN\n",
       "71741           NaN\n",
       "71742           NaN\n",
       "71743           NaN\n",
       "71744           NaN\n",
       "Name: number, Length: 71745, dtype: float64"
      ]
     },
     "execution_count": 28,
     "metadata": {},
     "output_type": "execute_result"
    }
   ],
   "source": [
    "df['number'].astype('int', errors='ignore')"
   ]
  },
  {
   "cell_type": "code",
   "execution_count": 10,
   "metadata": {},
   "outputs": [
    {
     "data": {
      "text/plain": [
       "type                object\n",
       "number             float64\n",
       "date        datetime64[ns]\n",
       "location            object\n",
       "station             object\n",
       "dtype: object"
      ]
     },
     "execution_count": 10,
     "metadata": {},
     "output_type": "execute_result"
    }
   ],
   "source": [
    "df.dtypes"
   ]
  },
  {
   "cell_type": "code",
   "execution_count": 29,
   "metadata": {},
   "outputs": [
    {
     "data": {
      "text/plain": [
       "(71745, 5)"
      ]
     },
     "execution_count": 29,
     "metadata": {},
     "output_type": "execute_result"
    }
   ],
   "source": [
    "df.shape"
   ]
  },
  {
   "cell_type": "markdown",
   "metadata": {},
   "source": [
    "## Handle NaN's"
   ]
  },
  {
   "cell_type": "code",
   "execution_count": 11,
   "metadata": {},
   "outputs": [
    {
     "data": {
      "text/plain": [
       "type        True\n",
       "number      True\n",
       "date        True\n",
       "location    True\n",
       "station     True\n",
       "dtype: bool"
      ]
     },
     "execution_count": 11,
     "metadata": {},
     "output_type": "execute_result"
    }
   ],
   "source": [
    "df.isnull().any()"
   ]
  },
  {
   "cell_type": "code",
   "execution_count": 12,
   "metadata": {},
   "outputs": [
    {
     "data": {
      "text/plain": [
       "type        951\n",
       "number      951\n",
       "date        951\n",
       "location    951\n",
       "station     951\n",
       "dtype: int64"
      ]
     },
     "execution_count": 12,
     "metadata": {},
     "output_type": "execute_result"
    }
   ],
   "source": [
    "df.isnull().sum()"
   ]
  },
  {
   "cell_type": "code",
   "execution_count": 13,
   "metadata": {},
   "outputs": [
    {
     "data": {
      "text/plain": [
       "type        0.013255\n",
       "number      0.013255\n",
       "date        0.013255\n",
       "location    0.013255\n",
       "station     0.013255\n",
       "dtype: float64"
      ]
     },
     "execution_count": 13,
     "metadata": {},
     "output_type": "execute_result"
    }
   ],
   "source": [
    "df.isnull().sum() / df.shape[0]"
   ]
  },
  {
   "cell_type": "markdown",
   "metadata": {},
   "source": [
    "First we will create a mask for the entire dataframe. This will show us boolean values whether each cell is NaN or not."
   ]
  },
  {
   "cell_type": "code",
   "execution_count": 30,
   "metadata": {},
   "outputs": [],
   "source": [
    "mask = df.isnull()"
   ]
  },
  {
   "cell_type": "markdown",
   "metadata": {},
   "source": [
    "This will look to see if there is at least 1 True value in each row (axis=1), then we will save that to a row mask."
   ]
  },
  {
   "cell_type": "code",
   "execution_count": 31,
   "metadata": {},
   "outputs": [
    {
     "data": {
      "text/plain": [
       "0        False\n",
       "1        False\n",
       "2        False\n",
       "3        False\n",
       "4        False\n",
       "         ...  \n",
       "71740     True\n",
       "71741     True\n",
       "71742     True\n",
       "71743     True\n",
       "71744     True\n",
       "Length: 71745, dtype: bool"
      ]
     },
     "execution_count": 31,
     "metadata": {},
     "output_type": "execute_result"
    }
   ],
   "source": [
    "row_mask = mask.any(axis=1)\n",
    "row_mask"
   ]
  },
  {
   "cell_type": "code",
   "execution_count": 32,
   "metadata": {},
   "outputs": [
    {
     "data": {
      "text/html": [
       "<div>\n",
       "<style scoped>\n",
       "    .dataframe tbody tr th:only-of-type {\n",
       "        vertical-align: middle;\n",
       "    }\n",
       "\n",
       "    .dataframe tbody tr th {\n",
       "        vertical-align: top;\n",
       "    }\n",
       "\n",
       "    .dataframe thead th {\n",
       "        text-align: right;\n",
       "    }\n",
       "</style>\n",
       "<table border=\"1\" class=\"dataframe\">\n",
       "  <thead>\n",
       "    <tr style=\"text-align: right;\">\n",
       "      <th></th>\n",
       "      <th>type</th>\n",
       "      <th>number</th>\n",
       "      <th>date</th>\n",
       "      <th>location</th>\n",
       "      <th>station</th>\n",
       "    </tr>\n",
       "  </thead>\n",
       "  <tbody>\n",
       "    <tr>\n",
       "      <th>0</th>\n",
       "      <td>Танхайрах</td>\n",
       "      <td>2.113705e+07</td>\n",
       "      <td>2010-12-31</td>\n",
       "      <td>Сонгинохайрхан дүүрэг, 15-р хороо,</td>\n",
       "      <td>Сонгинохайрхан дүүргийн ЦХ /хуучин/</td>\n",
       "    </tr>\n",
       "    <tr>\n",
       "      <th>1</th>\n",
       "      <td>Бусдын бие махбодид гэмтэл учруулах</td>\n",
       "      <td>2.112914e+07</td>\n",
       "      <td>2010-12-31</td>\n",
       "      <td>Баянзүрх дүүрэг, 6-р хороо,</td>\n",
       "      <td>Баянзүрх дүүргийн ЦХ /хуучин/</td>\n",
       "    </tr>\n",
       "    <tr>\n",
       "      <th>2</th>\n",
       "      <td>Дээрэмдэх</td>\n",
       "      <td>2.114007e+07</td>\n",
       "      <td>2010-12-31</td>\n",
       "      <td>Чингэлтэй дүүрэг, 4-р хороо,</td>\n",
       "      <td>Чингэлтэй дүүргийн ЦХ /хуучин/</td>\n",
       "    </tr>\n",
       "    <tr>\n",
       "      <th>3</th>\n",
       "      <td>Дээрэмдэх</td>\n",
       "      <td>2.113201e+07</td>\n",
       "      <td>2010-12-31</td>\n",
       "      <td>Баянгол дүүрэг, 15-р хороо,</td>\n",
       "      <td>Баянгол дүүргийн цагдаагийн 2-р хэлтэс</td>\n",
       "    </tr>\n",
       "    <tr>\n",
       "      <th>4</th>\n",
       "      <td>Дээрэмдэх</td>\n",
       "      <td>2.113392e+07</td>\n",
       "      <td>2010-12-31</td>\n",
       "      <td>Баянгол дүүрэг, 4-р хороо, 2,</td>\n",
       "      <td>Баянгол дүүрэг дэх цагдаагийн 2-р хэлтэс</td>\n",
       "    </tr>\n",
       "    <tr>\n",
       "      <th>...</th>\n",
       "      <td>...</td>\n",
       "      <td>...</td>\n",
       "      <td>...</td>\n",
       "      <td>...</td>\n",
       "      <td>...</td>\n",
       "    </tr>\n",
       "    <tr>\n",
       "      <th>70789</th>\n",
       "      <td>Бусдын бие махбодид гэмтэл учруулах</td>\n",
       "      <td>2.015260e+11</td>\n",
       "      <td>2017-07-01</td>\n",
       "      <td>Сонгинохайрхан дүүрэг, 16-р хороо,</td>\n",
       "      <td>Сонгинохайрхан дүүрэг дэх цагдаагийн 3-р хэлтэс</td>\n",
       "    </tr>\n",
       "    <tr>\n",
       "      <th>70790</th>\n",
       "      <td>Хулгайлах - Иргэдийн өмч</td>\n",
       "      <td>2.017030e+11</td>\n",
       "      <td>2017-08-15</td>\n",
       "      <td>Архангай аймаг Чулуут сум Өлзийт баг, 1-р хоро...</td>\n",
       "      <td>Архангай аймаг дахь ЦГ</td>\n",
       "    </tr>\n",
       "    <tr>\n",
       "      <th>70791</th>\n",
       "      <td>Хулгайлах - Иргэдийн өмч</td>\n",
       "      <td>2.017140e+11</td>\n",
       "      <td>2017-08-19</td>\n",
       "      <td>Орхон аймаг Баян өндөр сум Хүрэнбулаг баг, 4-р...</td>\n",
       "      <td>Орхон аймаг дахь ЦГ</td>\n",
       "    </tr>\n",
       "    <tr>\n",
       "      <th>70792</th>\n",
       "      <td>Хулгайлах - Иргэдийн өмч</td>\n",
       "      <td>2.016260e+11</td>\n",
       "      <td>2017-10-03</td>\n",
       "      <td>Хан-Уул, 15-р хороо,</td>\n",
       "      <td>Хан-Уул дүүрэг дэх цагдаагийн 1-р хэлтэс</td>\n",
       "    </tr>\n",
       "    <tr>\n",
       "      <th>70793</th>\n",
       "      <td>Хулгайлах - Иргэдийн өмч</td>\n",
       "      <td>2.017260e+11</td>\n",
       "      <td>2017-10-19</td>\n",
       "      <td>Сонгинохайрхан дүүрэг, 22-р хороо,</td>\n",
       "      <td>Сонгинохайрхан дүүрэг дэх цагдаагийн 1-р хэлтэс</td>\n",
       "    </tr>\n",
       "  </tbody>\n",
       "</table>\n",
       "<p>70794 rows × 5 columns</p>\n",
       "</div>"
      ],
      "text/plain": [
       "                                      type        number       date  \\\n",
       "0                                Танхайрах  2.113705e+07 2010-12-31   \n",
       "1      Бусдын бие махбодид гэмтэл учруулах  2.112914e+07 2010-12-31   \n",
       "2                                Дээрэмдэх  2.114007e+07 2010-12-31   \n",
       "3                                Дээрэмдэх  2.113201e+07 2010-12-31   \n",
       "4                                Дээрэмдэх  2.113392e+07 2010-12-31   \n",
       "...                                    ...           ...        ...   \n",
       "70789  Бусдын бие махбодид гэмтэл учруулах  2.015260e+11 2017-07-01   \n",
       "70790             Хулгайлах - Иргэдийн өмч  2.017030e+11 2017-08-15   \n",
       "70791             Хулгайлах - Иргэдийн өмч  2.017140e+11 2017-08-19   \n",
       "70792             Хулгайлах - Иргэдийн өмч  2.016260e+11 2017-10-03   \n",
       "70793             Хулгайлах - Иргэдийн өмч  2.017260e+11 2017-10-19   \n",
       "\n",
       "                                                location  \\\n",
       "0                     Сонгинохайрхан дүүрэг, 15-р хороо,   \n",
       "1                            Баянзүрх дүүрэг, 6-р хороо,   \n",
       "2                           Чингэлтэй дүүрэг, 4-р хороо,   \n",
       "3                            Баянгол дүүрэг, 15-р хороо,   \n",
       "4                          Баянгол дүүрэг, 4-р хороо, 2,   \n",
       "...                                                  ...   \n",
       "70789                 Сонгинохайрхан дүүрэг, 16-р хороо,   \n",
       "70790  Архангай аймаг Чулуут сум Өлзийт баг, 1-р хоро...   \n",
       "70791  Орхон аймаг Баян өндөр сум Хүрэнбулаг баг, 4-р...   \n",
       "70792                               Хан-Уул, 15-р хороо,   \n",
       "70793                 Сонгинохайрхан дүүрэг, 22-р хороо,   \n",
       "\n",
       "                                               station  \n",
       "0                  Сонгинохайрхан дүүргийн ЦХ /хуучин/  \n",
       "1                        Баянзүрх дүүргийн ЦХ /хуучин/  \n",
       "2                       Чингэлтэй дүүргийн ЦХ /хуучин/  \n",
       "3               Баянгол дүүргийн цагдаагийн 2-р хэлтэс  \n",
       "4             Баянгол дүүрэг дэх цагдаагийн 2-р хэлтэс  \n",
       "...                                                ...  \n",
       "70789  Сонгинохайрхан дүүрэг дэх цагдаагийн 3-р хэлтэс  \n",
       "70790                           Архангай аймаг дахь ЦГ  \n",
       "70791                              Орхон аймаг дахь ЦГ  \n",
       "70792         Хан-Уул дүүрэг дэх цагдаагийн 1-р хэлтэс  \n",
       "70793  Сонгинохайрхан дүүрэг дэх цагдаагийн 1-р хэлтэс  \n",
       "\n",
       "[70794 rows x 5 columns]"
      ]
     },
     "execution_count": 32,
     "metadata": {},
     "output_type": "execute_result"
    }
   ],
   "source": [
    "df[~row_mask]"
   ]
  },
  {
   "cell_type": "code",
   "execution_count": 16,
   "metadata": {},
   "outputs": [],
   "source": [
    "df = df.dropna()"
   ]
  },
  {
   "cell_type": "code",
   "execution_count": 19,
   "metadata": {},
   "outputs": [
    {
     "data": {
      "text/plain": [
       "(70794, 5)"
      ]
     },
     "execution_count": 19,
     "metadata": {},
     "output_type": "execute_result"
    }
   ],
   "source": [
    "df.shape"
   ]
  },
  {
   "cell_type": "code",
   "execution_count": 19,
   "metadata": {},
   "outputs": [
    {
     "data": {
      "text/html": [
       "<div>\n",
       "<style scoped>\n",
       "    .dataframe tbody tr th:only-of-type {\n",
       "        vertical-align: middle;\n",
       "    }\n",
       "\n",
       "    .dataframe tbody tr th {\n",
       "        vertical-align: top;\n",
       "    }\n",
       "\n",
       "    .dataframe thead th {\n",
       "        text-align: right;\n",
       "    }\n",
       "</style>\n",
       "<table border=\"1\" class=\"dataframe\">\n",
       "  <thead>\n",
       "    <tr style=\"text-align: right;\">\n",
       "      <th></th>\n",
       "      <th>type</th>\n",
       "      <th>number</th>\n",
       "      <th>date</th>\n",
       "      <th>location</th>\n",
       "      <th>station</th>\n",
       "    </tr>\n",
       "  </thead>\n",
       "  <tbody>\n",
       "    <tr>\n",
       "      <th>59028</th>\n",
       "      <td>Танхайрах</td>\n",
       "      <td>2.016250e+11</td>\n",
       "      <td>2016-07-16</td>\n",
       "      <td>Баянзүрх дүүрэг, 7-р хороо,</td>\n",
       "      <td>Баянзүрх дүүрэг дэх цагдаагийн 2-р хэлтэс</td>\n",
       "    </tr>\n",
       "    <tr>\n",
       "      <th>40056</th>\n",
       "      <td>Хулгайлах - Иргэдийн өмч</td>\n",
       "      <td>2.015260e+11</td>\n",
       "      <td>2015-09-16</td>\n",
       "      <td>Сонгинохайрхан дүүрэг, 6-р хороо, хм,</td>\n",
       "      <td>Сонгинохайрхан дүүрэг дэх цагдаагийн 2-р хэлтэс</td>\n",
       "    </tr>\n",
       "    <tr>\n",
       "      <th>41335</th>\n",
       "      <td>Бусдын бие махбодид гэмтэл учруулах</td>\n",
       "      <td>2.015260e+11</td>\n",
       "      <td>2015-10-07</td>\n",
       "      <td>Баянгол дүүрэг, 5-р хороо,</td>\n",
       "      <td>Баянгол дүүрэг дэх цагдаагийн 2-р хэлтэс</td>\n",
       "    </tr>\n",
       "    <tr>\n",
       "      <th>38236</th>\n",
       "      <td>Бусдын бие махбодид гэмтэл учруулах</td>\n",
       "      <td>2.015190e+11</td>\n",
       "      <td>2015-08-15</td>\n",
       "      <td>Төв аймаг Эрдэнэ сум Тэрэлж баг, 1-р хороо,</td>\n",
       "      <td>Төв аймаг дахь ЦГ</td>\n",
       "    </tr>\n",
       "    <tr>\n",
       "      <th>20048</th>\n",
       "      <td>Бусдын бие махбодид гэмтэл учруулах</td>\n",
       "      <td>2.014250e+12</td>\n",
       "      <td>2014-06-26</td>\n",
       "      <td>Чингэлтэй дүүрэг, 16-р хороо,</td>\n",
       "      <td>Чингэлтэй дүүргийн цагдаагийн 2-р хэлтэс</td>\n",
       "    </tr>\n",
       "  </tbody>\n",
       "</table>\n",
       "</div>"
      ],
      "text/plain": [
       "                                      type        number       date  \\\n",
       "59028                            Танхайрах  2.016250e+11 2016-07-16   \n",
       "40056             Хулгайлах - Иргэдийн өмч  2.015260e+11 2015-09-16   \n",
       "41335  Бусдын бие махбодид гэмтэл учруулах  2.015260e+11 2015-10-07   \n",
       "38236  Бусдын бие махбодид гэмтэл учруулах  2.015190e+11 2015-08-15   \n",
       "20048  Бусдын бие махбодид гэмтэл учруулах  2.014250e+12 2014-06-26   \n",
       "\n",
       "                                          location  \\\n",
       "59028                  Баянзүрх дүүрэг, 7-р хороо,   \n",
       "40056        Сонгинохайрхан дүүрэг, 6-р хороо, хм,   \n",
       "41335                   Баянгол дүүрэг, 5-р хороо,   \n",
       "38236  Төв аймаг Эрдэнэ сум Тэрэлж баг, 1-р хороо,   \n",
       "20048                Чингэлтэй дүүрэг, 16-р хороо,   \n",
       "\n",
       "                                               station  \n",
       "59028        Баянзүрх дүүрэг дэх цагдаагийн 2-р хэлтэс  \n",
       "40056  Сонгинохайрхан дүүрэг дэх цагдаагийн 2-р хэлтэс  \n",
       "41335         Баянгол дүүрэг дэх цагдаагийн 2-р хэлтэс  \n",
       "38236                                Төв аймаг дахь ЦГ  \n",
       "20048         Чингэлтэй дүүргийн цагдаагийн 2-р хэлтэс  "
      ]
     },
     "execution_count": 19,
     "metadata": {},
     "output_type": "execute_result"
    }
   ],
   "source": [
    "df.sample(5)"
   ]
  },
  {
   "cell_type": "code",
   "execution_count": 20,
   "metadata": {},
   "outputs": [
    {
     "data": {
      "text/plain": [
       "type        0\n",
       "number      0\n",
       "date        0\n",
       "location    0\n",
       "station     0\n",
       "dtype: int64"
      ]
     },
     "execution_count": 20,
     "metadata": {},
     "output_type": "execute_result"
    }
   ],
   "source": [
    "df.isnull().sum()"
   ]
  },
  {
   "cell_type": "code",
   "execution_count": 21,
   "metadata": {},
   "outputs": [
    {
     "data": {
      "text/plain": [
       "type                object\n",
       "number             float64\n",
       "date        datetime64[ns]\n",
       "location            object\n",
       "station             object\n",
       "dtype: object"
      ]
     },
     "execution_count": 21,
     "metadata": {},
     "output_type": "execute_result"
    }
   ],
   "source": [
    "df.dtypes"
   ]
  },
  {
   "cell_type": "markdown",
   "metadata": {},
   "source": [
    "## Check Duplicates"
   ]
  },
  {
   "cell_type": "code",
   "execution_count": 22,
   "metadata": {},
   "outputs": [
    {
     "data": {
      "text/html": [
       "<div>\n",
       "<style scoped>\n",
       "    .dataframe tbody tr th:only-of-type {\n",
       "        vertical-align: middle;\n",
       "    }\n",
       "\n",
       "    .dataframe tbody tr th {\n",
       "        vertical-align: top;\n",
       "    }\n",
       "\n",
       "    .dataframe thead th {\n",
       "        text-align: right;\n",
       "    }\n",
       "</style>\n",
       "<table border=\"1\" class=\"dataframe\">\n",
       "  <thead>\n",
       "    <tr style=\"text-align: right;\">\n",
       "      <th></th>\n",
       "      <th>type</th>\n",
       "      <th>number</th>\n",
       "      <th>date</th>\n",
       "      <th>location</th>\n",
       "      <th>station</th>\n",
       "    </tr>\n",
       "  </thead>\n",
       "  <tbody>\n",
       "    <tr>\n",
       "      <th>0</th>\n",
       "      <td>Танхайрах</td>\n",
       "      <td>21137048.0</td>\n",
       "      <td>2010-12-31</td>\n",
       "      <td>Сонгинохайрхан дүүрэг, 15-р хороо,</td>\n",
       "      <td>Сонгинохайрхан дүүргийн ЦХ /хуучин/</td>\n",
       "    </tr>\n",
       "    <tr>\n",
       "      <th>1</th>\n",
       "      <td>Бусдын бие махбодид гэмтэл учруулах</td>\n",
       "      <td>21129138.0</td>\n",
       "      <td>2010-12-31</td>\n",
       "      <td>Баянзүрх дүүрэг, 6-р хороо,</td>\n",
       "      <td>Баянзүрх дүүргийн ЦХ /хуучин/</td>\n",
       "    </tr>\n",
       "    <tr>\n",
       "      <th>2</th>\n",
       "      <td>Дээрэмдэх</td>\n",
       "      <td>21140067.0</td>\n",
       "      <td>2010-12-31</td>\n",
       "      <td>Чингэлтэй дүүрэг, 4-р хороо,</td>\n",
       "      <td>Чингэлтэй дүүргийн ЦХ /хуучин/</td>\n",
       "    </tr>\n",
       "    <tr>\n",
       "      <th>3</th>\n",
       "      <td>Дээрэмдэх</td>\n",
       "      <td>21132012.0</td>\n",
       "      <td>2010-12-31</td>\n",
       "      <td>Баянгол дүүрэг, 15-р хороо,</td>\n",
       "      <td>Баянгол дүүргийн цагдаагийн 2-р хэлтэс</td>\n",
       "    </tr>\n",
       "    <tr>\n",
       "      <th>4</th>\n",
       "      <td>Дээрэмдэх</td>\n",
       "      <td>21133918.0</td>\n",
       "      <td>2010-12-31</td>\n",
       "      <td>Баянгол дүүрэг, 4-р хороо, 2,</td>\n",
       "      <td>Баянгол дүүрэг дэх цагдаагийн 2-р хэлтэс</td>\n",
       "    </tr>\n",
       "  </tbody>\n",
       "</table>\n",
       "</div>"
      ],
      "text/plain": [
       "                                  type      number       date  \\\n",
       "0                            Танхайрах  21137048.0 2010-12-31   \n",
       "1  Бусдын бие махбодид гэмтэл учруулах  21129138.0 2010-12-31   \n",
       "2                            Дээрэмдэх  21140067.0 2010-12-31   \n",
       "3                            Дээрэмдэх  21132012.0 2010-12-31   \n",
       "4                            Дээрэмдэх  21133918.0 2010-12-31   \n",
       "\n",
       "                             location  \\\n",
       "0  Сонгинохайрхан дүүрэг, 15-р хороо,   \n",
       "1         Баянзүрх дүүрэг, 6-р хороо,   \n",
       "2        Чингэлтэй дүүрэг, 4-р хороо,   \n",
       "3         Баянгол дүүрэг, 15-р хороо,   \n",
       "4       Баянгол дүүрэг, 4-р хороо, 2,   \n",
       "\n",
       "                                    station  \n",
       "0       Сонгинохайрхан дүүргийн ЦХ /хуучин/  \n",
       "1             Баянзүрх дүүргийн ЦХ /хуучин/  \n",
       "2            Чингэлтэй дүүргийн ЦХ /хуучин/  \n",
       "3    Баянгол дүүргийн цагдаагийн 2-р хэлтэс  \n",
       "4  Баянгол дүүрэг дэх цагдаагийн 2-р хэлтэс  "
      ]
     },
     "execution_count": 22,
     "metadata": {},
     "output_type": "execute_result"
    }
   ],
   "source": [
    "df.head()"
   ]
  },
  {
   "cell_type": "code",
   "execution_count": 23,
   "metadata": {},
   "outputs": [
    {
     "data": {
      "text/plain": [
       "68069"
      ]
     },
     "execution_count": 23,
     "metadata": {},
     "output_type": "execute_result"
    }
   ],
   "source": [
    "df.duplicated(subset=['number', 'type']).sum()"
   ]
  },
  {
   "cell_type": "code",
   "execution_count": 24,
   "metadata": {},
   "outputs": [
    {
     "data": {
      "text/plain": [
       "68740"
      ]
     },
     "execution_count": 24,
     "metadata": {},
     "output_type": "execute_result"
    }
   ],
   "source": [
    "df.duplicated(subset='number').sum()"
   ]
  },
  {
   "cell_type": "code",
   "execution_count": 25,
   "metadata": {},
   "outputs": [
    {
     "data": {
      "text/plain": [
       "(70794, 5)"
      ]
     },
     "execution_count": 25,
     "metadata": {},
     "output_type": "execute_result"
    }
   ],
   "source": [
    "df.shape"
   ]
  },
  {
   "cell_type": "code",
   "execution_count": 26,
   "metadata": {},
   "outputs": [
    {
     "data": {
      "text/html": [
       "<div>\n",
       "<style scoped>\n",
       "    .dataframe tbody tr th:only-of-type {\n",
       "        vertical-align: middle;\n",
       "    }\n",
       "\n",
       "    .dataframe tbody tr th {\n",
       "        vertical-align: top;\n",
       "    }\n",
       "\n",
       "    .dataframe thead th {\n",
       "        text-align: right;\n",
       "    }\n",
       "</style>\n",
       "<table border=\"1\" class=\"dataframe\">\n",
       "  <thead>\n",
       "    <tr style=\"text-align: right;\">\n",
       "      <th></th>\n",
       "      <th>type</th>\n",
       "      <th>number</th>\n",
       "      <th>date</th>\n",
       "      <th>location</th>\n",
       "      <th>station</th>\n",
       "    </tr>\n",
       "  </thead>\n",
       "  <tbody>\n",
       "    <tr>\n",
       "      <th>389</th>\n",
       "      <td>Хулгайлах - Иргэдийн өмч</td>\n",
       "      <td>2.012010e+11</td>\n",
       "      <td>2011-05-10</td>\n",
       "      <td>Сүхбаатар дүүрэг, 7-р хороо, 11,</td>\n",
       "      <td>Сүхбаатар дүүргийн цагдаагийн 1-р хэлтэс</td>\n",
       "    </tr>\n",
       "    <tr>\n",
       "      <th>449</th>\n",
       "      <td>Бусдын бие махбодид гэмтэл учруулах</td>\n",
       "      <td>2.012010e+11</td>\n",
       "      <td>2011-05-16</td>\n",
       "      <td>Баянгол дүүрэг, 7-р хороо,</td>\n",
       "      <td>Мөрдөн байцаах газар</td>\n",
       "    </tr>\n",
       "    <tr>\n",
       "      <th>798</th>\n",
       "      <td>Танхайрах</td>\n",
       "      <td>2.012010e+11</td>\n",
       "      <td>2011-07-06</td>\n",
       "      <td>Баянгол дүүрэг, 14-р хороо, 13,</td>\n",
       "      <td>Баянгол дүүргийн цагдаагийн 1-р хэлтэс</td>\n",
       "    </tr>\n",
       "    <tr>\n",
       "      <th>865</th>\n",
       "      <td>Хулгайлах - Иргэдийн өмч</td>\n",
       "      <td>2.012010e+11</td>\n",
       "      <td>2011-07-17</td>\n",
       "      <td>Сонгинохайрхан дүүрэг, 23-р хороо,</td>\n",
       "      <td>Сонгинохайрхан дүүрэг дэх цагдаагийн 3-р хэлтэс</td>\n",
       "    </tr>\n",
       "    <tr>\n",
       "      <th>894</th>\n",
       "      <td>Хулгайлах - Иргэдийн өмч</td>\n",
       "      <td>2.012010e+11</td>\n",
       "      <td>2011-07-20</td>\n",
       "      <td>Баянгол дүүрэг, 6-р хороо,</td>\n",
       "      <td>Сүхбаатар дүүргийн цагдаагийн 1-р хэлтэс</td>\n",
       "    </tr>\n",
       "    <tr>\n",
       "      <th>...</th>\n",
       "      <td>...</td>\n",
       "      <td>...</td>\n",
       "      <td>...</td>\n",
       "      <td>...</td>\n",
       "      <td>...</td>\n",
       "    </tr>\n",
       "    <tr>\n",
       "      <th>70789</th>\n",
       "      <td>Бусдын бие махбодид гэмтэл учруулах</td>\n",
       "      <td>2.015260e+11</td>\n",
       "      <td>2017-07-01</td>\n",
       "      <td>Сонгинохайрхан дүүрэг, 16-р хороо,</td>\n",
       "      <td>Сонгинохайрхан дүүрэг дэх цагдаагийн 3-р хэлтэс</td>\n",
       "    </tr>\n",
       "    <tr>\n",
       "      <th>70790</th>\n",
       "      <td>Хулгайлах - Иргэдийн өмч</td>\n",
       "      <td>2.017030e+11</td>\n",
       "      <td>2017-08-15</td>\n",
       "      <td>Архангай аймаг Чулуут сум Өлзийт баг, 1-р хоро...</td>\n",
       "      <td>Архангай аймаг дахь ЦГ</td>\n",
       "    </tr>\n",
       "    <tr>\n",
       "      <th>70791</th>\n",
       "      <td>Хулгайлах - Иргэдийн өмч</td>\n",
       "      <td>2.017140e+11</td>\n",
       "      <td>2017-08-19</td>\n",
       "      <td>Орхон аймаг Баян өндөр сум Хүрэнбулаг баг, 4-р...</td>\n",
       "      <td>Орхон аймаг дахь ЦГ</td>\n",
       "    </tr>\n",
       "    <tr>\n",
       "      <th>70792</th>\n",
       "      <td>Хулгайлах - Иргэдийн өмч</td>\n",
       "      <td>2.016260e+11</td>\n",
       "      <td>2017-10-03</td>\n",
       "      <td>Хан-Уул, 15-р хороо,</td>\n",
       "      <td>Хан-Уул дүүрэг дэх цагдаагийн 1-р хэлтэс</td>\n",
       "    </tr>\n",
       "    <tr>\n",
       "      <th>70793</th>\n",
       "      <td>Хулгайлах - Иргэдийн өмч</td>\n",
       "      <td>2.017260e+11</td>\n",
       "      <td>2017-10-19</td>\n",
       "      <td>Сонгинохайрхан дүүрэг, 22-р хороо,</td>\n",
       "      <td>Сонгинохайрхан дүүрэг дэх цагдаагийн 1-р хэлтэс</td>\n",
       "    </tr>\n",
       "  </tbody>\n",
       "</table>\n",
       "<p>68740 rows × 5 columns</p>\n",
       "</div>"
      ],
      "text/plain": [
       "                                      type        number       date  \\\n",
       "389               Хулгайлах - Иргэдийн өмч  2.012010e+11 2011-05-10   \n",
       "449    Бусдын бие махбодид гэмтэл учруулах  2.012010e+11 2011-05-16   \n",
       "798                              Танхайрах  2.012010e+11 2011-07-06   \n",
       "865               Хулгайлах - Иргэдийн өмч  2.012010e+11 2011-07-17   \n",
       "894               Хулгайлах - Иргэдийн өмч  2.012010e+11 2011-07-20   \n",
       "...                                    ...           ...        ...   \n",
       "70789  Бусдын бие махбодид гэмтэл учруулах  2.015260e+11 2017-07-01   \n",
       "70790             Хулгайлах - Иргэдийн өмч  2.017030e+11 2017-08-15   \n",
       "70791             Хулгайлах - Иргэдийн өмч  2.017140e+11 2017-08-19   \n",
       "70792             Хулгайлах - Иргэдийн өмч  2.016260e+11 2017-10-03   \n",
       "70793             Хулгайлах - Иргэдийн өмч  2.017260e+11 2017-10-19   \n",
       "\n",
       "                                                location  \\\n",
       "389                     Сүхбаатар дүүрэг, 7-р хороо, 11,   \n",
       "449                           Баянгол дүүрэг, 7-р хороо,   \n",
       "798                      Баянгол дүүрэг, 14-р хороо, 13,   \n",
       "865                   Сонгинохайрхан дүүрэг, 23-р хороо,   \n",
       "894                           Баянгол дүүрэг, 6-р хороо,   \n",
       "...                                                  ...   \n",
       "70789                 Сонгинохайрхан дүүрэг, 16-р хороо,   \n",
       "70790  Архангай аймаг Чулуут сум Өлзийт баг, 1-р хоро...   \n",
       "70791  Орхон аймаг Баян өндөр сум Хүрэнбулаг баг, 4-р...   \n",
       "70792                               Хан-Уул, 15-р хороо,   \n",
       "70793                 Сонгинохайрхан дүүрэг, 22-р хороо,   \n",
       "\n",
       "                                               station  \n",
       "389           Сүхбаатар дүүргийн цагдаагийн 1-р хэлтэс  \n",
       "449                               Мөрдөн байцаах газар  \n",
       "798             Баянгол дүүргийн цагдаагийн 1-р хэлтэс  \n",
       "865    Сонгинохайрхан дүүрэг дэх цагдаагийн 3-р хэлтэс  \n",
       "894           Сүхбаатар дүүргийн цагдаагийн 1-р хэлтэс  \n",
       "...                                                ...  \n",
       "70789  Сонгинохайрхан дүүрэг дэх цагдаагийн 3-р хэлтэс  \n",
       "70790                           Архангай аймаг дахь ЦГ  \n",
       "70791                              Орхон аймаг дахь ЦГ  \n",
       "70792         Хан-Уул дүүрэг дэх цагдаагийн 1-р хэлтэс  \n",
       "70793  Сонгинохайрхан дүүрэг дэх цагдаагийн 1-р хэлтэс  \n",
       "\n",
       "[68740 rows x 5 columns]"
      ]
     },
     "execution_count": 26,
     "metadata": {},
     "output_type": "execute_result"
    }
   ],
   "source": [
    "df[df.duplicated(subset='number')]"
   ]
  },
  {
   "cell_type": "code",
   "execution_count": 27,
   "metadata": {},
   "outputs": [
    {
     "data": {
      "text/plain": [
       "array(['Хулгайлах - Иргэдийн өмч', 201201000000.0,\n",
       "       Timestamp('2011-05-10 00:00:00'),\n",
       "       'Сүхбаатар дүүрэг, 7-р хороо, 11,',\n",
       "       'Сүхбаатар дүүргийн цагдаагийн 1-р хэлтэс'], dtype=object)"
      ]
     },
     "execution_count": 27,
     "metadata": {},
     "output_type": "execute_result"
    }
   ],
   "source": [
    "df.iloc[389].values"
   ]
  },
  {
   "cell_type": "code",
   "execution_count": 28,
   "metadata": {},
   "outputs": [
    {
     "data": {
      "text/plain": [
       "201201000000.0"
      ]
     },
     "execution_count": 28,
     "metadata": {},
     "output_type": "execute_result"
    }
   ],
   "source": [
    "df.iloc[389]['number']"
   ]
  },
  {
   "cell_type": "code",
   "execution_count": 29,
   "metadata": {},
   "outputs": [
    {
     "data": {
      "text/html": [
       "<div>\n",
       "<style scoped>\n",
       "    .dataframe tbody tr th:only-of-type {\n",
       "        vertical-align: middle;\n",
       "    }\n",
       "\n",
       "    .dataframe tbody tr th {\n",
       "        vertical-align: top;\n",
       "    }\n",
       "\n",
       "    .dataframe thead th {\n",
       "        text-align: right;\n",
       "    }\n",
       "</style>\n",
       "<table border=\"1\" class=\"dataframe\">\n",
       "  <thead>\n",
       "    <tr style=\"text-align: right;\">\n",
       "      <th></th>\n",
       "      <th>type</th>\n",
       "      <th>number</th>\n",
       "      <th>date</th>\n",
       "      <th>location</th>\n",
       "      <th>station</th>\n",
       "    </tr>\n",
       "  </thead>\n",
       "  <tbody>\n",
       "    <tr>\n",
       "      <th>263</th>\n",
       "      <td>Хүнийг санаатай алах</td>\n",
       "      <td>2.012010e+11</td>\n",
       "      <td>2011-01-27</td>\n",
       "      <td>Сүхбаатар дүүрэг, 15-р хороо,</td>\n",
       "      <td>Сүхбаатар дүүргийн цагдаагийн 2-р хэлтэс</td>\n",
       "    </tr>\n",
       "    <tr>\n",
       "      <th>389</th>\n",
       "      <td>Хулгайлах - Иргэдийн өмч</td>\n",
       "      <td>2.012010e+11</td>\n",
       "      <td>2011-05-10</td>\n",
       "      <td>Сүхбаатар дүүрэг, 7-р хороо, 11,</td>\n",
       "      <td>Сүхбаатар дүүргийн цагдаагийн 1-р хэлтэс</td>\n",
       "    </tr>\n",
       "    <tr>\n",
       "      <th>449</th>\n",
       "      <td>Бусдын бие махбодид гэмтэл учруулах</td>\n",
       "      <td>2.012010e+11</td>\n",
       "      <td>2011-05-16</td>\n",
       "      <td>Баянгол дүүрэг, 7-р хороо,</td>\n",
       "      <td>Мөрдөн байцаах газар</td>\n",
       "    </tr>\n",
       "    <tr>\n",
       "      <th>798</th>\n",
       "      <td>Танхайрах</td>\n",
       "      <td>2.012010e+11</td>\n",
       "      <td>2011-07-06</td>\n",
       "      <td>Баянгол дүүрэг, 14-р хороо, 13,</td>\n",
       "      <td>Баянгол дүүргийн цагдаагийн 1-р хэлтэс</td>\n",
       "    </tr>\n",
       "    <tr>\n",
       "      <th>865</th>\n",
       "      <td>Хулгайлах - Иргэдийн өмч</td>\n",
       "      <td>2.012010e+11</td>\n",
       "      <td>2011-07-17</td>\n",
       "      <td>Сонгинохайрхан дүүрэг, 23-р хороо,</td>\n",
       "      <td>Сонгинохайрхан дүүрэг дэх цагдаагийн 3-р хэлтэс</td>\n",
       "    </tr>\n",
       "    <tr>\n",
       "      <th>...</th>\n",
       "      <td>...</td>\n",
       "      <td>...</td>\n",
       "      <td>...</td>\n",
       "      <td>...</td>\n",
       "      <td>...</td>\n",
       "    </tr>\n",
       "    <tr>\n",
       "      <th>5740</th>\n",
       "      <td>Хулгайлах - Иргэдийн өмч</td>\n",
       "      <td>2.012010e+11</td>\n",
       "      <td>2012-12-27</td>\n",
       "      <td>Баянгол дүүрэг, 17-р хороо,</td>\n",
       "      <td>Баянгол дүүргийн цагдаагийн 2-р хэлтэс</td>\n",
       "    </tr>\n",
       "    <tr>\n",
       "      <th>5741</th>\n",
       "      <td>Бусдын бие махбодид гэмтэл учруулах</td>\n",
       "      <td>2.012010e+11</td>\n",
       "      <td>2012-12-27</td>\n",
       "      <td>Сонгинохайрхан дүүрэг, 4-р хороо, ин,</td>\n",
       "      <td>Сонгинохайрхан дүүргийн цагдаагийн 1-р хэлтэс</td>\n",
       "    </tr>\n",
       "    <tr>\n",
       "      <th>5749</th>\n",
       "      <td>Бусдын бие махбодид гэмтэл учруулах</td>\n",
       "      <td>2.012010e+11</td>\n",
       "      <td>2012-12-27</td>\n",
       "      <td>Чингэлтэй дүүрэг, 3-р хороо,</td>\n",
       "      <td>Чингэлтэй дүүргийн цагдаагийн 1-р хэлтэс</td>\n",
       "    </tr>\n",
       "    <tr>\n",
       "      <th>5777</th>\n",
       "      <td>Булаах</td>\n",
       "      <td>2.012010e+11</td>\n",
       "      <td>2012-12-28</td>\n",
       "      <td>Чингэлтэй дүүрэг, 4-р хороо,</td>\n",
       "      <td>Чингэлтэй дүүргийн цагдаагийн 1-р хэлтэс</td>\n",
       "    </tr>\n",
       "    <tr>\n",
       "      <th>67658</th>\n",
       "      <td>Бусдын бие махбодид гэмтэл учруулах</td>\n",
       "      <td>2.012010e+11</td>\n",
       "      <td>2016-12-18</td>\n",
       "      <td>Баянгол дүүрэг, 19-р хороо, 3,</td>\n",
       "      <td>Баянгол дүүргийн цагдаагийн 2-р хэлтэс</td>\n",
       "    </tr>\n",
       "  </tbody>\n",
       "</table>\n",
       "<p>3343 rows × 5 columns</p>\n",
       "</div>"
      ],
      "text/plain": [
       "                                      type        number       date  \\\n",
       "263                   Хүнийг санаатай алах  2.012010e+11 2011-01-27   \n",
       "389               Хулгайлах - Иргэдийн өмч  2.012010e+11 2011-05-10   \n",
       "449    Бусдын бие махбодид гэмтэл учруулах  2.012010e+11 2011-05-16   \n",
       "798                              Танхайрах  2.012010e+11 2011-07-06   \n",
       "865               Хулгайлах - Иргэдийн өмч  2.012010e+11 2011-07-17   \n",
       "...                                    ...           ...        ...   \n",
       "5740              Хулгайлах - Иргэдийн өмч  2.012010e+11 2012-12-27   \n",
       "5741   Бусдын бие махбодид гэмтэл учруулах  2.012010e+11 2012-12-27   \n",
       "5749   Бусдын бие махбодид гэмтэл учруулах  2.012010e+11 2012-12-27   \n",
       "5777                                Булаах  2.012010e+11 2012-12-28   \n",
       "67658  Бусдын бие махбодид гэмтэл учруулах  2.012010e+11 2016-12-18   \n",
       "\n",
       "                                    location  \\\n",
       "263            Сүхбаатар дүүрэг, 15-р хороо,   \n",
       "389         Сүхбаатар дүүрэг, 7-р хороо, 11,   \n",
       "449               Баянгол дүүрэг, 7-р хороо,   \n",
       "798          Баянгол дүүрэг, 14-р хороо, 13,   \n",
       "865       Сонгинохайрхан дүүрэг, 23-р хороо,   \n",
       "...                                      ...   \n",
       "5740             Баянгол дүүрэг, 17-р хороо,   \n",
       "5741   Сонгинохайрхан дүүрэг, 4-р хороо, ин,   \n",
       "5749            Чингэлтэй дүүрэг, 3-р хороо,   \n",
       "5777            Чингэлтэй дүүрэг, 4-р хороо,   \n",
       "67658         Баянгол дүүрэг, 19-р хороо, 3,   \n",
       "\n",
       "                                               station  \n",
       "263           Сүхбаатар дүүргийн цагдаагийн 2-р хэлтэс  \n",
       "389           Сүхбаатар дүүргийн цагдаагийн 1-р хэлтэс  \n",
       "449                               Мөрдөн байцаах газар  \n",
       "798             Баянгол дүүргийн цагдаагийн 1-р хэлтэс  \n",
       "865    Сонгинохайрхан дүүрэг дэх цагдаагийн 3-р хэлтэс  \n",
       "...                                                ...  \n",
       "5740            Баянгол дүүргийн цагдаагийн 2-р хэлтэс  \n",
       "5741     Сонгинохайрхан дүүргийн цагдаагийн 1-р хэлтэс  \n",
       "5749          Чингэлтэй дүүргийн цагдаагийн 1-р хэлтэс  \n",
       "5777          Чингэлтэй дүүргийн цагдаагийн 1-р хэлтэс  \n",
       "67658           Баянгол дүүргийн цагдаагийн 2-р хэлтэс  \n",
       "\n",
       "[3343 rows x 5 columns]"
      ]
     },
     "execution_count": 29,
     "metadata": {},
     "output_type": "execute_result"
    }
   ],
   "source": [
    "df[df['number'] == 201201000000.0]"
   ]
  },
  {
   "cell_type": "markdown",
   "metadata": {},
   "source": [
    "We have determined that the report number seems to be very unreliable. There are many duplicates (almost 90% of the data) and the reports seem completely unrelated. So we will drop this feature."
   ]
  },
  {
   "cell_type": "code",
   "execution_count": 30,
   "metadata": {},
   "outputs": [],
   "source": [
    "df = df.drop(columns=['number'])"
   ]
  },
  {
   "cell_type": "markdown",
   "metadata": {},
   "source": [
    "Now we can check if there are duplicates across all rows."
   ]
  },
  {
   "cell_type": "code",
   "execution_count": 31,
   "metadata": {},
   "outputs": [
    {
     "data": {
      "text/plain": [
       "0.024211091335423904"
      ]
     },
     "execution_count": 31,
     "metadata": {},
     "output_type": "execute_result"
    }
   ],
   "source": [
    "df[df.duplicated()].shape[0] / df.shape[0]"
   ]
  },
  {
   "cell_type": "code",
   "execution_count": 32,
   "metadata": {},
   "outputs": [
    {
     "data": {
      "text/plain": [
       "54       False\n",
       "72       False\n",
       "180      False\n",
       "263      False\n",
       "415      False\n",
       "         ...  \n",
       "70706    False\n",
       "70714    False\n",
       "70758    False\n",
       "70766    False\n",
       "70775    False\n",
       "Length: 675, dtype: bool"
      ]
     },
     "execution_count": 32,
     "metadata": {},
     "output_type": "execute_result"
    }
   ],
   "source": [
    "df[df['type'] == 'Хүнийг санаатай алах'].duplicated()"
   ]
  },
  {
   "cell_type": "code",
   "execution_count": 33,
   "metadata": {},
   "outputs": [
    {
     "data": {
      "text/plain": [
       "array(['Танхайрах', 'Бусдын бие махбодид гэмтэл учруулах', 'Дээрэмдэх',\n",
       "       'Хулгайлах - Мал', 'Хулгайлах - Иргэдийн өмч',\n",
       "       'Хулгайлах - Халаас', 'Булаах', 'Хулгайлах - Тээврийн хэрэгсэл',\n",
       "       'Хүнийг санаатай алах', 'Хүчиндэх', 'ТХХАББАЖЗ'], dtype=object)"
      ]
     },
     "execution_count": 33,
     "metadata": {},
     "output_type": "execute_result"
    }
   ],
   "source": [
    "df['type'].unique()"
   ]
  },
  {
   "cell_type": "code",
   "execution_count": 34,
   "metadata": {},
   "outputs": [
    {
     "data": {
      "text/plain": [
       "<AxesSubplot:xlabel='type'>"
      ]
     },
     "execution_count": 34,
     "metadata": {},
     "output_type": "execute_result"
    },
    {
     "data": {
      "image/png": "[encoded data removed]",
      "text/plain": [
       "<Figure size 432x288 with 1 Axes>"
      ]
     },
     "metadata": {
      "needs_background": "light"
     },
     "output_type": "display_data"
    }
   ],
   "source": [
    "df[~df.duplicated()].groupby(by='type').count()['date'].sort_values().plot.bar()"
   ]
  },
  {
   "cell_type": "code",
   "execution_count": 35,
   "metadata": {},
   "outputs": [
    {
     "data": {
      "text/plain": [
       "<AxesSubplot:xlabel='type'>"
      ]
     },
     "execution_count": 35,
     "metadata": {},
     "output_type": "execute_result"
    },
    {
     "data": {
      "image/png": "[encoded data removed]",
      "text/plain": [
       "<Figure size 432x288 with 1 Axes>"
      ]
     },
     "metadata": {
      "needs_background": "light"
     },
     "output_type": "display_data"
    }
   ],
   "source": [
    "df[df.duplicated()].groupby(by='type').count()['date'].sort_values().plot.bar()"
   ]
  },
  {
   "cell_type": "code",
   "execution_count": 36,
   "metadata": {},
   "outputs": [],
   "source": [
    "#df = df.drop_duplicates()"
   ]
  },
  {
   "cell_type": "code",
   "execution_count": 37,
   "metadata": {},
   "outputs": [],
   "source": [
    "df = df.reset_index(drop=True)"
   ]
  },
  {
   "cell_type": "code",
   "execution_count": 38,
   "metadata": {},
   "outputs": [
    {
     "data": {
      "text/html": [
       "<div>\n",
       "<style scoped>\n",
       "    .dataframe tbody tr th:only-of-type {\n",
       "        vertical-align: middle;\n",
       "    }\n",
       "\n",
       "    .dataframe tbody tr th {\n",
       "        vertical-align: top;\n",
       "    }\n",
       "\n",
       "    .dataframe thead th {\n",
       "        text-align: right;\n",
       "    }\n",
       "</style>\n",
       "<table border=\"1\" class=\"dataframe\">\n",
       "  <thead>\n",
       "    <tr style=\"text-align: right;\">\n",
       "      <th></th>\n",
       "      <th>type</th>\n",
       "      <th>date</th>\n",
       "      <th>location</th>\n",
       "      <th>station</th>\n",
       "    </tr>\n",
       "  </thead>\n",
       "  <tbody>\n",
       "    <tr>\n",
       "      <th>0</th>\n",
       "      <td>Танхайрах</td>\n",
       "      <td>2010-12-31</td>\n",
       "      <td>Сонгинохайрхан дүүрэг, 15-р хороо,</td>\n",
       "      <td>Сонгинохайрхан дүүргийн ЦХ /хуучин/</td>\n",
       "    </tr>\n",
       "    <tr>\n",
       "      <th>1</th>\n",
       "      <td>Бусдын бие махбодид гэмтэл учруулах</td>\n",
       "      <td>2010-12-31</td>\n",
       "      <td>Баянзүрх дүүрэг, 6-р хороо,</td>\n",
       "      <td>Баянзүрх дүүргийн ЦХ /хуучин/</td>\n",
       "    </tr>\n",
       "    <tr>\n",
       "      <th>2</th>\n",
       "      <td>Дээрэмдэх</td>\n",
       "      <td>2010-12-31</td>\n",
       "      <td>Чингэлтэй дүүрэг, 4-р хороо,</td>\n",
       "      <td>Чингэлтэй дүүргийн ЦХ /хуучин/</td>\n",
       "    </tr>\n",
       "    <tr>\n",
       "      <th>3</th>\n",
       "      <td>Дээрэмдэх</td>\n",
       "      <td>2010-12-31</td>\n",
       "      <td>Баянгол дүүрэг, 15-р хороо,</td>\n",
       "      <td>Баянгол дүүргийн цагдаагийн 2-р хэлтэс</td>\n",
       "    </tr>\n",
       "    <tr>\n",
       "      <th>4</th>\n",
       "      <td>Дээрэмдэх</td>\n",
       "      <td>2010-12-31</td>\n",
       "      <td>Баянгол дүүрэг, 4-р хороо, 2,</td>\n",
       "      <td>Баянгол дүүрэг дэх цагдаагийн 2-р хэлтэс</td>\n",
       "    </tr>\n",
       "    <tr>\n",
       "      <th>...</th>\n",
       "      <td>...</td>\n",
       "      <td>...</td>\n",
       "      <td>...</td>\n",
       "      <td>...</td>\n",
       "    </tr>\n",
       "    <tr>\n",
       "      <th>70789</th>\n",
       "      <td>Бусдын бие махбодид гэмтэл учруулах</td>\n",
       "      <td>2017-07-01</td>\n",
       "      <td>Сонгинохайрхан дүүрэг, 16-р хороо,</td>\n",
       "      <td>Сонгинохайрхан дүүрэг дэх цагдаагийн 3-р хэлтэс</td>\n",
       "    </tr>\n",
       "    <tr>\n",
       "      <th>70790</th>\n",
       "      <td>Хулгайлах - Иргэдийн өмч</td>\n",
       "      <td>2017-08-15</td>\n",
       "      <td>Архангай аймаг Чулуут сум Өлзийт баг, 1-р хоро...</td>\n",
       "      <td>Архангай аймаг дахь ЦГ</td>\n",
       "    </tr>\n",
       "    <tr>\n",
       "      <th>70791</th>\n",
       "      <td>Хулгайлах - Иргэдийн өмч</td>\n",
       "      <td>2017-08-19</td>\n",
       "      <td>Орхон аймаг Баян өндөр сум Хүрэнбулаг баг, 4-р...</td>\n",
       "      <td>Орхон аймаг дахь ЦГ</td>\n",
       "    </tr>\n",
       "    <tr>\n",
       "      <th>70792</th>\n",
       "      <td>Хулгайлах - Иргэдийн өмч</td>\n",
       "      <td>2017-10-03</td>\n",
       "      <td>Хан-Уул, 15-р хороо,</td>\n",
       "      <td>Хан-Уул дүүрэг дэх цагдаагийн 1-р хэлтэс</td>\n",
       "    </tr>\n",
       "    <tr>\n",
       "      <th>70793</th>\n",
       "      <td>Хулгайлах - Иргэдийн өмч</td>\n",
       "      <td>2017-10-19</td>\n",
       "      <td>Сонгинохайрхан дүүрэг, 22-р хороо,</td>\n",
       "      <td>Сонгинохайрхан дүүрэг дэх цагдаагийн 1-р хэлтэс</td>\n",
       "    </tr>\n",
       "  </tbody>\n",
       "</table>\n",
       "<p>70794 rows × 4 columns</p>\n",
       "</div>"
      ],
      "text/plain": [
       "                                      type       date  \\\n",
       "0                                Танхайрах 2010-12-31   \n",
       "1      Бусдын бие махбодид гэмтэл учруулах 2010-12-31   \n",
       "2                                Дээрэмдэх 2010-12-31   \n",
       "3                                Дээрэмдэх 2010-12-31   \n",
       "4                                Дээрэмдэх 2010-12-31   \n",
       "...                                    ...        ...   \n",
       "70789  Бусдын бие махбодид гэмтэл учруулах 2017-07-01   \n",
       "70790             Хулгайлах - Иргэдийн өмч 2017-08-15   \n",
       "70791             Хулгайлах - Иргэдийн өмч 2017-08-19   \n",
       "70792             Хулгайлах - Иргэдийн өмч 2017-10-03   \n",
       "70793             Хулгайлах - Иргэдийн өмч 2017-10-19   \n",
       "\n",
       "                                                location  \\\n",
       "0                     Сонгинохайрхан дүүрэг, 15-р хороо,   \n",
       "1                            Баянзүрх дүүрэг, 6-р хороо,   \n",
       "2                           Чингэлтэй дүүрэг, 4-р хороо,   \n",
       "3                            Баянгол дүүрэг, 15-р хороо,   \n",
       "4                          Баянгол дүүрэг, 4-р хороо, 2,   \n",
       "...                                                  ...   \n",
       "70789                 Сонгинохайрхан дүүрэг, 16-р хороо,   \n",
       "70790  Архангай аймаг Чулуут сум Өлзийт баг, 1-р хоро...   \n",
       "70791  Орхон аймаг Баян өндөр сум Хүрэнбулаг баг, 4-р...   \n",
       "70792                               Хан-Уул, 15-р хороо,   \n",
       "70793                 Сонгинохайрхан дүүрэг, 22-р хороо,   \n",
       "\n",
       "                                               station  \n",
       "0                  Сонгинохайрхан дүүргийн ЦХ /хуучин/  \n",
       "1                        Баянзүрх дүүргийн ЦХ /хуучин/  \n",
       "2                       Чингэлтэй дүүргийн ЦХ /хуучин/  \n",
       "3               Баянгол дүүргийн цагдаагийн 2-р хэлтэс  \n",
       "4             Баянгол дүүрэг дэх цагдаагийн 2-р хэлтэс  \n",
       "...                                                ...  \n",
       "70789  Сонгинохайрхан дүүрэг дэх цагдаагийн 3-р хэлтэс  \n",
       "70790                           Архангай аймаг дахь ЦГ  \n",
       "70791                              Орхон аймаг дахь ЦГ  \n",
       "70792         Хан-Уул дүүрэг дэх цагдаагийн 1-р хэлтэс  \n",
       "70793  Сонгинохайрхан дүүрэг дэх цагдаагийн 1-р хэлтэс  \n",
       "\n",
       "[70794 rows x 4 columns]"
      ]
     },
     "execution_count": 38,
     "metadata": {},
     "output_type": "execute_result"
    }
   ],
   "source": [
    "df"
   ]
  },
  {
   "cell_type": "markdown",
   "metadata": {},
   "source": [
    "## Quick EDA on Type and Date"
   ]
  },
  {
   "cell_type": "code",
   "execution_count": 39,
   "metadata": {},
   "outputs": [
    {
     "data": {
      "text/plain": [
       "array(['Танхайрах', 'Бусдын бие махбодид гэмтэл учруулах', 'Дээрэмдэх',\n",
       "       'Хулгайлах - Мал', 'Хулгайлах - Иргэдийн өмч',\n",
       "       'Хулгайлах - Халаас', 'Булаах', 'Хулгайлах - Тээврийн хэрэгсэл',\n",
       "       'Хүнийг санаатай алах', 'Хүчиндэх', 'ТХХАББАЖЗ'], dtype=object)"
      ]
     },
     "execution_count": 39,
     "metadata": {},
     "output_type": "execute_result"
    }
   ],
   "source": [
    "df['type'].unique()"
   ]
  },
  {
   "cell_type": "code",
   "execution_count": 40,
   "metadata": {},
   "outputs": [
    {
     "data": {
      "text/plain": [
       "type\n",
       "Булаах                                   869\n",
       "Бусдын бие махбодид гэмтэл учруулах    26409\n",
       "Дээрэмдэх                               2242\n",
       "ТХХАББАЖЗ                               4169\n",
       "Танхайрах                               6138\n",
       "Хулгайлах - Иргэдийн өмч               23692\n",
       "Хулгайлах - Мал                         2374\n",
       "Хулгайлах - Тээврийн хэрэгсэл           1079\n",
       "Хулгайлах - Халаас                      2207\n",
       "Хүнийг санаатай алах                     675\n",
       "Хүчиндэх                                 940\n",
       "Name: date, dtype: int64"
      ]
     },
     "execution_count": 40,
     "metadata": {},
     "output_type": "execute_result"
    }
   ],
   "source": [
    "df.groupby(by='type').count()['date']"
   ]
  },
  {
   "cell_type": "code",
   "execution_count": 41,
   "metadata": {},
   "outputs": [],
   "source": [
    "time_df = df.groupby(by='date').count()"
   ]
  },
  {
   "cell_type": "code",
   "execution_count": 42,
   "metadata": {},
   "outputs": [
    {
     "data": {
      "text/plain": [
       "[<matplotlib.lines.Line2D at 0x1e7aba20d60>]"
      ]
     },
     "execution_count": 42,
     "metadata": {},
     "output_type": "execute_result"
    },
    {
     "data": {
      "image/png": "[encoded data removed]",
      "text/plain": [
       "<Figure size 432x288 with 1 Axes>"
      ]
     },
     "metadata": {
      "needs_background": "light"
     },
     "output_type": "display_data"
    }
   ],
   "source": [
    "plt.plot(time_df.index, time_df['type'])"
   ]
  },
  {
   "cell_type": "code",
   "execution_count": 43,
   "metadata": {},
   "outputs": [],
   "source": [
    "df['year'] = df['date'].dt.year"
   ]
  },
  {
   "cell_type": "code",
   "execution_count": 44,
   "metadata": {},
   "outputs": [
    {
     "data": {
      "text/plain": [
       "<AxesSubplot:xlabel='year'>"
      ]
     },
     "execution_count": 44,
     "metadata": {},
     "output_type": "execute_result"
    },
    {
     "data": {
      "image/png": "[encoded data removed]",
      "text/plain": [
       "<Figure size 432x288 with 1 Axes>"
      ]
     },
     "metadata": {
      "needs_background": "light"
     },
     "output_type": "display_data"
    }
   ],
   "source": [
    "df.groupby(by='year').count()['type'].plot.bar()"
   ]
  },
  {
   "cell_type": "markdown",
   "metadata": {},
   "source": [
    "It is clear that 2011-2014 does not appear to have complete crime reporting data. We don't necessarily have 100% confidence that 2015 and 2016 are actually either."
   ]
  },
  {
   "cell_type": "code",
   "execution_count": 45,
   "metadata": {},
   "outputs": [],
   "source": [
    "df = df[(df['year'] == 2015) | (df['year'] == 2016)]"
   ]
  },
  {
   "cell_type": "code",
   "execution_count": 46,
   "metadata": {},
   "outputs": [
    {
     "data": {
      "text/html": [
       "<div>\n",
       "<style scoped>\n",
       "    .dataframe tbody tr th:only-of-type {\n",
       "        vertical-align: middle;\n",
       "    }\n",
       "\n",
       "    .dataframe tbody tr th {\n",
       "        vertical-align: top;\n",
       "    }\n",
       "\n",
       "    .dataframe thead th {\n",
       "        text-align: right;\n",
       "    }\n",
       "</style>\n",
       "<table border=\"1\" class=\"dataframe\">\n",
       "  <thead>\n",
       "    <tr style=\"text-align: right;\">\n",
       "      <th></th>\n",
       "      <th>type</th>\n",
       "      <th>date</th>\n",
       "      <th>location</th>\n",
       "      <th>station</th>\n",
       "      <th>year</th>\n",
       "    </tr>\n",
       "  </thead>\n",
       "  <tbody>\n",
       "    <tr>\n",
       "      <th>25823</th>\n",
       "      <td>Хулгайлах - Иргэдийн өмч</td>\n",
       "      <td>2015-01-01</td>\n",
       "      <td>Чингэлтэй дүүрэг, 4-р хороо,</td>\n",
       "      <td>Чингэлтэй дүүрэг дэх цагдаагийн 2-р хэлтэс</td>\n",
       "      <td>2015</td>\n",
       "    </tr>\n",
       "    <tr>\n",
       "      <th>25824</th>\n",
       "      <td>Хулгайлах - Иргэдийн өмч</td>\n",
       "      <td>2015-01-01</td>\n",
       "      <td>Сонгинохайрхан дүүрэг, 12-р хороо,</td>\n",
       "      <td>Сонгинохайрхан дүүрэг дэх цагдаагийн 3-р хэлтэс</td>\n",
       "      <td>2015</td>\n",
       "    </tr>\n",
       "    <tr>\n",
       "      <th>25825</th>\n",
       "      <td>Хулгайлах - Мал</td>\n",
       "      <td>2015-01-01</td>\n",
       "      <td>Булган аймаг Дашинчилэн сум Доргонт баг, 2-р х...</td>\n",
       "      <td>Булган аймаг дахь ЦГ</td>\n",
       "      <td>2015</td>\n",
       "    </tr>\n",
       "    <tr>\n",
       "      <th>25826</th>\n",
       "      <td>Бусдын бие махбодид гэмтэл учруулах</td>\n",
       "      <td>2015-01-01</td>\n",
       "      <td>Баянхонгор аймаг Баянхонгор сум 1 дүгээр баг Н...</td>\n",
       "      <td>Баянхонгор аймаг дахь ЦГ</td>\n",
       "      <td>2015</td>\n",
       "    </tr>\n",
       "    <tr>\n",
       "      <th>25827</th>\n",
       "      <td>Дээрэмдэх</td>\n",
       "      <td>2015-01-01</td>\n",
       "      <td>Сонгинохайрхан дүүрэг, 29-р хороо,</td>\n",
       "      <td>Сонгинохайрхан дүүрэг дэх цагдаагийн 3-р хэлтэс</td>\n",
       "      <td>2015</td>\n",
       "    </tr>\n",
       "    <tr>\n",
       "      <th>...</th>\n",
       "      <td>...</td>\n",
       "      <td>...</td>\n",
       "      <td>...</td>\n",
       "      <td>...</td>\n",
       "      <td>...</td>\n",
       "    </tr>\n",
       "    <tr>\n",
       "      <th>68510</th>\n",
       "      <td>Хулгайлах - Халаас</td>\n",
       "      <td>2016-12-30</td>\n",
       "      <td>Баянзүрх дүүрэг, 1-р хороо,</td>\n",
       "      <td>Баянзүрх дүүрэг дэх цагдаагийн 2-р хэлтэс</td>\n",
       "      <td>2016</td>\n",
       "    </tr>\n",
       "    <tr>\n",
       "      <th>68511</th>\n",
       "      <td>Хулгайлах - Иргэдийн өмч</td>\n",
       "      <td>2016-12-30</td>\n",
       "      <td>Баянгол дүүрэг, 20-р хороо,</td>\n",
       "      <td>Баянгол дүүрэг дэх цагдаагийн 2-р хэлтэс</td>\n",
       "      <td>2016</td>\n",
       "    </tr>\n",
       "    <tr>\n",
       "      <th>68512</th>\n",
       "      <td>Хулгайлах - Иргэдийн өмч</td>\n",
       "      <td>2016-12-30</td>\n",
       "      <td>Сүхбаатар дүүрэг, 13-р хороо, ногоон талбай,</td>\n",
       "      <td>Сүхбаатар дүүрэг дэх цагдаагийн 2-р хэлтэс</td>\n",
       "      <td>2016</td>\n",
       "    </tr>\n",
       "    <tr>\n",
       "      <th>68513</th>\n",
       "      <td>Хүчиндэх</td>\n",
       "      <td>2016-12-30</td>\n",
       "      <td>Баянгол дүүрэг, 22-р хороо, такара зочид буудалд,</td>\n",
       "      <td>Баянгол дүүрэг дэх цагдаагийн 1-р хэлтэс</td>\n",
       "      <td>2016</td>\n",
       "    </tr>\n",
       "    <tr>\n",
       "      <th>68514</th>\n",
       "      <td>Хулгайлах - Халаас</td>\n",
       "      <td>2016-12-30</td>\n",
       "      <td>Баянгол дүүрэг, 20-р хороо,</td>\n",
       "      <td>Баянгол дүүрэг дэх цагдаагийн 2-р хэлтэс</td>\n",
       "      <td>2016</td>\n",
       "    </tr>\n",
       "  </tbody>\n",
       "</table>\n",
       "<p>42692 rows × 5 columns</p>\n",
       "</div>"
      ],
      "text/plain": [
       "                                      type       date  \\\n",
       "25823             Хулгайлах - Иргэдийн өмч 2015-01-01   \n",
       "25824             Хулгайлах - Иргэдийн өмч 2015-01-01   \n",
       "25825                      Хулгайлах - Мал 2015-01-01   \n",
       "25826  Бусдын бие махбодид гэмтэл учруулах 2015-01-01   \n",
       "25827                            Дээрэмдэх 2015-01-01   \n",
       "...                                    ...        ...   \n",
       "68510                   Хулгайлах - Халаас 2016-12-30   \n",
       "68511             Хулгайлах - Иргэдийн өмч 2016-12-30   \n",
       "68512             Хулгайлах - Иргэдийн өмч 2016-12-30   \n",
       "68513                             Хүчиндэх 2016-12-30   \n",
       "68514                   Хулгайлах - Халаас 2016-12-30   \n",
       "\n",
       "                                                location  \\\n",
       "25823                       Чингэлтэй дүүрэг, 4-р хороо,   \n",
       "25824                 Сонгинохайрхан дүүрэг, 12-р хороо,   \n",
       "25825  Булган аймаг Дашинчилэн сум Доргонт баг, 2-р х...   \n",
       "25826  Баянхонгор аймаг Баянхонгор сум 1 дүгээр баг Н...   \n",
       "25827                 Сонгинохайрхан дүүрэг, 29-р хороо,   \n",
       "...                                                  ...   \n",
       "68510                        Баянзүрх дүүрэг, 1-р хороо,   \n",
       "68511                        Баянгол дүүрэг, 20-р хороо,   \n",
       "68512       Сүхбаатар дүүрэг, 13-р хороо, ногоон талбай,   \n",
       "68513  Баянгол дүүрэг, 22-р хороо, такара зочид буудалд,   \n",
       "68514                        Баянгол дүүрэг, 20-р хороо,   \n",
       "\n",
       "                                               station  year  \n",
       "25823       Чингэлтэй дүүрэг дэх цагдаагийн 2-р хэлтэс  2015  \n",
       "25824  Сонгинохайрхан дүүрэг дэх цагдаагийн 3-р хэлтэс  2015  \n",
       "25825                             Булган аймаг дахь ЦГ  2015  \n",
       "25826                         Баянхонгор аймаг дахь ЦГ  2015  \n",
       "25827  Сонгинохайрхан дүүрэг дэх цагдаагийн 3-р хэлтэс  2015  \n",
       "...                                                ...   ...  \n",
       "68510        Баянзүрх дүүрэг дэх цагдаагийн 2-р хэлтэс  2016  \n",
       "68511         Баянгол дүүрэг дэх цагдаагийн 2-р хэлтэс  2016  \n",
       "68512       Сүхбаатар дүүрэг дэх цагдаагийн 2-р хэлтэс  2016  \n",
       "68513         Баянгол дүүрэг дэх цагдаагийн 1-р хэлтэс  2016  \n",
       "68514         Баянгол дүүрэг дэх цагдаагийн 2-р хэлтэс  2016  \n",
       "\n",
       "[42692 rows x 5 columns]"
      ]
     },
     "execution_count": 46,
     "metadata": {},
     "output_type": "execute_result"
    }
   ],
   "source": [
    "df"
   ]
  },
  {
   "cell_type": "code",
   "execution_count": 47,
   "metadata": {},
   "outputs": [],
   "source": [
    "df = df.reset_index(drop=True)"
   ]
  },
  {
   "cell_type": "code",
   "execution_count": 48,
   "metadata": {},
   "outputs": [],
   "source": [
    "df = df.drop(columns=['year'])"
   ]
  },
  {
   "cell_type": "markdown",
   "metadata": {},
   "source": [
    "## Location Cleaning"
   ]
  },
  {
   "cell_type": "code",
   "execution_count": 49,
   "metadata": {},
   "outputs": [
    {
     "data": {
      "text/html": [
       "<div>\n",
       "<style scoped>\n",
       "    .dataframe tbody tr th:only-of-type {\n",
       "        vertical-align: middle;\n",
       "    }\n",
       "\n",
       "    .dataframe tbody tr th {\n",
       "        vertical-align: top;\n",
       "    }\n",
       "\n",
       "    .dataframe thead th {\n",
       "        text-align: right;\n",
       "    }\n",
       "</style>\n",
       "<table border=\"1\" class=\"dataframe\">\n",
       "  <thead>\n",
       "    <tr style=\"text-align: right;\">\n",
       "      <th></th>\n",
       "      <th>type</th>\n",
       "      <th>date</th>\n",
       "      <th>location</th>\n",
       "      <th>station</th>\n",
       "    </tr>\n",
       "  </thead>\n",
       "  <tbody>\n",
       "    <tr>\n",
       "      <th>257</th>\n",
       "      <td>Бусдын бие махбодид гэмтэл учруулах</td>\n",
       "      <td>2015-01-05</td>\n",
       "      <td>Сүхбаатар дүүрэг, 7-р хороо,</td>\n",
       "      <td>Сүхбаатар дүүрэг дэх цагдаагийн 1-р хэлтэс</td>\n",
       "    </tr>\n",
       "    <tr>\n",
       "      <th>34303</th>\n",
       "      <td>Хулгайлах - Мал</td>\n",
       "      <td>2016-08-06</td>\n",
       "      <td>Хөвсгөл аймаг Алаг-эрдэнэ сум Манхан баг, 2-р ...</td>\n",
       "      <td>Хөвсгөл аймаг дахь ЦГ</td>\n",
       "    </tr>\n",
       "    <tr>\n",
       "      <th>29190</th>\n",
       "      <td>Бусдын бие махбодид гэмтэл учруулах</td>\n",
       "      <td>2016-05-11</td>\n",
       "      <td>Баянөлгий аймаг Өлгий сум 1 дүгээр баг Хуст ар...</td>\n",
       "      <td>Баян-Өлгийн аймаг дахь ЦГ</td>\n",
       "    </tr>\n",
       "    <tr>\n",
       "      <th>23799</th>\n",
       "      <td>Бусдын бие махбодид гэмтэл учруулах</td>\n",
       "      <td>2016-02-19</td>\n",
       "      <td>Чингэлтэй дүүрэг, 6-р хороо,</td>\n",
       "      <td>Чингэлтэй дүүрэг дэх цагдаагийн 1-р хэлтэс</td>\n",
       "    </tr>\n",
       "    <tr>\n",
       "      <th>17215</th>\n",
       "      <td>Хулгайлах - Тээврийн хэрэгсэл</td>\n",
       "      <td>2015-11-03</td>\n",
       "      <td>Сонгинохайрхан дүүрэг, 15-р хороо,</td>\n",
       "      <td>Сонгинохайрхан дүүрэг дэх цагдаагийн 3-р хэлтэс</td>\n",
       "    </tr>\n",
       "    <tr>\n",
       "      <th>21494</th>\n",
       "      <td>Хулгайлах - Иргэдийн өмч</td>\n",
       "      <td>2016-01-12</td>\n",
       "      <td>Баянзүрх дүүрэг, 22-р хороо, зүүн алтан өлгийн ,</td>\n",
       "      <td>Баянгол дүүрэг дэх цагдаагийн 1-р хэлтэс</td>\n",
       "    </tr>\n",
       "    <tr>\n",
       "      <th>18987</th>\n",
       "      <td>Хулгайлах - Иргэдийн өмч</td>\n",
       "      <td>2015-12-03</td>\n",
       "      <td>Чингэлтэй дүүрэг, 19-р хороо, Ар согоотын,</td>\n",
       "      <td>Чингэлтэй дүүрэг дэх цагдаагийн 2-р хэлтэс</td>\n",
       "    </tr>\n",
       "    <tr>\n",
       "      <th>3138</th>\n",
       "      <td>Хулгайлах - Иргэдийн өмч</td>\n",
       "      <td>2015-03-02</td>\n",
       "      <td>Сонгинохайрхан дүүрэг, 1-р хороо, толгойт,</td>\n",
       "      <td>Сонгинохайрхан дүүрэг дэх цагдаагийн 1-р хэлтэс</td>\n",
       "    </tr>\n",
       "    <tr>\n",
       "      <th>23071</th>\n",
       "      <td>Хулгайлах - Иргэдийн өмч</td>\n",
       "      <td>2016-02-08</td>\n",
       "      <td>Чингэлтэй дүүрэг, 19-р хороо, тахилт,</td>\n",
       "      <td>Чингэлтэй дүүрэг дэх цагдаагийн 2-р хэлтэс</td>\n",
       "    </tr>\n",
       "    <tr>\n",
       "      <th>21317</th>\n",
       "      <td>Хулгайлах - Иргэдийн өмч</td>\n",
       "      <td>2016-01-09</td>\n",
       "      <td>Баянзүрх дүүрэг, 17-р хороо,</td>\n",
       "      <td>Баянзүрх дүүрэг дэх цагдаагийн 3-р хэлтэс</td>\n",
       "    </tr>\n",
       "  </tbody>\n",
       "</table>\n",
       "</div>"
      ],
      "text/plain": [
       "                                      type       date  \\\n",
       "257    Бусдын бие махбодид гэмтэл учруулах 2015-01-05   \n",
       "34303                      Хулгайлах - Мал 2016-08-06   \n",
       "29190  Бусдын бие махбодид гэмтэл учруулах 2016-05-11   \n",
       "23799  Бусдын бие махбодид гэмтэл учруулах 2016-02-19   \n",
       "17215        Хулгайлах - Тээврийн хэрэгсэл 2015-11-03   \n",
       "21494             Хулгайлах - Иргэдийн өмч 2016-01-12   \n",
       "18987             Хулгайлах - Иргэдийн өмч 2015-12-03   \n",
       "3138              Хулгайлах - Иргэдийн өмч 2015-03-02   \n",
       "23071             Хулгайлах - Иргэдийн өмч 2016-02-08   \n",
       "21317             Хулгайлах - Иргэдийн өмч 2016-01-09   \n",
       "\n",
       "                                                location  \\\n",
       "257                         Сүхбаатар дүүрэг, 7-р хороо,   \n",
       "34303  Хөвсгөл аймаг Алаг-эрдэнэ сум Манхан баг, 2-р ...   \n",
       "29190  Баянөлгий аймаг Өлгий сум 1 дүгээр баг Хуст ар...   \n",
       "23799                       Чингэлтэй дүүрэг, 6-р хороо,   \n",
       "17215                 Сонгинохайрхан дүүрэг, 15-р хороо,   \n",
       "21494   Баянзүрх дүүрэг, 22-р хороо, зүүн алтан өлгийн ,   \n",
       "18987         Чингэлтэй дүүрэг, 19-р хороо, Ар согоотын,   \n",
       "3138          Сонгинохайрхан дүүрэг, 1-р хороо, толгойт,   \n",
       "23071              Чингэлтэй дүүрэг, 19-р хороо, тахилт,   \n",
       "21317                       Баянзүрх дүүрэг, 17-р хороо,   \n",
       "\n",
       "                                               station  \n",
       "257         Сүхбаатар дүүрэг дэх цагдаагийн 1-р хэлтэс  \n",
       "34303                            Хөвсгөл аймаг дахь ЦГ  \n",
       "29190                        Баян-Өлгийн аймаг дахь ЦГ  \n",
       "23799       Чингэлтэй дүүрэг дэх цагдаагийн 1-р хэлтэс  \n",
       "17215  Сонгинохайрхан дүүрэг дэх цагдаагийн 3-р хэлтэс  \n",
       "21494         Баянгол дүүрэг дэх цагдаагийн 1-р хэлтэс  \n",
       "18987       Чингэлтэй дүүрэг дэх цагдаагийн 2-р хэлтэс  \n",
       "3138   Сонгинохайрхан дүүрэг дэх цагдаагийн 1-р хэлтэс  \n",
       "23071       Чингэлтэй дүүрэг дэх цагдаагийн 2-р хэлтэс  \n",
       "21317        Баянзүрх дүүрэг дэх цагдаагийн 3-р хэлтэс  "
      ]
     },
     "execution_count": 49,
     "metadata": {},
     "output_type": "execute_result"
    }
   ],
   "source": [
    "df.sample(10)"
   ]
  },
  {
   "cell_type": "code",
   "execution_count": 50,
   "metadata": {},
   "outputs": [
    {
     "data": {
      "text/plain": [
       "'Дархан-уул аймаг Хонгор сум, 1-р хороо,'"
      ]
     },
     "execution_count": 50,
     "metadata": {},
     "output_type": "execute_result"
    }
   ],
   "source": [
    "df['location'][4218]"
   ]
  },
  {
   "cell_type": "markdown",
   "metadata": {},
   "source": [
    "Column Hierarchy:\n",
    "- Aimag/Duureg\n",
    "- Sum/Khoroo\n",
    "- Other"
   ]
  },
  {
   "cell_type": "markdown",
   "metadata": {},
   "source": [
    "Making a histogram to make the nervous people happy."
   ]
  },
  {
   "cell_type": "code",
   "execution_count": 51,
   "metadata": {},
   "outputs": [
    {
     "data": {
      "text/plain": [
       "0        Чингэ\n",
       "1        Сонги\n",
       "2        Булга\n",
       "3        Баянх\n",
       "4        Сонги\n",
       "         ...  \n",
       "42687    Баянз\n",
       "42688    Баянг\n",
       "42689    Сүхба\n",
       "42690    Баянг\n",
       "42691    Баянг\n",
       "Name: location, Length: 42692, dtype: object"
      ]
     },
     "execution_count": 51,
     "metadata": {},
     "output_type": "execute_result"
    }
   ],
   "source": [
    "df['location'].str[0:5]"
   ]
  },
  {
   "cell_type": "code",
   "execution_count": 52,
   "metadata": {},
   "outputs": [],
   "source": [
    "df['check'] = df['location'].str[0:5]"
   ]
  },
  {
   "cell_type": "code",
   "execution_count": 53,
   "metadata": {},
   "outputs": [
    {
     "data": {
      "text/plain": [
       "Баянз    6740\n",
       "Сүхба    5241\n",
       "Сонги    5233\n",
       "Баянг    4513\n",
       "Чингэ    3046\n",
       "Хан-У    2047\n",
       "Дорно    1578\n",
       "Төв а    1409\n",
       "Хөвсг    1241\n",
       "Дарха    1219\n",
       "Сэлэн    1149\n",
       "Орхон     930\n",
       "Өвөрх     924\n",
       "Архан     917\n",
       "Ховд      686\n",
       "Хэнти     671\n",
       "Налай     627\n",
       "Баянх     621\n",
       "Увс а     535\n",
       "Өмнөг     521\n",
       "Булга     513\n",
       "Баянө     463\n",
       "Баган     457\n",
       "Дундг     399\n",
       "Завха     357\n",
       "Говь-     326\n",
       "Говьс     299\n",
       "Багах      27\n",
       "Хаяг        3\n",
       "Name: check, dtype: int64"
      ]
     },
     "execution_count": 53,
     "metadata": {},
     "output_type": "execute_result"
    }
   ],
   "source": [
    "df['check'].value_counts()"
   ]
  },
  {
   "cell_type": "code",
   "execution_count": 54,
   "metadata": {},
   "outputs": [
    {
     "data": {
      "image/png": "[encoded data removed]",
      "text/plain": [
       "<Figure size 432x288 with 1 Axes>"
      ]
     },
     "metadata": {
      "needs_background": "light"
     },
     "output_type": "display_data"
    }
   ],
   "source": [
    "plt.hist(df['check'])\n",
    "plt.xticks(rotation=90)\n",
    "plt.show()"
   ]
  },
  {
   "cell_type": "code",
   "execution_count": 55,
   "metadata": {},
   "outputs": [],
   "source": [
    "df['aimag/duureg'] = df['location'].str.split('дүүрэг').str.get(0).str.split('аймаг').str.get(0).str.split(',').str.get(0).str.strip().str.split(' ').str.get(0).str.strip()"
   ]
  },
  {
   "cell_type": "code",
   "execution_count": 56,
   "metadata": {},
   "outputs": [
    {
     "data": {
      "image/png": "[encoded data removed]",
      "text/plain": [
       "<Figure size 432x288 with 1 Axes>"
      ]
     },
     "metadata": {
      "needs_background": "light"
     },
     "output_type": "display_data"
    }
   ],
   "source": [
    "plt.hist(df['aimag/duureg'].str[0:5])\n",
    "plt.xticks(rotation=90)\n",
    "plt.show()"
   ]
  },
  {
   "cell_type": "code",
   "execution_count": 57,
   "metadata": {},
   "outputs": [
    {
     "data": {
      "text/plain": [
       "array(['Чингэлтэй', 'Сонгинохайрхан', 'Булган', 'Баянхонгор', 'Баянгол',\n",
       "       'Хөвсгөл', 'Баянзүрх', 'Сүхбаатар', 'Сэлэнгэ', 'Төв', 'Өвөрхангай',\n",
       "       'Орхон', 'Дорноговь', 'Дундговь', 'Архангай', 'Налайх', 'Багануур',\n",
       "       'Хан-Уул', 'Хэнтий', 'Баянөлгий', 'Ховд', 'Багахангай',\n",
       "       'Дархан-уул', 'Говьсүмбэр', 'Увс', 'Говь-алтай', 'Дорнод',\n",
       "       'Завхан', 'Өмнөговь', 'Хаяг'], dtype=object)"
      ]
     },
     "execution_count": 57,
     "metadata": {},
     "output_type": "execute_result"
    }
   ],
   "source": [
    "df['aimag/duureg'].unique()"
   ]
  },
  {
   "cell_type": "code",
   "execution_count": 58,
   "metadata": {},
   "outputs": [
    {
     "data": {
      "text/plain": [
       "array(['Чингэлтэй дүүрэг, 4-р хороо,',\n",
       "       'Сонгинохайрхан дүүрэг, 12-р хороо,',\n",
       "       'Булган аймаг Дашинчилэн сум Доргонт баг, 2-р хороо,', ...,\n",
       "       'Чингэлтэй дүүрэг, 7-р хороо, Хувьсгалчдын,',\n",
       "       'Баянгол дүүрэг, 19-р хороо, парадоксын автобусны буудлын орчим,',\n",
       "       'Баянгол дүүрэг, 22-р хороо, такара зочид буудалд,'], dtype=object)"
      ]
     },
     "execution_count": 58,
     "metadata": {},
     "output_type": "execute_result"
    }
   ],
   "source": [
    "df['location'].unique()"
   ]
  },
  {
   "cell_type": "code",
   "execution_count": 57,
   "metadata": {},
   "outputs": [],
   "source": [
    "soum = df['location'].str.split('дүүрэг').str.get(0).str.split('аймаг').str.get(1).str.split('сум').str.get(0).str.strip().dropna()"
   ]
  },
  {
   "cell_type": "code",
   "execution_count": 58,
   "metadata": {},
   "outputs": [],
   "source": [
    "khoroo = df['location'].str.split('дүүрэг').str.get(1).str.replace(',','').str.split('-р хороо').str.get(0).str.strip().dropna()"
   ]
  },
  {
   "cell_type": "code",
   "execution_count": 65,
   "metadata": {},
   "outputs": [
    {
     "data": {
      "text/plain": [
       "0         4\n",
       "1        12\n",
       "4        29\n",
       "5         2\n",
       "7         4\n",
       "         ..\n",
       "42687     1\n",
       "42688    20\n",
       "42689    13\n",
       "42690    22\n",
       "42691    20\n",
       "Name: location, Length: 24834, dtype: object"
      ]
     },
     "execution_count": 65,
     "metadata": {},
     "output_type": "execute_result"
    }
   ],
   "source": [
    "df['location'].str.split('дүүрэг').str.get(1).str.replace(',','').str.split('-р хороо').str.get(0).str.strip().dropna()"
   ]
  },
  {
   "cell_type": "code",
   "execution_count": 64,
   "metadata": {},
   "outputs": [
    {
     "data": {
      "text/plain": [
       "0                               , 4-р хороо,\n",
       "1                              , 12-р хороо,\n",
       "2                                        NaN\n",
       "3                                        NaN\n",
       "4                              , 29-р хороо,\n",
       "                        ...                 \n",
       "42687                           , 1-р хороо,\n",
       "42688                          , 20-р хороо,\n",
       "42689           , 13-р хороо, ногоон талбай,\n",
       "42690    , 22-р хороо, такара зочид буудалд,\n",
       "42691                          , 20-р хороо,\n",
       "Name: location, Length: 42692, dtype: object"
      ]
     },
     "execution_count": 64,
     "metadata": {},
     "output_type": "execute_result"
    }
   ],
   "source": [
    "df['location'].str.split('дүүрэг').str.get(1)"
   ]
  },
  {
   "cell_type": "code",
   "execution_count": 62,
   "metadata": {},
   "outputs": [
    {
     "data": {
      "text/plain": [
       "42692"
      ]
     },
     "execution_count": 62,
     "metadata": {},
     "output_type": "execute_result"
    }
   ],
   "source": [
    "df.shape[0]"
   ]
  },
  {
   "cell_type": "code",
   "execution_count": 60,
   "metadata": {},
   "outputs": [
    {
     "data": {
      "text/plain": [
       "40158"
      ]
     },
     "execution_count": 60,
     "metadata": {},
     "output_type": "execute_result"
    }
   ],
   "source": [
    "soum.shape[0] + khoroo.shape[0]"
   ]
  },
  {
   "cell_type": "code",
   "execution_count": 64,
   "metadata": {},
   "outputs": [],
   "source": [
    "df['soum/khoroo'] = pd.concat([soum, khoroo]).sort_index()"
   ]
  },
  {
   "cell_type": "code",
   "execution_count": 66,
   "metadata": {},
   "outputs": [
    {
     "data": {
      "text/plain": [
       "0        False\n",
       "1        False\n",
       "2        False\n",
       "3        False\n",
       "4        False\n",
       "         ...  \n",
       "42687    False\n",
       "42688    False\n",
       "42689    False\n",
       "42690    False\n",
       "42691    False\n",
       "Name: aimag/duureg, Length: 42692, dtype: bool"
      ]
     },
     "execution_count": 66,
     "metadata": {},
     "output_type": "execute_result"
    }
   ],
   "source": [
    "df['aimag/duureg'] == 'Багануур'"
   ]
  },
  {
   "cell_type": "code",
   "execution_count": 65,
   "metadata": {},
   "outputs": [
    {
     "data": {
      "text/plain": [
       "type               0\n",
       "date               0\n",
       "location           0\n",
       "station            0\n",
       "check              0\n",
       "aimag/duureg       0\n",
       "soum/khoroo     2534\n",
       "dtype: int64"
      ]
     },
     "execution_count": 65,
     "metadata": {},
     "output_type": "execute_result"
    }
   ],
   "source": [
    "df.isnull().sum()"
   ]
  },
  {
   "cell_type": "code",
   "execution_count": 68,
   "metadata": {},
   "outputs": [],
   "source": [
    "weird_ones = df[df['soum/khoroo'].isnull()]['location'].str.split('дүүрэг').str.get(0).str.split('-р хороо').str.get(0).str.split(',').str.get(1).str.strip()"
   ]
  },
  {
   "cell_type": "code",
   "execution_count": 69,
   "metadata": {},
   "outputs": [],
   "source": [
    "df['soum/khoroo'] = pd.concat([soum,khoroo,weird_ones]).sort_index()"
   ]
  },
  {
   "cell_type": "code",
   "execution_count": 70,
   "metadata": {},
   "outputs": [
    {
     "data": {
      "text/plain": [
       "type            0\n",
       "date            0\n",
       "location        0\n",
       "station         0\n",
       "check           0\n",
       "aimag/duureg    0\n",
       "soum/khoroo     0\n",
       "dtype: int64"
      ]
     },
     "execution_count": 70,
     "metadata": {},
     "output_type": "execute_result"
    }
   ],
   "source": [
    "df.isnull().sum()"
   ]
  },
  {
   "cell_type": "code",
   "execution_count": 71,
   "metadata": {},
   "outputs": [],
   "source": [
    "df = df.drop(columns=['check'])"
   ]
  },
  {
   "cell_type": "code",
   "execution_count": 72,
   "metadata": {},
   "outputs": [
    {
     "data": {
      "text/html": [
       "<div>\n",
       "<style scoped>\n",
       "    .dataframe tbody tr th:only-of-type {\n",
       "        vertical-align: middle;\n",
       "    }\n",
       "\n",
       "    .dataframe tbody tr th {\n",
       "        vertical-align: top;\n",
       "    }\n",
       "\n",
       "    .dataframe thead th {\n",
       "        text-align: right;\n",
       "    }\n",
       "</style>\n",
       "<table border=\"1\" class=\"dataframe\">\n",
       "  <thead>\n",
       "    <tr style=\"text-align: right;\">\n",
       "      <th></th>\n",
       "      <th>type</th>\n",
       "      <th>date</th>\n",
       "      <th>location</th>\n",
       "      <th>station</th>\n",
       "      <th>aimag/duureg</th>\n",
       "      <th>soum/khoroo</th>\n",
       "    </tr>\n",
       "  </thead>\n",
       "  <tbody>\n",
       "    <tr>\n",
       "      <th>0</th>\n",
       "      <td>Хулгайлах - Иргэдийн өмч</td>\n",
       "      <td>2015-01-01</td>\n",
       "      <td>Чингэлтэй дүүрэг, 4-р хороо,</td>\n",
       "      <td>Чингэлтэй дүүрэг дэх цагдаагийн 2-р хэлтэс</td>\n",
       "      <td>Чингэлтэй</td>\n",
       "      <td>4</td>\n",
       "    </tr>\n",
       "    <tr>\n",
       "      <th>1</th>\n",
       "      <td>Хулгайлах - Иргэдийн өмч</td>\n",
       "      <td>2015-01-01</td>\n",
       "      <td>Сонгинохайрхан дүүрэг, 12-р хороо,</td>\n",
       "      <td>Сонгинохайрхан дүүрэг дэх цагдаагийн 3-р хэлтэс</td>\n",
       "      <td>Сонгинохайрхан</td>\n",
       "      <td>12</td>\n",
       "    </tr>\n",
       "    <tr>\n",
       "      <th>2</th>\n",
       "      <td>Хулгайлах - Мал</td>\n",
       "      <td>2015-01-01</td>\n",
       "      <td>Булган аймаг Дашинчилэн сум Доргонт баг, 2-р х...</td>\n",
       "      <td>Булган аймаг дахь ЦГ</td>\n",
       "      <td>Булган</td>\n",
       "      <td>Дашинчилэн</td>\n",
       "    </tr>\n",
       "    <tr>\n",
       "      <th>3</th>\n",
       "      <td>Бусдын бие махбодид гэмтэл учруулах</td>\n",
       "      <td>2015-01-01</td>\n",
       "      <td>Баянхонгор аймаг Баянхонгор сум 1 дүгээр баг Н...</td>\n",
       "      <td>Баянхонгор аймаг дахь ЦГ</td>\n",
       "      <td>Баянхонгор</td>\n",
       "      <td>Баянхонгор</td>\n",
       "    </tr>\n",
       "    <tr>\n",
       "      <th>4</th>\n",
       "      <td>Дээрэмдэх</td>\n",
       "      <td>2015-01-01</td>\n",
       "      <td>Сонгинохайрхан дүүрэг, 29-р хороо,</td>\n",
       "      <td>Сонгинохайрхан дүүрэг дэх цагдаагийн 3-р хэлтэс</td>\n",
       "      <td>Сонгинохайрхан</td>\n",
       "      <td>29</td>\n",
       "    </tr>\n",
       "    <tr>\n",
       "      <th>...</th>\n",
       "      <td>...</td>\n",
       "      <td>...</td>\n",
       "      <td>...</td>\n",
       "      <td>...</td>\n",
       "      <td>...</td>\n",
       "      <td>...</td>\n",
       "    </tr>\n",
       "    <tr>\n",
       "      <th>42687</th>\n",
       "      <td>Хулгайлах - Халаас</td>\n",
       "      <td>2016-12-30</td>\n",
       "      <td>Баянзүрх дүүрэг, 1-р хороо,</td>\n",
       "      <td>Баянзүрх дүүрэг дэх цагдаагийн 2-р хэлтэс</td>\n",
       "      <td>Баянзүрх</td>\n",
       "      <td>1</td>\n",
       "    </tr>\n",
       "    <tr>\n",
       "      <th>42688</th>\n",
       "      <td>Хулгайлах - Иргэдийн өмч</td>\n",
       "      <td>2016-12-30</td>\n",
       "      <td>Баянгол дүүрэг, 20-р хороо,</td>\n",
       "      <td>Баянгол дүүрэг дэх цагдаагийн 2-р хэлтэс</td>\n",
       "      <td>Баянгол</td>\n",
       "      <td>20</td>\n",
       "    </tr>\n",
       "    <tr>\n",
       "      <th>42689</th>\n",
       "      <td>Хулгайлах - Иргэдийн өмч</td>\n",
       "      <td>2016-12-30</td>\n",
       "      <td>Сүхбаатар дүүрэг, 13-р хороо, ногоон талбай,</td>\n",
       "      <td>Сүхбаатар дүүрэг дэх цагдаагийн 2-р хэлтэс</td>\n",
       "      <td>Сүхбаатар</td>\n",
       "      <td>13</td>\n",
       "    </tr>\n",
       "    <tr>\n",
       "      <th>42690</th>\n",
       "      <td>Хүчиндэх</td>\n",
       "      <td>2016-12-30</td>\n",
       "      <td>Баянгол дүүрэг, 22-р хороо, такара зочид буудалд,</td>\n",
       "      <td>Баянгол дүүрэг дэх цагдаагийн 1-р хэлтэс</td>\n",
       "      <td>Баянгол</td>\n",
       "      <td>22</td>\n",
       "    </tr>\n",
       "    <tr>\n",
       "      <th>42691</th>\n",
       "      <td>Хулгайлах - Халаас</td>\n",
       "      <td>2016-12-30</td>\n",
       "      <td>Баянгол дүүрэг, 20-р хороо,</td>\n",
       "      <td>Баянгол дүүрэг дэх цагдаагийн 2-р хэлтэс</td>\n",
       "      <td>Баянгол</td>\n",
       "      <td>20</td>\n",
       "    </tr>\n",
       "  </tbody>\n",
       "</table>\n",
       "<p>42692 rows × 6 columns</p>\n",
       "</div>"
      ],
      "text/plain": [
       "                                      type       date  \\\n",
       "0                 Хулгайлах - Иргэдийн өмч 2015-01-01   \n",
       "1                 Хулгайлах - Иргэдийн өмч 2015-01-01   \n",
       "2                          Хулгайлах - Мал 2015-01-01   \n",
       "3      Бусдын бие махбодид гэмтэл учруулах 2015-01-01   \n",
       "4                                Дээрэмдэх 2015-01-01   \n",
       "...                                    ...        ...   \n",
       "42687                   Хулгайлах - Халаас 2016-12-30   \n",
       "42688             Хулгайлах - Иргэдийн өмч 2016-12-30   \n",
       "42689             Хулгайлах - Иргэдийн өмч 2016-12-30   \n",
       "42690                             Хүчиндэх 2016-12-30   \n",
       "42691                   Хулгайлах - Халаас 2016-12-30   \n",
       "\n",
       "                                                location  \\\n",
       "0                           Чингэлтэй дүүрэг, 4-р хороо,   \n",
       "1                     Сонгинохайрхан дүүрэг, 12-р хороо,   \n",
       "2      Булган аймаг Дашинчилэн сум Доргонт баг, 2-р х...   \n",
       "3      Баянхонгор аймаг Баянхонгор сум 1 дүгээр баг Н...   \n",
       "4                     Сонгинохайрхан дүүрэг, 29-р хороо,   \n",
       "...                                                  ...   \n",
       "42687                        Баянзүрх дүүрэг, 1-р хороо,   \n",
       "42688                        Баянгол дүүрэг, 20-р хороо,   \n",
       "42689       Сүхбаатар дүүрэг, 13-р хороо, ногоон талбай,   \n",
       "42690  Баянгол дүүрэг, 22-р хороо, такара зочид буудалд,   \n",
       "42691                        Баянгол дүүрэг, 20-р хороо,   \n",
       "\n",
       "                                               station    aimag/duureg  \\\n",
       "0           Чингэлтэй дүүрэг дэх цагдаагийн 2-р хэлтэс       Чингэлтэй   \n",
       "1      Сонгинохайрхан дүүрэг дэх цагдаагийн 3-р хэлтэс  Сонгинохайрхан   \n",
       "2                                 Булган аймаг дахь ЦГ          Булган   \n",
       "3                             Баянхонгор аймаг дахь ЦГ      Баянхонгор   \n",
       "4      Сонгинохайрхан дүүрэг дэх цагдаагийн 3-р хэлтэс  Сонгинохайрхан   \n",
       "...                                                ...             ...   \n",
       "42687        Баянзүрх дүүрэг дэх цагдаагийн 2-р хэлтэс        Баянзүрх   \n",
       "42688         Баянгол дүүрэг дэх цагдаагийн 2-р хэлтэс         Баянгол   \n",
       "42689       Сүхбаатар дүүрэг дэх цагдаагийн 2-р хэлтэс       Сүхбаатар   \n",
       "42690         Баянгол дүүрэг дэх цагдаагийн 1-р хэлтэс         Баянгол   \n",
       "42691         Баянгол дүүрэг дэх цагдаагийн 2-р хэлтэс         Баянгол   \n",
       "\n",
       "      soum/khoroo  \n",
       "0               4  \n",
       "1              12  \n",
       "2      Дашинчилэн  \n",
       "3      Баянхонгор  \n",
       "4              29  \n",
       "...           ...  \n",
       "42687           1  \n",
       "42688          20  \n",
       "42689          13  \n",
       "42690          22  \n",
       "42691          20  \n",
       "\n",
       "[42692 rows x 6 columns]"
      ]
     },
     "execution_count": 72,
     "metadata": {},
     "output_type": "execute_result"
    }
   ],
   "source": [
    "df"
   ]
  },
  {
   "cell_type": "code",
   "execution_count": 73,
   "metadata": {},
   "outputs": [],
   "source": [
    "import plotly.express as px"
   ]
  },
  {
   "cell_type": "code",
   "execution_count": 74,
   "metadata": {},
   "outputs": [
    {
     "data": {
      "text/html": [
       "<div>\n",
       "<style scoped>\n",
       "    .dataframe tbody tr th:only-of-type {\n",
       "        vertical-align: middle;\n",
       "    }\n",
       "\n",
       "    .dataframe tbody tr th {\n",
       "        vertical-align: top;\n",
       "    }\n",
       "\n",
       "    .dataframe thead th {\n",
       "        text-align: right;\n",
       "    }\n",
       "</style>\n",
       "<table border=\"1\" class=\"dataframe\">\n",
       "  <thead>\n",
       "    <tr style=\"text-align: right;\">\n",
       "      <th></th>\n",
       "      <th>type</th>\n",
       "      <th>date</th>\n",
       "      <th>location</th>\n",
       "      <th>station</th>\n",
       "      <th>aimag/duureg</th>\n",
       "      <th>soum/khoroo</th>\n",
       "    </tr>\n",
       "  </thead>\n",
       "  <tbody>\n",
       "    <tr>\n",
       "      <th>0</th>\n",
       "      <td>Хулгайлах - Иргэдийн өмч</td>\n",
       "      <td>2015-01-01</td>\n",
       "      <td>Чингэлтэй дүүрэг, 4-р хороо,</td>\n",
       "      <td>Чингэлтэй дүүрэг дэх цагдаагийн 2-р хэлтэс</td>\n",
       "      <td>Чингэлтэй</td>\n",
       "      <td>4</td>\n",
       "    </tr>\n",
       "  </tbody>\n",
       "</table>\n",
       "</div>"
      ],
      "text/plain": [
       "                       type       date                      location  \\\n",
       "0  Хулгайлах - Иргэдийн өмч 2015-01-01  Чингэлтэй дүүрэг, 4-р хороо,   \n",
       "\n",
       "                                      station aimag/duureg soum/khoroo  \n",
       "0  Чингэлтэй дүүрэг дэх цагдаагийн 2-р хэлтэс    Чингэлтэй           4  "
      ]
     },
     "execution_count": 74,
     "metadata": {},
     "output_type": "execute_result"
    }
   ],
   "source": [
    "df.head(1)"
   ]
  },
  {
   "cell_type": "code",
   "execution_count": null,
   "metadata": {},
   "outputs": [],
   "source": [
    "px.choropleth_mapbox(df, geojson=counties, locations='fips', color='unemp')"
   ]
  },
  {
   "cell_type": "code",
   "execution_count": 76,
   "metadata": {},
   "outputs": [],
   "source": [
    "df.to_csv('crime_cleaned.csv', index=False)"
   ]
  },
  {
   "cell_type": "code",
   "execution_count": null,
   "metadata": {},
   "outputs": [],
   "source": []
  }
 ],
 "metadata": {
  "kernelspec": {
   "display_name": "Python 3 (ipykernel)",
   "language": "python",
   "name": "python3"
  },
  "language_info": {
   "codemirror_mode": {
    "name": "ipython",
    "version": 3
   },
   "file_extension": ".py",
   "mimetype": "text/x-python",
   "name": "python",
   "nbconvert_exporter": "python",
   "pygments_lexer": "ipython3",
   "version": "3.9.6"
  }
 },
 "nbformat": 4,
 "nbformat_minor": 4
}
